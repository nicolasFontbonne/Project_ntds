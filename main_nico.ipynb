{
 "cells": [
  {
   "cell_type": "markdown",
   "metadata": {},
   "source": [
    "# Nicolas\n",
    "---"
   ]
  },
  {
   "cell_type": "markdown",
   "metadata": {},
   "source": [
    "## Importing stuff"
   ]
  },
  {
   "cell_type": "code",
   "execution_count": 1,
   "metadata": {},
   "outputs": [],
   "source": [
    "%matplotlib inline\n",
    "import numpy as np\n",
    "import pandas as pd\n",
    "from matplotlib import pyplot as plt\n",
    "import math"
   ]
  },
  {
   "cell_type": "markdown",
   "metadata": {},
   "source": [
    "---\n",
    "## Loading data"
   ]
  },
  {
   "cell_type": "markdown",
   "metadata": {},
   "source": [
    "* **route**"
   ]
  },
  {
   "cell_type": "code",
   "execution_count": 2,
   "metadata": {},
   "outputs": [
    {
     "data": {
      "text/html": [
       "<div>\n",
       "<style scoped>\n",
       "    .dataframe tbody tr th:only-of-type {\n",
       "        vertical-align: middle;\n",
       "    }\n",
       "\n",
       "    .dataframe tbody tr th {\n",
       "        vertical-align: top;\n",
       "    }\n",
       "\n",
       "    .dataframe thead th {\n",
       "        text-align: right;\n",
       "    }\n",
       "</style>\n",
       "<table border=\"1\" class=\"dataframe\">\n",
       "  <thead>\n",
       "    <tr style=\"text-align: right;\">\n",
       "      <th></th>\n",
       "      <th>Airline</th>\n",
       "      <th>AirlineID</th>\n",
       "      <th>SourceAirport</th>\n",
       "      <th>SourceAirportID</th>\n",
       "      <th>DestinationAirport</th>\n",
       "      <th>DestinationAirportID</th>\n",
       "      <th>Codeshare</th>\n",
       "      <th>Stops</th>\n",
       "      <th>Equipment</th>\n",
       "    </tr>\n",
       "  </thead>\n",
       "  <tbody>\n",
       "    <tr>\n",
       "      <th>0</th>\n",
       "      <td>2B</td>\n",
       "      <td>410</td>\n",
       "      <td>ASF</td>\n",
       "      <td>2966</td>\n",
       "      <td>KZN</td>\n",
       "      <td>2990</td>\n",
       "      <td>NaN</td>\n",
       "      <td>0</td>\n",
       "      <td>CR2</td>\n",
       "    </tr>\n",
       "    <tr>\n",
       "      <th>1</th>\n",
       "      <td>2B</td>\n",
       "      <td>410</td>\n",
       "      <td>ASF</td>\n",
       "      <td>2966</td>\n",
       "      <td>MRV</td>\n",
       "      <td>2962</td>\n",
       "      <td>NaN</td>\n",
       "      <td>0</td>\n",
       "      <td>CR2</td>\n",
       "    </tr>\n",
       "  </tbody>\n",
       "</table>\n",
       "</div>"
      ],
      "text/plain": [
       "  Airline AirlineID SourceAirport SourceAirportID DestinationAirport  \\\n",
       "0      2B       410           ASF            2966                KZN   \n",
       "1      2B       410           ASF            2966                MRV   \n",
       "\n",
       "  DestinationAirportID Codeshare  Stops Equipment  \n",
       "0                 2990       NaN      0       CR2  \n",
       "1                 2962       NaN      0       CR2  "
      ]
     },
     "execution_count": 2,
     "metadata": {},
     "output_type": "execute_result"
    }
   ],
   "source": [
    "routes = pd.read_csv('data/routes.dat', sep=',', encoding='utf-8')\n",
    "routes.columns = ['Airline','AirlineID','SourceAirport','SourceAirportID','DestinationAirport','DestinationAirportID','Codeshare','Stops','Equipment']\n",
    "routes.head(2)"
   ]
  },
  {
   "cell_type": "markdown",
   "metadata": {},
   "source": [
    "* **airlines**"
   ]
  },
  {
   "cell_type": "code",
   "execution_count": 3,
   "metadata": {},
   "outputs": [
    {
     "data": {
      "text/html": [
       "<div>\n",
       "<style scoped>\n",
       "    .dataframe tbody tr th:only-of-type {\n",
       "        vertical-align: middle;\n",
       "    }\n",
       "\n",
       "    .dataframe tbody tr th {\n",
       "        vertical-align: top;\n",
       "    }\n",
       "\n",
       "    .dataframe thead th {\n",
       "        text-align: right;\n",
       "    }\n",
       "</style>\n",
       "<table border=\"1\" class=\"dataframe\">\n",
       "  <thead>\n",
       "    <tr style=\"text-align: right;\">\n",
       "      <th></th>\n",
       "      <th>AirlineID</th>\n",
       "      <th>Name</th>\n",
       "      <th>Alias</th>\n",
       "      <th>IATA</th>\n",
       "      <th>ICAO</th>\n",
       "      <th>Callsign</th>\n",
       "      <th>Country</th>\n",
       "      <th>Active</th>\n",
       "    </tr>\n",
       "  </thead>\n",
       "  <tbody>\n",
       "    <tr>\n",
       "      <th>0</th>\n",
       "      <td>1</td>\n",
       "      <td>Private flight</td>\n",
       "      <td>\\N</td>\n",
       "      <td>-</td>\n",
       "      <td>NaN</td>\n",
       "      <td>NaN</td>\n",
       "      <td>NaN</td>\n",
       "      <td>Y</td>\n",
       "    </tr>\n",
       "    <tr>\n",
       "      <th>1</th>\n",
       "      <td>2</td>\n",
       "      <td>135 Airways</td>\n",
       "      <td>\\N</td>\n",
       "      <td>NaN</td>\n",
       "      <td>GNL</td>\n",
       "      <td>GENERAL</td>\n",
       "      <td>United States</td>\n",
       "      <td>N</td>\n",
       "    </tr>\n",
       "  </tbody>\n",
       "</table>\n",
       "</div>"
      ],
      "text/plain": [
       "   AirlineID            Name Alias IATA ICAO Callsign        Country Active\n",
       "0          1  Private flight    \\N    -  NaN      NaN            NaN      Y\n",
       "1          2     135 Airways    \\N  NaN  GNL  GENERAL  United States      N"
      ]
     },
     "execution_count": 3,
     "metadata": {},
     "output_type": "execute_result"
    }
   ],
   "source": [
    "airlines = pd.read_csv('data/airlines.dat', sep=',', encoding='utf-8')\n",
    "airlines.columns = ['AirlineID', 'Name', 'Alias',  'IATA', 'ICAO','Callsign','Country','Active']\n",
    "airlines.head(2)"
   ]
  },
  {
   "cell_type": "markdown",
   "metadata": {},
   "source": [
    "* **airports**"
   ]
  },
  {
   "cell_type": "code",
   "execution_count": 4,
   "metadata": {
    "scrolled": false
   },
   "outputs": [
    {
     "data": {
      "text/html": [
       "<div>\n",
       "<style scoped>\n",
       "    .dataframe tbody tr th:only-of-type {\n",
       "        vertical-align: middle;\n",
       "    }\n",
       "\n",
       "    .dataframe tbody tr th {\n",
       "        vertical-align: top;\n",
       "    }\n",
       "\n",
       "    .dataframe thead th {\n",
       "        text-align: right;\n",
       "    }\n",
       "</style>\n",
       "<table border=\"1\" class=\"dataframe\">\n",
       "  <thead>\n",
       "    <tr style=\"text-align: right;\">\n",
       "      <th></th>\n",
       "      <th>AirportID</th>\n",
       "      <th>Name</th>\n",
       "      <th>City</th>\n",
       "      <th>Country</th>\n",
       "      <th>IATA</th>\n",
       "      <th>ICAO</th>\n",
       "      <th>Latitude</th>\n",
       "      <th>Longitude</th>\n",
       "      <th>Altitude</th>\n",
       "      <th>Timezone</th>\n",
       "      <th>DST</th>\n",
       "      <th>TzdatabaseTimeZone</th>\n",
       "      <th>Type</th>\n",
       "      <th>Source</th>\n",
       "    </tr>\n",
       "  </thead>\n",
       "  <tbody>\n",
       "    <tr>\n",
       "      <th>0</th>\n",
       "      <td>2</td>\n",
       "      <td>Madang Airport</td>\n",
       "      <td>Madang</td>\n",
       "      <td>Papua New Guinea</td>\n",
       "      <td>MAG</td>\n",
       "      <td>AYMD</td>\n",
       "      <td>-5.20708</td>\n",
       "      <td>145.789001</td>\n",
       "      <td>20</td>\n",
       "      <td>10</td>\n",
       "      <td>U</td>\n",
       "      <td>Pacific/Port_Moresby</td>\n",
       "      <td>airport</td>\n",
       "      <td>OurAirports</td>\n",
       "    </tr>\n",
       "    <tr>\n",
       "      <th>1</th>\n",
       "      <td>3</td>\n",
       "      <td>Mount Hagen Kagamuga Airport</td>\n",
       "      <td>Mount Hagen</td>\n",
       "      <td>Papua New Guinea</td>\n",
       "      <td>HGU</td>\n",
       "      <td>AYMH</td>\n",
       "      <td>-5.82679</td>\n",
       "      <td>144.296005</td>\n",
       "      <td>5388</td>\n",
       "      <td>10</td>\n",
       "      <td>U</td>\n",
       "      <td>Pacific/Port_Moresby</td>\n",
       "      <td>airport</td>\n",
       "      <td>OurAirports</td>\n",
       "    </tr>\n",
       "  </tbody>\n",
       "</table>\n",
       "</div>"
      ],
      "text/plain": [
       "   AirportID                          Name         City           Country  \\\n",
       "0          2                Madang Airport       Madang  Papua New Guinea   \n",
       "1          3  Mount Hagen Kagamuga Airport  Mount Hagen  Papua New Guinea   \n",
       "\n",
       "  IATA  ICAO  Latitude   Longitude Altitude Timezone DST  \\\n",
       "0  MAG  AYMD  -5.20708  145.789001       20       10   U   \n",
       "1  HGU  AYMH  -5.82679  144.296005     5388       10   U   \n",
       "\n",
       "     TzdatabaseTimeZone     Type       Source  \n",
       "0  Pacific/Port_Moresby  airport  OurAirports  \n",
       "1  Pacific/Port_Moresby  airport  OurAirports  "
      ]
     },
     "execution_count": 4,
     "metadata": {},
     "output_type": "execute_result"
    }
   ],
   "source": [
    "airports = pd.read_csv('data/airports.dat', sep=',', encoding='utf-8')\n",
    "airports.columns = ['AirportID', 'Name', 'City', 'Country', 'IATA', 'ICAO','Latitude','Longitude','Altitude', 'Timezone','DST', 'TzdatabaseTimeZone', 'Type', 'Source']\n",
    "airports.head(2)"
   ]
  },
  {
   "cell_type": "markdown",
   "metadata": {},
   "source": [
    "* **alliances**"
   ]
  },
  {
   "cell_type": "code",
   "execution_count": 5,
   "metadata": {},
   "outputs": [
    {
     "data": {
      "text/html": [
       "<div>\n",
       "<style scoped>\n",
       "    .dataframe tbody tr th:only-of-type {\n",
       "        vertical-align: middle;\n",
       "    }\n",
       "\n",
       "    .dataframe tbody tr th {\n",
       "        vertical-align: top;\n",
       "    }\n",
       "\n",
       "    .dataframe thead th {\n",
       "        text-align: right;\n",
       "    }\n",
       "</style>\n",
       "<table border=\"1\" class=\"dataframe\">\n",
       "  <thead>\n",
       "    <tr style=\"text-align: right;\">\n",
       "      <th></th>\n",
       "      <th>Alliance</th>\n",
       "      <th>Airline</th>\n",
       "    </tr>\n",
       "  </thead>\n",
       "  <tbody>\n",
       "    <tr>\n",
       "      <th>0</th>\n",
       "      <td>Star Alliance</td>\n",
       "      <td>Adria Airways</td>\n",
       "    </tr>\n",
       "    <tr>\n",
       "      <th>1</th>\n",
       "      <td>Star Alliance</td>\n",
       "      <td>Aegean Airlines</td>\n",
       "    </tr>\n",
       "  </tbody>\n",
       "</table>\n",
       "</div>"
      ],
      "text/plain": [
       "        Alliance          Airline\n",
       "0  Star Alliance    Adria Airways\n",
       "1  Star Alliance  Aegean Airlines"
      ]
     },
     "execution_count": 5,
     "metadata": {},
     "output_type": "execute_result"
    }
   ],
   "source": [
    "alliances = pd.read_csv('data/alliances.dat', sep=',', encoding='utf-8')\n",
    "alliances.head(2)"
   ]
  },
  {
   "cell_type": "code",
   "execution_count": 6,
   "metadata": {},
   "outputs": [
    {
     "data": {
      "text/plain": [
       "(60, 2)"
      ]
     },
     "execution_count": 6,
     "metadata": {},
     "output_type": "execute_result"
    }
   ],
   "source": [
    "alliances.shape"
   ]
  },
  {
   "cell_type": "markdown",
   "metadata": {},
   "source": [
    "All the airlines from `alliances.dat` now have a correspondance in the airlines data base with the rigth name."
   ]
  },
  {
   "cell_type": "markdown",
   "metadata": {},
   "source": [
    "---\n",
    "## Creating some array"
   ]
  },
  {
   "cell_type": "markdown",
   "metadata": {},
   "source": [
    "From Marie's work :"
   ]
  },
  {
   "cell_type": "code",
   "execution_count": 7,
   "metadata": {},
   "outputs": [
    {
     "data": {
      "text/html": [
       "<div>\n",
       "<style scoped>\n",
       "    .dataframe tbody tr th:only-of-type {\n",
       "        vertical-align: middle;\n",
       "    }\n",
       "\n",
       "    .dataframe tbody tr th {\n",
       "        vertical-align: top;\n",
       "    }\n",
       "\n",
       "    .dataframe thead th {\n",
       "        text-align: right;\n",
       "    }\n",
       "</style>\n",
       "<table border=\"1\" class=\"dataframe\">\n",
       "  <thead>\n",
       "    <tr style=\"text-align: right;\">\n",
       "      <th></th>\n",
       "      <th>Alliance</th>\n",
       "      <th>Name</th>\n",
       "      <th>IATA</th>\n",
       "      <th>Country</th>\n",
       "    </tr>\n",
       "  </thead>\n",
       "  <tbody>\n",
       "    <tr>\n",
       "      <th>0</th>\n",
       "      <td>Star Alliance</td>\n",
       "      <td>Adria Airways</td>\n",
       "      <td>JP</td>\n",
       "      <td>Slovenia</td>\n",
       "    </tr>\n",
       "    <tr>\n",
       "      <th>1</th>\n",
       "      <td>Star Alliance</td>\n",
       "      <td>Aegean Airlines</td>\n",
       "      <td>A3</td>\n",
       "      <td>Greece</td>\n",
       "    </tr>\n",
       "  </tbody>\n",
       "</table>\n",
       "</div>"
      ],
      "text/plain": [
       "        Alliance             Name IATA   Country\n",
       "0  Star Alliance    Adria Airways   JP  Slovenia\n",
       "1  Star Alliance  Aegean Airlines   A3    Greece"
      ]
     },
     "execution_count": 7,
     "metadata": {},
     "output_type": "execute_result"
    }
   ],
   "source": [
    "airl_alliances  = pd.merge(alliances, airlines, left_on='Airline', right_on='Name', how = 'left')[['Alliance', 'Name', 'IATA', 'Country']]\n",
    "airl_alliances.head(2)"
   ]
  },
  {
   "cell_type": "code",
   "execution_count": 8,
   "metadata": {},
   "outputs": [
    {
     "data": {
      "text/html": [
       "<div>\n",
       "<style scoped>\n",
       "    .dataframe tbody tr th:only-of-type {\n",
       "        vertical-align: middle;\n",
       "    }\n",
       "\n",
       "    .dataframe tbody tr th {\n",
       "        vertical-align: top;\n",
       "    }\n",
       "\n",
       "    .dataframe thead th {\n",
       "        text-align: right;\n",
       "    }\n",
       "</style>\n",
       "<table border=\"1\" class=\"dataframe\">\n",
       "  <thead>\n",
       "    <tr style=\"text-align: right;\">\n",
       "      <th></th>\n",
       "      <th>Airline</th>\n",
       "      <th>AirlineID</th>\n",
       "      <th>SourceAirport</th>\n",
       "      <th>SourceAirportID</th>\n",
       "      <th>DestinationAirport</th>\n",
       "      <th>DestinationAirportID</th>\n",
       "      <th>Codeshare</th>\n",
       "      <th>Stops</th>\n",
       "      <th>Equipment</th>\n",
       "      <th>Alliance</th>\n",
       "      <th>Name</th>\n",
       "      <th>IATA</th>\n",
       "      <th>Country</th>\n",
       "    </tr>\n",
       "  </thead>\n",
       "  <tbody>\n",
       "    <tr>\n",
       "      <th>0</th>\n",
       "      <td>2B</td>\n",
       "      <td>410</td>\n",
       "      <td>ASF</td>\n",
       "      <td>2966</td>\n",
       "      <td>KZN</td>\n",
       "      <td>2990</td>\n",
       "      <td>NaN</td>\n",
       "      <td>0</td>\n",
       "      <td>CR2</td>\n",
       "      <td>NaN</td>\n",
       "      <td>NaN</td>\n",
       "      <td>NaN</td>\n",
       "      <td>NaN</td>\n",
       "    </tr>\n",
       "    <tr>\n",
       "      <th>1</th>\n",
       "      <td>2B</td>\n",
       "      <td>410</td>\n",
       "      <td>ASF</td>\n",
       "      <td>2966</td>\n",
       "      <td>MRV</td>\n",
       "      <td>2962</td>\n",
       "      <td>NaN</td>\n",
       "      <td>0</td>\n",
       "      <td>CR2</td>\n",
       "      <td>NaN</td>\n",
       "      <td>NaN</td>\n",
       "      <td>NaN</td>\n",
       "      <td>NaN</td>\n",
       "    </tr>\n",
       "  </tbody>\n",
       "</table>\n",
       "</div>"
      ],
      "text/plain": [
       "  Airline AirlineID SourceAirport SourceAirportID DestinationAirport  \\\n",
       "0      2B       410           ASF            2966                KZN   \n",
       "1      2B       410           ASF            2966                MRV   \n",
       "\n",
       "  DestinationAirportID Codeshare  Stops Equipment Alliance Name IATA Country  \n",
       "0                 2990       NaN      0       CR2      NaN  NaN  NaN     NaN  \n",
       "1                 2962       NaN      0       CR2      NaN  NaN  NaN     NaN  "
      ]
     },
     "execution_count": 8,
     "metadata": {},
     "output_type": "execute_result"
    }
   ],
   "source": [
    "routes_alce = pd.merge(routes, airl_alliances, left_on = 'Airline', right_on = 'IATA', how = 'left')\n",
    "routes_alce.head(2)"
   ]
  },
  {
   "cell_type": "code",
   "execution_count": 9,
   "metadata": {},
   "outputs": [
    {
     "data": {
      "text/plain": [
       "29349"
      ]
     },
     "execution_count": 9,
     "metadata": {},
     "output_type": "execute_result"
    }
   ],
   "source": [
    "routes_alce[~routes_alce.IATA.isnull()].Airline.count()"
   ]
  },
  {
   "cell_type": "code",
   "execution_count": 10,
   "metadata": {},
   "outputs": [
    {
     "data": {
      "text/html": [
       "<div>\n",
       "<style scoped>\n",
       "    .dataframe tbody tr th:only-of-type {\n",
       "        vertical-align: middle;\n",
       "    }\n",
       "\n",
       "    .dataframe tbody tr th {\n",
       "        vertical-align: top;\n",
       "    }\n",
       "\n",
       "    .dataframe thead th {\n",
       "        text-align: right;\n",
       "    }\n",
       "</style>\n",
       "<table border=\"1\" class=\"dataframe\">\n",
       "  <thead>\n",
       "    <tr style=\"text-align: right;\">\n",
       "      <th></th>\n",
       "      <th>Airline</th>\n",
       "      <th>AirlineID</th>\n",
       "      <th>SourceAirport</th>\n",
       "      <th>SourceAirportID</th>\n",
       "      <th>DestinationAirport</th>\n",
       "      <th>DestinationAirportID</th>\n",
       "      <th>Codeshare</th>\n",
       "      <th>Stops</th>\n",
       "      <th>Equipment</th>\n",
       "      <th>Alliance</th>\n",
       "      <th>Name</th>\n",
       "      <th>IATA</th>\n",
       "      <th>Country</th>\n",
       "    </tr>\n",
       "  </thead>\n",
       "  <tbody>\n",
       "    <tr>\n",
       "      <th>4237</th>\n",
       "      <td>A3</td>\n",
       "      <td>96</td>\n",
       "      <td>AOK</td>\n",
       "      <td>1459</td>\n",
       "      <td>ATH</td>\n",
       "      <td>3941</td>\n",
       "      <td>NaN</td>\n",
       "      <td>0</td>\n",
       "      <td>DH4</td>\n",
       "      <td>Star Alliance</td>\n",
       "      <td>Aegean Airlines</td>\n",
       "      <td>A3</td>\n",
       "      <td>Greece</td>\n",
       "    </tr>\n",
       "    <tr>\n",
       "      <th>4238</th>\n",
       "      <td>A3</td>\n",
       "      <td>96</td>\n",
       "      <td>AOK</td>\n",
       "      <td>1459</td>\n",
       "      <td>KSJ</td>\n",
       "      <td>1461</td>\n",
       "      <td>NaN</td>\n",
       "      <td>0</td>\n",
       "      <td>DH8</td>\n",
       "      <td>Star Alliance</td>\n",
       "      <td>Aegean Airlines</td>\n",
       "      <td>A3</td>\n",
       "      <td>Greece</td>\n",
       "    </tr>\n",
       "  </tbody>\n",
       "</table>\n",
       "</div>"
      ],
      "text/plain": [
       "     Airline AirlineID SourceAirport SourceAirportID DestinationAirport  \\\n",
       "4237      A3        96           AOK            1459                ATH   \n",
       "4238      A3        96           AOK            1459                KSJ   \n",
       "\n",
       "     DestinationAirportID Codeshare  Stops Equipment       Alliance  \\\n",
       "4237                 3941       NaN      0       DH4  Star Alliance   \n",
       "4238                 1461       NaN      0       DH8  Star Alliance   \n",
       "\n",
       "                 Name IATA Country  \n",
       "4237  Aegean Airlines   A3  Greece  \n",
       "4238  Aegean Airlines   A3  Greece  "
      ]
     },
     "execution_count": 10,
     "metadata": {},
     "output_type": "execute_result"
    }
   ],
   "source": [
    "routes_alce_only = routes_alce[~routes_alce.IATA.isnull()]\n",
    "routes_alce_only.head(2)"
   ]
  },
  {
   "cell_type": "markdown",
   "metadata": {},
   "source": [
    "---\n",
    "## Adjacency matrices"
   ]
  },
  {
   "cell_type": "markdown",
   "metadata": {},
   "source": [
    "Here I'm just replacing the nan by a \"None\" string to simplify comparison later."
   ]
  },
  {
   "cell_type": "code",
   "execution_count": 11,
   "metadata": {},
   "outputs": [
    {
     "data": {
      "text/html": [
       "<div>\n",
       "<style scoped>\n",
       "    .dataframe tbody tr th:only-of-type {\n",
       "        vertical-align: middle;\n",
       "    }\n",
       "\n",
       "    .dataframe tbody tr th {\n",
       "        vertical-align: top;\n",
       "    }\n",
       "\n",
       "    .dataframe thead th {\n",
       "        text-align: right;\n",
       "    }\n",
       "</style>\n",
       "<table border=\"1\" class=\"dataframe\">\n",
       "  <thead>\n",
       "    <tr style=\"text-align: right;\">\n",
       "      <th></th>\n",
       "      <th>Airline</th>\n",
       "      <th>AirlineID</th>\n",
       "      <th>SourceAirport</th>\n",
       "      <th>SourceAirportID</th>\n",
       "      <th>DestinationAirport</th>\n",
       "      <th>DestinationAirportID</th>\n",
       "      <th>Codeshare</th>\n",
       "      <th>Stops</th>\n",
       "      <th>Equipment</th>\n",
       "      <th>Alliance</th>\n",
       "      <th>Name</th>\n",
       "      <th>IATA</th>\n",
       "      <th>Country</th>\n",
       "    </tr>\n",
       "  </thead>\n",
       "  <tbody>\n",
       "    <tr>\n",
       "      <th>0</th>\n",
       "      <td>2B</td>\n",
       "      <td>410</td>\n",
       "      <td>ASF</td>\n",
       "      <td>2966</td>\n",
       "      <td>KZN</td>\n",
       "      <td>2990</td>\n",
       "      <td>None</td>\n",
       "      <td>0</td>\n",
       "      <td>CR2</td>\n",
       "      <td>None</td>\n",
       "      <td>None</td>\n",
       "      <td>None</td>\n",
       "      <td>None</td>\n",
       "    </tr>\n",
       "    <tr>\n",
       "      <th>1</th>\n",
       "      <td>2B</td>\n",
       "      <td>410</td>\n",
       "      <td>ASF</td>\n",
       "      <td>2966</td>\n",
       "      <td>MRV</td>\n",
       "      <td>2962</td>\n",
       "      <td>None</td>\n",
       "      <td>0</td>\n",
       "      <td>CR2</td>\n",
       "      <td>None</td>\n",
       "      <td>None</td>\n",
       "      <td>None</td>\n",
       "      <td>None</td>\n",
       "    </tr>\n",
       "  </tbody>\n",
       "</table>\n",
       "</div>"
      ],
      "text/plain": [
       "  Airline AirlineID SourceAirport SourceAirportID DestinationAirport  \\\n",
       "0      2B       410           ASF            2966                KZN   \n",
       "1      2B       410           ASF            2966                MRV   \n",
       "\n",
       "  DestinationAirportID Codeshare  Stops Equipment Alliance  Name  IATA Country  \n",
       "0                 2990      None      0       CR2     None  None  None    None  \n",
       "1                 2962      None      0       CR2     None  None  None    None  "
      ]
     },
     "execution_count": 11,
     "metadata": {},
     "output_type": "execute_result"
    }
   ],
   "source": [
    "routes_alce = routes_alce.fillna(\"None\")\n",
    "routes_alce.head(2)"
   ]
  },
  {
   "cell_type": "markdown",
   "metadata": {},
   "source": [
    "Recreation of the indexes for the destinations and sources airport adapted from milestone 1."
   ]
  },
  {
   "cell_type": "code",
   "execution_count": 12,
   "metadata": {},
   "outputs": [
    {
     "data": {
      "text/html": [
       "<div>\n",
       "<style scoped>\n",
       "    .dataframe tbody tr th:only-of-type {\n",
       "        vertical-align: middle;\n",
       "    }\n",
       "\n",
       "    .dataframe tbody tr th {\n",
       "        vertical-align: top;\n",
       "    }\n",
       "\n",
       "    .dataframe thead th {\n",
       "        text-align: right;\n",
       "    }\n",
       "</style>\n",
       "<table border=\"1\" class=\"dataframe\">\n",
       "  <thead>\n",
       "    <tr style=\"text-align: right;\">\n",
       "      <th></th>\n",
       "      <th>airportsID</th>\n",
       "    </tr>\n",
       "    <tr>\n",
       "      <th>Airport</th>\n",
       "      <th></th>\n",
       "    </tr>\n",
       "  </thead>\n",
       "  <tbody>\n",
       "    <tr>\n",
       "      <th>ASF</th>\n",
       "      <td>0</td>\n",
       "    </tr>\n",
       "    <tr>\n",
       "      <th>CEK</th>\n",
       "      <td>1</td>\n",
       "    </tr>\n",
       "  </tbody>\n",
       "</table>\n",
       "</div>"
      ],
      "text/plain": [
       "         airportsID\n",
       "Airport            \n",
       "ASF               0\n",
       "CEK               1"
      ]
     },
     "execution_count": 12,
     "metadata": {},
     "output_type": "execute_result"
    }
   ],
   "source": [
    "# import of source and destination airport\n",
    "source_airports = routes[['SourceAirport']]\n",
    "source_airports = source_airports.rename(columns={'SourceAirport':'Airport'})\n",
    "\n",
    "dest_airports = routes[['DestinationAirport']]\n",
    "dest_airports = dest_airports.rename(columns={'DestinationAirport':'Airport'})\n",
    "\n",
    "# creation of a dataframe with all airport and airport_idx \n",
    "# (we use airport_idx insteed of airportID because some airports have no airportID)\n",
    "airportsID = pd.concat([source_airports,dest_airports]).drop_duplicates().reset_index().drop(columns=['index']).reset_index()\n",
    "airportsID = airportsID.set_index('Airport').rename(columns={'index':'airportsID'})\n",
    "airportsID.head(2)"
   ]
  },
  {
   "cell_type": "markdown",
   "metadata": {},
   "source": [
    "Creation of the weighted adjacency matrix. We first create a 3D tensor with dimensions {source, destination, alliance}. That way we can keep the weight intact for each flight.\n",
    "* No edges = 0\n",
    "* No alliances = 1\n",
    "* Star Alliance = 2\n",
    "* One World = 3\n",
    "* SkyTeam = 4"
   ]
  },
  {
   "cell_type": "code",
   "execution_count": 13,
   "metadata": {},
   "outputs": [
    {
     "data": {
      "text/plain": [
       "1"
      ]
     },
     "execution_count": 13,
     "metadata": {},
     "output_type": "execute_result"
    }
   ],
   "source": [
    "alliances_idx = {\"None\":1, \"Star Alliance\":2, \"One World\":3, \"SkyTeam\":4}\n",
    "alliances_idx[\"None\"]"
   ]
  },
  {
   "cell_type": "code",
   "execution_count": null,
   "metadata": {},
   "outputs": [],
   "source": [
    "n_nodes = len(airportsID)\n",
    "adjacency = np.zeros((n_nodes, n_nodes, 5), dtype=int)\n",
    "for idx,row in routes_alce.iterrows():\n",
    "    \n",
    "    idx_source = airportsID.loc[row.SourceAirport, \"airportsID\"]\n",
    "    idx_dest = airportsID.loc[row.DestinationAirport, \"airportsID\"]\n",
    "    category = alliances_idx[row.Alliance]\n",
    "    \n",
    "    adjacency[idx_source, idx_dest, category] += 1\n",
    "    adjacency[idx_dest, idx_source, category] += 1"
   ]
  },
  {
   "cell_type": "markdown",
   "metadata": {},
   "source": [
    "For exemple, this is the adjacency of the first 15 airports that are not in any alliances and then from SkyTeam."
   ]
  },
  {
   "cell_type": "code",
   "execution_count": null,
   "metadata": {},
   "outputs": [],
   "source": [
    "# view of a part of adjacency\n",
    "print(adjacency[:15, :15, 1])\n",
    "print(adjacency[:15, :15, 4])"
   ]
  },
  {
   "cell_type": "markdown",
   "metadata": {},
   "source": [
    "We may want to flatten this array. We can associate each travel (source, destination) with the alliance that have the most flight on it :"
   ]
  },
  {
   "cell_type": "code",
   "execution_count": null,
   "metadata": {},
   "outputs": [],
   "source": [
    "MaXdjacency = np.argmax(adjacency, axis=2)\n",
    "print(\"This is indeed a\" , MaXdjacency.shape, \"matrix.\")\n",
    "MaXdjacency[:15, :15]"
   ]
  },
  {
   "cell_type": "code",
   "execution_count": null,
   "metadata": {},
   "outputs": [],
   "source": [
    "print(\"The number of edges is now\", (MaXdjacency != 0).sum())\n",
    "print(\"The number of edges from an alliances is now\", np.logical_and((MaXdjacency != 0),(MaXdjacency != 1)).sum())"
   ]
  },
  {
   "cell_type": "markdown",
   "metadata": {},
   "source": [
    "**Note :** The selection of the label for each flight by the argmax can be unfair because there are many more airlines that are not in alliances and therefore possibly higther weigth for the \"None\" category. Other methods can be found. For exemples we could normalize by the number of airlines by category for each fligth. We can discuss that. But the whole information is anyway in the 3D adjacency."
   ]
  },
  {
   "cell_type": "markdown",
   "metadata": {},
   "source": [
    "---\n",
    "## Some tests for later"
   ]
  },
  {
   "cell_type": "markdown",
   "metadata": {},
   "source": [
    "Paris's main airport is Paris Charles de Gaulle (CDG). Let's see the connection of that airport."
   ]
  },
  {
   "cell_type": "code",
   "execution_count": null,
   "metadata": {},
   "outputs": [],
   "source": [
    "cdg_idx = airportsID.loc[\"CDG\", \"airportsID\"]"
   ]
  },
  {
   "cell_type": "code",
   "execution_count": null,
   "metadata": {},
   "outputs": [],
   "source": [
    "#height,x = np.histogram(MaXdjacency[cdg_idx, :], [0, 1, 2, 3, 4])\n",
    "\n",
    "y = np.bincount(MaXdjacency[cdg_idx, :])[1:] # To ignore the 0 where ther is no edge\n",
    "plt.xticks(list(alliances_idx.values()), list(alliances_idx.keys()))\n",
    "plt.bar(list(alliances_idx.values()), y)\n",
    "plt.title(\"Number of flight by alliances in the CDG airport\")"
   ]
  },
  {
   "cell_type": "markdown",
   "metadata": {},
   "source": [
    "We can then say that this airport is \"controled\" by SkyTeam. This seems reasonable as AirFrance is indeed in this alliance."
   ]
  },
  {
   "cell_type": "markdown",
   "metadata": {},
   "source": [
    "Now let's assign each airport with a alliance tag :"
   ]
  },
  {
   "cell_type": "code",
   "execution_count": null,
   "metadata": {},
   "outputs": [],
   "source": [
    "airport_tag = np.zeros(airportsID.size, dtype = int)\n",
    "for name,airport in airportsID.iterrows():\n",
    "    counts = np.bincount(MaXdjacency[airport.airportsID, :])[1:]\n",
    "    values = np.unique(MaXdjacency[airport.airportsID, :])\n",
    "    values = list(range(values.min(), values.max()+1))[1:]\n",
    "    maxi = np.argmax(counts)\n",
    "    airport_tag[airport.airportsID] = values[maxi]"
   ]
  },
  {
   "cell_type": "code",
   "execution_count": null,
   "metadata": {},
   "outputs": [],
   "source": [
    "tags = np.array(list(alliances_idx.keys()))[airport_tag-1]\n",
    "print(tags)"
   ]
  },
  {
   "cell_type": "code",
   "execution_count": null,
   "metadata": {},
   "outputs": [],
   "source": [
    "plt.xticks(list(alliances_idx.values())[1:], list(alliances_idx.keys())[1:])\n",
    "plt.bar(list(alliances_idx.values())[1:],  np.bincount(airport_tag)[2:])\n",
    "plt.title(\"Number of airport controled by each alliances\")"
   ]
  },
  {
   "cell_type": "markdown",
   "metadata": {},
   "source": [
    "---\n",
    "## Projections and vizualisation"
   ]
  },
  {
   "cell_type": "code",
   "execution_count": null,
   "metadata": {},
   "outputs": [],
   "source": [
    "import folium\n",
    "#pip install folium"
   ]
  },
  {
   "cell_type": "markdown",
   "metadata": {},
   "source": [
    "First, let's create a map of the airports :"
   ]
  },
  {
   "cell_type": "code",
   "execution_count": null,
   "metadata": {},
   "outputs": [],
   "source": [
    "airports.head(2)"
   ]
  },
  {
   "cell_type": "code",
   "execution_count": null,
   "metadata": {},
   "outputs": [],
   "source": [
    "airportsID.head(2)"
   ]
  },
  {
   "cell_type": "code",
   "execution_count": null,
   "metadata": {},
   "outputs": [],
   "source": [
    "airportsID[\"IATA\"] = airportsID.index\n",
    "airportsID = airportsID.set_index(\"airportsID\")"
   ]
  },
  {
   "cell_type": "code",
   "execution_count": null,
   "metadata": {},
   "outputs": [],
   "source": [
    "airportsID.head(2)"
   ]
  },
  {
   "cell_type": "code",
   "execution_count": null,
   "metadata": {},
   "outputs": [],
   "source": [
    "geoData = pd.merge(airportsID, airports, left_on=\"IATA\", right_on=\"IATA\", how=\"left\")[[\"IATA\", \"Name\", \"Latitude\", \"Longitude\"]]\n",
    "geoData = geoData.set_index(\"IATA\")\n",
    "geoData.head()"
   ]
  },
  {
   "cell_type": "code",
   "execution_count": null,
   "metadata": {},
   "outputs": [],
   "source": [
    "geoData[geoData[\"Name\"].isnull()].shape"
   ]
  },
  {
   "cell_type": "code",
   "execution_count": null,
   "metadata": {},
   "outputs": [],
   "source": [
    "m = folium.Map()"
   ]
  },
  {
   "cell_type": "code",
   "execution_count": null,
   "metadata": {},
   "outputs": [],
   "source": [
    "for idx,row in geoData.iterrows():\n",
    "    #print(type(row.Latitude))\n",
    "    #print(pd.isna(row.Latitude))\n",
    "    if pd.isna(row.Latitude) is False:\n",
    "        folium.Circle(\n",
    "            location=[row.Latitude, row.Longitude],\n",
    "            radius=10000,\n",
    "            color='cornflowerblue',\n",
    "            stroke=False,\n",
    "            fill=True,\n",
    "            fill_opacity=0.6,\n",
    "            tooltip=row.Name\n",
    "        ).add_to(m)"
   ]
  },
  {
   "cell_type": "markdown",
   "metadata": {},
   "source": [
    "All the airport are plot in the following map"
   ]
  },
  {
   "cell_type": "code",
   "execution_count": null,
   "metadata": {},
   "outputs": [],
   "source": [
    "m"
   ]
  },
  {
   "cell_type": "code",
   "execution_count": null,
   "metadata": {},
   "outputs": [],
   "source": [
    "#m.save('airports.html')"
   ]
  },
  {
   "cell_type": "markdown",
   "metadata": {},
   "source": [
    "Now the edges : (Don't run that with a potato PC)"
   ]
  },
  {
   "cell_type": "code",
   "execution_count": null,
   "metadata": {},
   "outputs": [],
   "source": [
    "kw = {'opacity':0.1, 'weight': 0.4}\n",
    "\n",
    "\n",
    "for idx,row in routes.iterrows():\n",
    "    Lat_s = geoData.loc[row.SourceAirport,\"Latitude\"]\n",
    "    Lat_d = geoData.loc[row.DestinationAirport,\"Latitude\"]\n",
    "    Long_s = geoData.loc[row.SourceAirport,\"Longitude\"]\n",
    "    Long_d = geoData.loc[row.DestinationAirport,\"Longitude\"]\n",
    "    if pd.isna(Lat_s) is False and pd.isna(Lat_d) is False:\n",
    "        folium.PolyLine(\n",
    "            locations=[(Lat_s, Long_s), (Lat_d, Long_d)],\n",
    "            line_cap='butt',\n",
    "            color='cornflowerblue',\n",
    "            **kw,\n",
    "        ).add_to(m)"
   ]
  },
  {
   "cell_type": "code",
   "execution_count": null,
   "metadata": {},
   "outputs": [],
   "source": [
    "m"
   ]
  },
  {
   "cell_type": "code",
   "execution_count": null,
   "metadata": {},
   "outputs": [],
   "source": [
    "m.save('airports_routes.html')"
   ]
  },
  {
   "cell_type": "code",
   "execution_count": null,
   "metadata": {},
   "outputs": [],
   "source": []
  }
 ],
 "metadata": {
  "kernelspec": {
   "display_name": "Python 3",
   "language": "python",
   "name": "python3"
  },
  "language_info": {
   "codemirror_mode": {
    "name": "ipython",
    "version": 3
   },
   "file_extension": ".py",
   "mimetype": "text/x-python",
   "name": "python",
   "nbconvert_exporter": "python",
   "pygments_lexer": "ipython3",
   "version": "3.7.0"
  }
 },
 "nbformat": 4,
 "nbformat_minor": 2
}
