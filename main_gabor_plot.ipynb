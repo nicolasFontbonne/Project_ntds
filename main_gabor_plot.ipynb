{
 "cells": [
  {
   "cell_type": "code",
   "execution_count": 1,
   "metadata": {},
   "outputs": [],
   "source": [
    "%matplotlib inline\n",
    "import numpy as np\n",
    "import pandas as pd\n",
    "from scipy import sparse\n",
    "from scipy import linalg\n",
    "import scipy.sparse.linalg\n",
    "from sklearn.cluster import KMeans"
   ]
  },
  {
   "cell_type": "code",
   "execution_count": 2,
   "metadata": {},
   "outputs": [
    {
     "name": "stdout",
     "output_type": "stream",
     "text": [
      "  Airline SourceAirport DestinationAirport\n",
      "0      2B           AER                KZN\n",
      "1      2B           ASF                KZN\n",
      "2      2B           ASF                MRV\n",
      "3      2B           CEK                KZN\n",
      "4      2B           CEK                OVB\n",
      "False\n"
     ]
    }
   ],
   "source": [
    "routes = pd.read_csv('data/routes.dat', sep=',', header = None, encoding='utf-8')\n",
    "routes.columns = ['Airline','AirlineID','SourceAirport','SourceAirportID','DestinationAirport','DestinationAirportID','Codeshare','Stops','Equipment']\n",
    "routes = routes.drop(columns=['AirlineID','SourceAirportID','DestinationAirportID','Stops','Equipment','Codeshare'])\n",
    "print(routes.head())\n",
    "print(routes.duplicated().any())"
   ]
  },
  {
   "cell_type": "code",
   "execution_count": 3,
   "metadata": {},
   "outputs": [
    {
     "name": "stdout",
     "output_type": "stream",
     "text": [
      "        Alliance  IATA        Region\n",
      "0       Alliance  IATA        Region\n",
      "1  Star Alliance    JP        Europe\n",
      "2  Star Alliance    A3        Europe\n",
      "3  Star Alliance    AC  NorthAmerica\n",
      "4  Star Alliance    CA          Asia\n",
      "False\n"
     ]
    }
   ],
   "source": [
    "alliances = pd.read_csv('data/alliances.dat', sep=',', header = None, encoding='utf-8')\n",
    "alliances.columns = ['Alliance','IATA','Region']\n",
    "print(alliances.head())\n",
    "print(alliances.duplicated().any())"
   ]
  },
  {
   "cell_type": "code",
   "execution_count": 4,
   "metadata": {},
   "outputs": [
    {
     "name": "stdout",
     "output_type": "stream",
     "text": [
      "                    Name IATA\n",
      "3          1Time Airline   1T\n",
      "10           40-Mile Air   Q5\n",
      "13      Ansett Australia   AN\n",
      "14  Abacus International   1B\n",
      "15       Abelag Aviation   W9\n",
      "False\n",
      "  IATA\n",
      "0   2B\n",
      "1   2G\n",
      "2   2I\n",
      "3   2J\n",
      "4   2K\n",
      "False\n",
      "   airlineID IATA       Alliance        Region               Name\n",
      "0          0   A3  Star Alliance        Europe    Aegean Airlines\n",
      "1          1   AA      One World  NorthAmerica  American Airlines\n",
      "2          2   AB      One World        Europe         Air Berlin\n",
      "3          3   AC  Star Alliance  NorthAmerica         Air Canada\n",
      "4          4   AF        SkyTeam        Europe         Air France\n",
      "False\n"
     ]
    }
   ],
   "source": [
    "airlines = pd.read_csv('data/airlines.dat', sep=',', header = None, encoding='utf-8')\n",
    "airlines.columns = ['Airline ID', 'Name', 'Alias',  'IATA', 'ICAO','Callsign','Country','Active']\n",
    "airlines = airlines.drop(columns=['Airline ID','Alias','ICAO','Callsign','Active','Country'])\n",
    "airlines = airlines[~airlines.IATA.isnull()]\n",
    "airlines = airlines[airlines.IATA != '-']\n",
    "airlines = airlines[~airlines.Name.isnull()]\n",
    "airlines = airlines.drop_duplicates()\n",
    "airlines = airlines.drop_duplicates('IATA')\n",
    "print(airlines.head())\n",
    "print(airlines.duplicated(['IATA']).any())\n",
    "\n",
    "airlineID = routes[['Airline']].rename(columns={'Airline':'IATA'})\n",
    "airlineID = airlineID.drop_duplicates().reset_index().drop(columns=['index'])\n",
    "print(airlineID.head())\n",
    "print(airlineID.duplicated().any())\n",
    "\n",
    "airlineID = pd.merge(airlineID,alliances,left_on='IATA',right_on='IATA',how='right')\n",
    "airlineID = pd.merge(airlineID,airlines,left_on='IATA',right_on='IATA',how='left')\n",
    "airlineID = airlineID.reset_index().rename(columns={'index':'airlineID'})\n",
    "print(airlineID.head())\n",
    "print(airlineID.duplicated().any())"
   ]
  },
  {
   "cell_type": "code",
   "execution_count": 5,
   "metadata": {},
   "outputs": [],
   "source": [
    "routesID = pd.merge(routes,airlineID,left_on='Airline',right_on='IATA',how='right')"
   ]
  },
  {
   "cell_type": "code",
   "execution_count": 6,
   "metadata": {},
   "outputs": [
    {
     "name": "stdout",
     "output_type": "stream",
     "text": [
      "         airportsID\n",
      "Airport            \n",
      "AOK               0\n",
      "ARN               1\n",
      "ATH               2\n",
      "AUH               3\n",
      "AXD               4\n",
      "False\n"
     ]
    }
   ],
   "source": [
    "source_airports = routesID[['SourceAirport']]\n",
    "source_airports = source_airports.rename(columns={'SourceAirport':'Airport'})\n",
    "\n",
    "dest_airports = routesID[['DestinationAirport']]\n",
    "dest_airports = dest_airports.rename(columns={'DestinationAirport':'Airport'})\n",
    "\n",
    "airports = pd.concat([source_airports,dest_airports]).drop_duplicates().reset_index().drop(columns=['index']).reset_index()\n",
    "airports = airports.set_index('Airport').rename(columns={'index':'airportsID'})\n",
    "print(airports.head())\n",
    "print(airports.duplicated().any())"
   ]
  },
  {
   "cell_type": "code",
   "execution_count": 7,
   "metadata": {},
   "outputs": [
    {
     "name": "stdout",
     "output_type": "stream",
     "text": [
      "  Airline SourceAirport DestinationAirport  airlineID IATA       Alliance  \\\n",
      "0      A3           AOK                ATH          0   A3  Star Alliance   \n",
      "1      A3           AOK                KSJ          0   A3  Star Alliance   \n",
      "2      A3           AOK                RHO          0   A3  Star Alliance   \n",
      "3      A3           ARN                KLX          0   A3  Star Alliance   \n",
      "4      A3           ARN                SKG          0   A3  Star Alliance   \n",
      "\n",
      "   Region             Name  SourceAirportID  DestinationAirportID  \n",
      "0  Europe  Aegean Airlines                0                     2  \n",
      "1  Europe  Aegean Airlines                0                    40  \n",
      "2  Europe  Aegean Airlines                0                    63  \n",
      "3  Europe  Aegean Airlines                1                    39  \n",
      "4  Europe  Aegean Airlines                1                    64  \n"
     ]
    }
   ],
   "source": [
    "routesID = pd.merge(routesID,airports,left_on='SourceAirport',right_on='Airport',how='left')\n",
    "routesID = routesID.rename(columns={'airportsID':'SourceAirportID'})\n",
    "routesID = pd.merge(routesID,airports,left_on='DestinationAirport',right_on='Airport',how='left')\n",
    "routesID = routesID.rename(columns={'airportsID':'DestinationAirportID'})\n",
    "print(routesID.head())"
   ]
  },
  {
   "cell_type": "code",
   "execution_count": 8,
   "metadata": {},
   "outputs": [
    {
     "name": "stdout",
     "output_type": "stream",
     "text": [
      "    airlineID_x IATA_x     Alliance_x Region_x           Name_x  \\\n",
      "65            0     A3  Star Alliance   Europe  Aegean Airlines   \n",
      "66            0     A3  Star Alliance   Europe  Aegean Airlines   \n",
      "67            0     A3  Star Alliance   Europe  Aegean Airlines   \n",
      "68            0     A3  Star Alliance   Europe  Aegean Airlines   \n",
      "69            0     A3  Star Alliance   Europe  Aegean Airlines   \n",
      "\n",
      "    SourceAirportID_x  DestinationAirportID_x  airlineID_y IATA_y Alliance_y  \\\n",
      "65                  0                       2            1     AA  One World   \n",
      "66                  0                       2            1     AA  One World   \n",
      "67                  0                       2            4     AF    SkyTeam   \n",
      "68                  0                       2            4     AF    SkyTeam   \n",
      "69                  0                       2            4     AF    SkyTeam   \n",
      "\n",
      "        Region_y             Name_y  SourceAirportID_y  DestinationAirportID_y  \n",
      "65  NorthAmerica  American Airlines                  2                      45  \n",
      "66  NorthAmerica  American Airlines                  2                      61  \n",
      "67        Europe         Air France                  2                      11  \n",
      "68        Europe         Air France                  2                      53  \n",
      "69        Europe         Air France                  2                     439  \n"
     ]
    }
   ],
   "source": [
    "connections = routesID\n",
    "connections = connections.drop(columns=['Airline','SourceAirport','DestinationAirport'])\n",
    "connections = pd.merge(connections,connections,left_on='DestinationAirportID',right_on='SourceAirportID',how='inner')\n",
    "connections = connections[connections.airlineID_x != connections.airlineID_y]\n",
    "print(connections.head())"
   ]
  },
  {
   "cell_type": "code",
   "execution_count": 9,
   "metadata": {},
   "outputs": [],
   "source": [
    "grouped = connections[['airlineID_x','airlineID_y']].groupby(['airlineID_x','airlineID_y'])\n",
    "group_sizes = grouped.size()\n",
    "n_airlines = len(airlineID)\n",
    "adjacency_airlines = np.zeros((n_airlines,n_airlines))\n",
    "for name,group in grouped:\n",
    "    adjacency_airlines[name[0],name[1]] += group_sizes.loc[name[0],name[1]]\n",
    "    adjacency_airlines[name[1],name[0]] += group_sizes.loc[name[0],name[1]]\n",
    "\n",
    "for i in range(n_airlines):\n",
    "    for j in range(n_airlines):\n",
    "        if airlineID.loc[i].Region == airlineID.loc[j].Region:\n",
    "            adjacency_airlines[i,j] = 0"
   ]
  },
  {
   "cell_type": "code",
   "execution_count": 10,
   "metadata": {},
   "outputs": [
    {
     "name": "stderr",
     "output_type": "stream",
     "text": [
      "/Users/Moi/anaconda3/envs/ntds_2018/lib/python3.7/site-packages/ipykernel_launcher.py:3: RuntimeWarning: invalid value encountered in true_divide\n",
      "  This is separate from the ipykernel package so we can avoid doing imports until\n"
     ]
    }
   ],
   "source": [
    "adjacency = np.copy(adjacency_airlines)\n",
    "for i in range(n_airlines):\n",
    "    adjacency[i] = adjacency[i]/np.sum(adjacency[i])\n",
    "for i in range(n_airlines):\n",
    "    for j in range(n_airlines):\n",
    "        adjacency[i,j] = max(adjacency[i,j],adjacency[j,i])\n",
    "        adjacency[j,i] = adjacency[i,j]"
   ]
  },
  {
   "cell_type": "code",
   "execution_count": 17,
   "metadata": {},
   "outputs": [
    {
     "data": {
      "text/plain": [
       "array([[0.99447643, 0.        , 0.        , ..., 0.        , 0.        ,\n",
       "        0.        ],\n",
       "       [0.        , 0.37855476, 0.        , ..., 0.        , 0.        ,\n",
       "        0.        ],\n",
       "       [0.        , 0.        , 0.86334197, ..., 0.        , 0.        ,\n",
       "        0.        ],\n",
       "       ...,\n",
       "       [0.        , 0.        , 0.        , ..., 0.99040858, 0.        ,\n",
       "        0.        ],\n",
       "       [0.        , 0.        , 0.        , ..., 0.        , 0.99472392,\n",
       "        0.        ],\n",
       "       [0.        , 0.        , 0.        , ..., 0.        , 0.        ,\n",
       "               nan]])"
      ]
     },
     "execution_count": 17,
     "metadata": {},
     "output_type": "execute_result"
    }
   ],
   "source": [
    "sqrt_inv_degree_matrix"
   ]
  },
  {
   "cell_type": "code",
   "execution_count": 13,
   "metadata": {},
   "outputs": [
    {
     "data": {
      "text/plain": [
       "array([[nan, nan, nan, ..., nan, nan, nan],\n",
       "       [nan, nan, nan, ..., nan, nan, nan],\n",
       "       [nan, nan, nan, ..., nan, nan, nan],\n",
       "       ...,\n",
       "       [nan, nan, nan, ..., nan, nan, nan],\n",
       "       [nan, nan, nan, ..., nan, nan, nan],\n",
       "       [nan, nan, nan, ..., nan, nan, nan]])"
      ]
     },
     "execution_count": 13,
     "metadata": {},
     "output_type": "execute_result"
    }
   ],
   "source": [
    "degrees = np.sum(adjacency, axis = 0)\n",
    "degree_matrix = np.diag(degrees)\n",
    "laplacian_combinatorial =  degree_matrix - adjacency;\n",
    "sqrt_inv_degree_matrix = np.diag(np.sqrt(1/degrees))\n",
    "laplacian_normalized = np.dot(np.dot(sqrt_inv_degree_matrix,laplacian_combinatorial),sqrt_inv_degree_matrix)"
   ]
  },
  {
   "cell_type": "code",
   "execution_count": 12,
   "metadata": {},
   "outputs": [
    {
     "ename": "LinAlgError",
     "evalue": "Array must not contain infs or NaNs",
     "output_type": "error",
     "traceback": [
      "\u001b[0;31m---------------------------------------------------------------------------\u001b[0m",
      "\u001b[0;31mLinAlgError\u001b[0m                               Traceback (most recent call last)",
      "\u001b[0;32m<ipython-input-12-28d853275160>\u001b[0m in \u001b[0;36m<module>\u001b[0;34m()\u001b[0m\n\u001b[0;32m----> 1\u001b[0;31m \u001b[0;34m[\u001b[0m\u001b[0meigenvalues\u001b[0m\u001b[0;34m,\u001b[0m \u001b[0meigenvectors\u001b[0m\u001b[0;34m]\u001b[0m \u001b[0;34m=\u001b[0m \u001b[0mnp\u001b[0m\u001b[0;34m.\u001b[0m\u001b[0mlinalg\u001b[0m\u001b[0;34m.\u001b[0m\u001b[0meig\u001b[0m\u001b[0;34m(\u001b[0m\u001b[0mlaplacian_normalized\u001b[0m\u001b[0;34m)\u001b[0m\u001b[0;34m\u001b[0m\u001b[0m\n\u001b[0m\u001b[1;32m      2\u001b[0m \u001b[0msortID\u001b[0m \u001b[0;34m=\u001b[0m \u001b[0mnp\u001b[0m\u001b[0;34m.\u001b[0m\u001b[0margsort\u001b[0m\u001b[0;34m(\u001b[0m\u001b[0meigenvalues\u001b[0m\u001b[0;34m)\u001b[0m\u001b[0;34m\u001b[0m\u001b[0m\n\u001b[1;32m      3\u001b[0m \u001b[0meigenvalues\u001b[0m \u001b[0;34m=\u001b[0m \u001b[0meigenvalues\u001b[0m\u001b[0;34m[\u001b[0m\u001b[0msortID\u001b[0m\u001b[0;34m]\u001b[0m\u001b[0;34m\u001b[0m\u001b[0m\n\u001b[1;32m      4\u001b[0m \u001b[0;34m\u001b[0m\u001b[0m\n\u001b[1;32m      5\u001b[0m \u001b[0meigenvectors\u001b[0m \u001b[0;34m=\u001b[0m \u001b[0meigenvectors\u001b[0m\u001b[0;34m[\u001b[0m\u001b[0;34m:\u001b[0m\u001b[0;34m,\u001b[0m\u001b[0msortID\u001b[0m\u001b[0;34m]\u001b[0m\u001b[0;34m\u001b[0m\u001b[0m\n",
      "\u001b[0;32m~/anaconda3/envs/ntds_2018/lib/python3.7/site-packages/numpy/linalg/linalg.py\u001b[0m in \u001b[0;36meig\u001b[0;34m(a)\u001b[0m\n\u001b[1;32m   1260\u001b[0m     \u001b[0m_assertRankAtLeast2\u001b[0m\u001b[0;34m(\u001b[0m\u001b[0ma\u001b[0m\u001b[0;34m)\u001b[0m\u001b[0;34m\u001b[0m\u001b[0m\n\u001b[1;32m   1261\u001b[0m     \u001b[0m_assertNdSquareness\u001b[0m\u001b[0;34m(\u001b[0m\u001b[0ma\u001b[0m\u001b[0;34m)\u001b[0m\u001b[0;34m\u001b[0m\u001b[0m\n\u001b[0;32m-> 1262\u001b[0;31m     \u001b[0m_assertFinite\u001b[0m\u001b[0;34m(\u001b[0m\u001b[0ma\u001b[0m\u001b[0;34m)\u001b[0m\u001b[0;34m\u001b[0m\u001b[0m\n\u001b[0m\u001b[1;32m   1263\u001b[0m     \u001b[0mt\u001b[0m\u001b[0;34m,\u001b[0m \u001b[0mresult_t\u001b[0m \u001b[0;34m=\u001b[0m \u001b[0m_commonType\u001b[0m\u001b[0;34m(\u001b[0m\u001b[0ma\u001b[0m\u001b[0;34m)\u001b[0m\u001b[0;34m\u001b[0m\u001b[0m\n\u001b[1;32m   1264\u001b[0m \u001b[0;34m\u001b[0m\u001b[0m\n",
      "\u001b[0;32m~/anaconda3/envs/ntds_2018/lib/python3.7/site-packages/numpy/linalg/linalg.py\u001b[0m in \u001b[0;36m_assertFinite\u001b[0;34m(*arrays)\u001b[0m\n\u001b[1;32m    218\u001b[0m     \u001b[0;32mfor\u001b[0m \u001b[0ma\u001b[0m \u001b[0;32min\u001b[0m \u001b[0marrays\u001b[0m\u001b[0;34m:\u001b[0m\u001b[0;34m\u001b[0m\u001b[0m\n\u001b[1;32m    219\u001b[0m         \u001b[0;32mif\u001b[0m \u001b[0;32mnot\u001b[0m \u001b[0;34m(\u001b[0m\u001b[0misfinite\u001b[0m\u001b[0;34m(\u001b[0m\u001b[0ma\u001b[0m\u001b[0;34m)\u001b[0m\u001b[0;34m.\u001b[0m\u001b[0mall\u001b[0m\u001b[0;34m(\u001b[0m\u001b[0;34m)\u001b[0m\u001b[0;34m)\u001b[0m\u001b[0;34m:\u001b[0m\u001b[0;34m\u001b[0m\u001b[0m\n\u001b[0;32m--> 220\u001b[0;31m             \u001b[0;32mraise\u001b[0m \u001b[0mLinAlgError\u001b[0m\u001b[0;34m(\u001b[0m\u001b[0;34m\"Array must not contain infs or NaNs\"\u001b[0m\u001b[0;34m)\u001b[0m\u001b[0;34m\u001b[0m\u001b[0m\n\u001b[0m\u001b[1;32m    221\u001b[0m \u001b[0;34m\u001b[0m\u001b[0m\n\u001b[1;32m    222\u001b[0m \u001b[0;32mdef\u001b[0m \u001b[0m_isEmpty2d\u001b[0m\u001b[0;34m(\u001b[0m\u001b[0marr\u001b[0m\u001b[0;34m)\u001b[0m\u001b[0;34m:\u001b[0m\u001b[0;34m\u001b[0m\u001b[0m\n",
      "\u001b[0;31mLinAlgError\u001b[0m: Array must not contain infs or NaNs"
     ]
    }
   ],
   "source": [
    "[eigenvalues, eigenvectors] = np.linalg.eig(laplacian_normalized)\n",
    "sortID = np.argsort(eigenvalues)\n",
    "eigenvalues = eigenvalues[sortID]\n",
    "\n",
    "eigenvectors = eigenvectors[:,sortID]\n",
    "print(eigenvalues)"
   ]
  },
  {
   "cell_type": "code",
   "execution_count": null,
   "metadata": {},
   "outputs": [],
   "source": [
    "k = 3; d = 3\n",
    "H = eigenvectors[:,:d]; \n",
    "clusters3 = KMeans(n_clusters=k, random_state=0).fit_predict(H)\n",
    "\n",
    "print(\"----- For k=\",k,\" and d=\",d,\" -----\")\n",
    "print(\"Number of elements in clusters :\")\n",
    "for i in range(k):\n",
    "    cnt = 0\n",
    "    for j in clusters3:\n",
    "        if j == i:\n",
    "            cnt +=1\n",
    "    print(\"Cluster \",i+1,\":\",cnt)"
   ]
  },
  {
   "cell_type": "code",
   "execution_count": null,
   "metadata": {},
   "outputs": [],
   "source": [
    "print(airlineID[clusters3 == 0][['IATA','Alliance','Name']])\n",
    "print(airlineID[clusters3 == 1][['IATA','Alliance','Name']])\n",
    "print(airlineID[clusters3 == 2][['IATA','Alliance','Name']])"
   ]
  },
  {
   "cell_type": "code",
   "execution_count": null,
   "metadata": {},
   "outputs": [],
   "source": []
  }
 ],
 "metadata": {
  "kernelspec": {
   "display_name": "Python 3",
   "language": "python",
   "name": "python3"
  },
  "language_info": {
   "codemirror_mode": {
    "name": "ipython",
    "version": 3
   },
   "file_extension": ".py",
   "mimetype": "text/x-python",
   "name": "python",
   "nbconvert_exporter": "python",
   "pygments_lexer": "ipython3",
   "version": "3.7.0"
  }
 },
 "nbformat": 4,
 "nbformat_minor": 2
}
