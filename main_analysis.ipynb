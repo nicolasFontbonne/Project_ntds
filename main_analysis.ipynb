{
 "cells": [
  {
   "cell_type": "markdown",
   "metadata": {},
   "source": [
    "# Project Network Tour of Data Sciences"
   ]
  },
  {
   "cell_type": "markdown",
   "metadata": {},
   "source": [
    "## Students\n",
    "\n",
    "* Team: `6`\n",
    "* Students: `Gabor Csordas`, `Maëlle Le Clainche`, `Nicolas Fontbonne`, `Marie Sadler`\n",
    "* Dataset:`Flights routes`"
   ]
  },
  {
   "cell_type": "markdown",
   "metadata": {},
   "source": [
    "## Presentation of the project"
   ]
  },
  {
   "cell_type": "markdown",
   "metadata": {},
   "source": [
    "We analyze the *Airline Route Mapper Route Database* which maps 3'321 airports (nodes) worldwide with their respective connections (67'663 connections corresponding to 19'256 edges) operated by 548 airlines \\cite{openflights_dataset}. Some of these airlines have joined each other to form passenger airline alliances which for instance facilitates flight connections for multi stop flights. As of today three major airline alliances exist, Star Alliance (SA), SkyTeam (ST), and One World (OW).\n",
    "\n",
    "We try to answer several questions regarding the prevalence of these alliances in the flight network and in this notebook we go through them one by one. Each question is shortly explained, followed by a strategy on how we answer it. "
   ]
  },
  {
   "cell_type": "markdown",
   "metadata": {},
   "source": [
    "- [0- Loading libraries and data](#Part0)\n",
    "\n",
    "\n",
    "- [1- How prevalent are the alliances in the global flight route network?](#Part1)\n",
    "\n",
    "    - [Airlines distribution](#Part1-1)\n",
    "    - [Network properties of the alliance’s flight routes](#Part1-2)\n",
    "    - [Proportion of airports served by alliance-airlines](#Part1-3)\n",
    "\n",
    "    \n",
    "- [2- Is the alliance business a hub thing?](#Part2)\n",
    "\n",
    "\n",
    "- [3- Which part of the world is dominated by who, and what is a likely expansion?](#Part3)\n",
    "\n",
    "    - [Geographic distribution of the alliances](#Part3-1)\n",
    "    - [Airport expansion of the alliances predicted through label propagation](#Part3-2)\n",
    "    - [Assign airlines to alliances](#Part3-3)\n",
    "\n",
    "- [4- Can the alliances be predicted from the construction of an airline network?](#Part4)"
   ]
  },
  {
   "cell_type": "markdown",
   "metadata": {},
   "source": [
    "## 0- Loading libraries and data <a id='Part0'></a>"
   ]
  },
  {
   "cell_type": "markdown",
   "metadata": {},
   "source": [
    "### Libraries"
   ]
  },
  {
   "cell_type": "code",
   "execution_count": 1,
   "metadata": {},
   "outputs": [],
   "source": [
    "%matplotlib inline\n",
    "import numpy as np\n",
    "import pandas as pd\n",
    "import math\n",
    "from matplotlib import pyplot as plt\n",
    "import networkx as nx\n",
    "import seaborn as sns\n",
    "import random\n",
    "import warnings\n",
    "import folium\n",
    "from sklearn.cluster import KMeans\n",
    "warnings.filterwarnings('ignore')"
   ]
  },
  {
   "cell_type": "markdown",
   "metadata": {},
   "source": [
    "### Data"
   ]
  },
  {
   "cell_type": "code",
   "execution_count": 2,
   "metadata": {},
   "outputs": [
    {
     "data": {
      "text/html": [
       "<div>\n",
       "<style scoped>\n",
       "    .dataframe tbody tr th:only-of-type {\n",
       "        vertical-align: middle;\n",
       "    }\n",
       "\n",
       "    .dataframe tbody tr th {\n",
       "        vertical-align: top;\n",
       "    }\n",
       "\n",
       "    .dataframe thead th {\n",
       "        text-align: right;\n",
       "    }\n",
       "</style>\n",
       "<table border=\"1\" class=\"dataframe\">\n",
       "  <thead>\n",
       "    <tr style=\"text-align: right;\">\n",
       "      <th></th>\n",
       "      <th>Airline</th>\n",
       "      <th>AirlineID</th>\n",
       "      <th>SourceAirport</th>\n",
       "      <th>SourceAirportID</th>\n",
       "      <th>DestinationAirport</th>\n",
       "      <th>DestinationAirportID</th>\n",
       "      <th>Codeshare</th>\n",
       "      <th>Stops</th>\n",
       "      <th>Equipment</th>\n",
       "    </tr>\n",
       "  </thead>\n",
       "  <tbody>\n",
       "    <tr>\n",
       "      <th>0</th>\n",
       "      <td>2B</td>\n",
       "      <td>410</td>\n",
       "      <td>AER</td>\n",
       "      <td>2965</td>\n",
       "      <td>KZN</td>\n",
       "      <td>2990</td>\n",
       "      <td>NaN</td>\n",
       "      <td>0</td>\n",
       "      <td>CR2</td>\n",
       "    </tr>\n",
       "    <tr>\n",
       "      <th>1</th>\n",
       "      <td>2B</td>\n",
       "      <td>410</td>\n",
       "      <td>ASF</td>\n",
       "      <td>2966</td>\n",
       "      <td>KZN</td>\n",
       "      <td>2990</td>\n",
       "      <td>NaN</td>\n",
       "      <td>0</td>\n",
       "      <td>CR2</td>\n",
       "    </tr>\n",
       "    <tr>\n",
       "      <th>2</th>\n",
       "      <td>2B</td>\n",
       "      <td>410</td>\n",
       "      <td>ASF</td>\n",
       "      <td>2966</td>\n",
       "      <td>MRV</td>\n",
       "      <td>2962</td>\n",
       "      <td>NaN</td>\n",
       "      <td>0</td>\n",
       "      <td>CR2</td>\n",
       "    </tr>\n",
       "    <tr>\n",
       "      <th>3</th>\n",
       "      <td>2B</td>\n",
       "      <td>410</td>\n",
       "      <td>CEK</td>\n",
       "      <td>2968</td>\n",
       "      <td>KZN</td>\n",
       "      <td>2990</td>\n",
       "      <td>NaN</td>\n",
       "      <td>0</td>\n",
       "      <td>CR2</td>\n",
       "    </tr>\n",
       "    <tr>\n",
       "      <th>4</th>\n",
       "      <td>2B</td>\n",
       "      <td>410</td>\n",
       "      <td>CEK</td>\n",
       "      <td>2968</td>\n",
       "      <td>OVB</td>\n",
       "      <td>4078</td>\n",
       "      <td>NaN</td>\n",
       "      <td>0</td>\n",
       "      <td>CR2</td>\n",
       "    </tr>\n",
       "  </tbody>\n",
       "</table>\n",
       "</div>"
      ],
      "text/plain": [
       "  Airline AirlineID SourceAirport SourceAirportID DestinationAirport  \\\n",
       "0      2B       410           AER            2965                KZN   \n",
       "1      2B       410           ASF            2966                KZN   \n",
       "2      2B       410           ASF            2966                MRV   \n",
       "3      2B       410           CEK            2968                KZN   \n",
       "4      2B       410           CEK            2968                OVB   \n",
       "\n",
       "  DestinationAirportID Codeshare  Stops Equipment  \n",
       "0                 2990       NaN      0       CR2  \n",
       "1                 2990       NaN      0       CR2  \n",
       "2                 2962       NaN      0       CR2  \n",
       "3                 2990       NaN      0       CR2  \n",
       "4                 4078       NaN      0       CR2  "
      ]
     },
     "execution_count": 2,
     "metadata": {},
     "output_type": "execute_result"
    }
   ],
   "source": [
    "# routes\n",
    "routes = pd.read_csv('data/routes.dat', sep=',', header = None, encoding='utf-8')\n",
    "routes.columns = ['Airline','AirlineID','SourceAirport','SourceAirportID','DestinationAirport','DestinationAirportID','Codeshare','Stops','Equipment']\n",
    "routes.head()"
   ]
  },
  {
   "cell_type": "code",
   "execution_count": 3,
   "metadata": {},
   "outputs": [
    {
     "data": {
      "text/html": [
       "<div>\n",
       "<style scoped>\n",
       "    .dataframe tbody tr th:only-of-type {\n",
       "        vertical-align: middle;\n",
       "    }\n",
       "\n",
       "    .dataframe tbody tr th {\n",
       "        vertical-align: top;\n",
       "    }\n",
       "\n",
       "    .dataframe thead th {\n",
       "        text-align: right;\n",
       "    }\n",
       "</style>\n",
       "<table border=\"1\" class=\"dataframe\">\n",
       "  <thead>\n",
       "    <tr style=\"text-align: right;\">\n",
       "      <th></th>\n",
       "      <th>Airline ID</th>\n",
       "      <th>Name</th>\n",
       "      <th>Alias</th>\n",
       "      <th>IATA</th>\n",
       "      <th>ICAO</th>\n",
       "      <th>Callsign</th>\n",
       "      <th>Country</th>\n",
       "      <th>Active</th>\n",
       "    </tr>\n",
       "  </thead>\n",
       "  <tbody>\n",
       "    <tr>\n",
       "      <th>0</th>\n",
       "      <td>-1</td>\n",
       "      <td>Unknown</td>\n",
       "      <td>\\N</td>\n",
       "      <td>-</td>\n",
       "      <td>NaN</td>\n",
       "      <td>\\N</td>\n",
       "      <td>\\N</td>\n",
       "      <td>Y</td>\n",
       "    </tr>\n",
       "    <tr>\n",
       "      <th>1</th>\n",
       "      <td>1</td>\n",
       "      <td>Private flight</td>\n",
       "      <td>\\N</td>\n",
       "      <td>-</td>\n",
       "      <td>NaN</td>\n",
       "      <td>NaN</td>\n",
       "      <td>NaN</td>\n",
       "      <td>Y</td>\n",
       "    </tr>\n",
       "    <tr>\n",
       "      <th>2</th>\n",
       "      <td>2</td>\n",
       "      <td>135 Airways</td>\n",
       "      <td>\\N</td>\n",
       "      <td>NaN</td>\n",
       "      <td>GNL</td>\n",
       "      <td>GENERAL</td>\n",
       "      <td>United States</td>\n",
       "      <td>N</td>\n",
       "    </tr>\n",
       "    <tr>\n",
       "      <th>3</th>\n",
       "      <td>3</td>\n",
       "      <td>1Time Airline</td>\n",
       "      <td>\\N</td>\n",
       "      <td>1T</td>\n",
       "      <td>RNX</td>\n",
       "      <td>NEXTIME</td>\n",
       "      <td>South Africa</td>\n",
       "      <td>Y</td>\n",
       "    </tr>\n",
       "    <tr>\n",
       "      <th>4</th>\n",
       "      <td>4</td>\n",
       "      <td>2 Sqn No 1 Elementary Flying Training School</td>\n",
       "      <td>\\N</td>\n",
       "      <td>NaN</td>\n",
       "      <td>WYT</td>\n",
       "      <td>NaN</td>\n",
       "      <td>United Kingdom</td>\n",
       "      <td>N</td>\n",
       "    </tr>\n",
       "  </tbody>\n",
       "</table>\n",
       "</div>"
      ],
      "text/plain": [
       "   Airline ID                                          Name Alias IATA ICAO  \\\n",
       "0          -1                                       Unknown    \\N    -  NaN   \n",
       "1           1                                Private flight    \\N    -  NaN   \n",
       "2           2                                   135 Airways    \\N  NaN  GNL   \n",
       "3           3                                 1Time Airline    \\N   1T  RNX   \n",
       "4           4  2 Sqn No 1 Elementary Flying Training School    \\N  NaN  WYT   \n",
       "\n",
       "  Callsign         Country Active  \n",
       "0       \\N              \\N      Y  \n",
       "1      NaN             NaN      Y  \n",
       "2  GENERAL   United States      N  \n",
       "3  NEXTIME    South Africa      Y  \n",
       "4      NaN  United Kingdom      N  "
      ]
     },
     "execution_count": 3,
     "metadata": {},
     "output_type": "execute_result"
    }
   ],
   "source": [
    "# airlines\n",
    "airlines = pd.read_csv('data/airlines.dat', sep=',', header = None, encoding='utf-8')\n",
    "airlines.columns = ['Airline ID', 'Name', 'Alias',  'IATA', 'ICAO','Callsign','Country','Active']\n",
    "airlines.head()"
   ]
  },
  {
   "cell_type": "code",
   "execution_count": 4,
   "metadata": {},
   "outputs": [
    {
     "data": {
      "text/html": [
       "<div>\n",
       "<style scoped>\n",
       "    .dataframe tbody tr th:only-of-type {\n",
       "        vertical-align: middle;\n",
       "    }\n",
       "\n",
       "    .dataframe tbody tr th {\n",
       "        vertical-align: top;\n",
       "    }\n",
       "\n",
       "    .dataframe thead th {\n",
       "        text-align: right;\n",
       "    }\n",
       "</style>\n",
       "<table border=\"1\" class=\"dataframe\">\n",
       "  <thead>\n",
       "    <tr style=\"text-align: right;\">\n",
       "      <th></th>\n",
       "      <th>Airport ID</th>\n",
       "      <th>Name</th>\n",
       "      <th>City</th>\n",
       "      <th>Country</th>\n",
       "      <th>IATA</th>\n",
       "      <th>ICAO</th>\n",
       "      <th>Latitude</th>\n",
       "      <th>Longitude</th>\n",
       "      <th>Altitude</th>\n",
       "      <th>Timezone</th>\n",
       "      <th>DST</th>\n",
       "      <th>Tz database time zone</th>\n",
       "      <th>Type</th>\n",
       "      <th>Source</th>\n",
       "    </tr>\n",
       "  </thead>\n",
       "  <tbody>\n",
       "    <tr>\n",
       "      <th>0</th>\n",
       "      <td>1</td>\n",
       "      <td>Goroka Airport</td>\n",
       "      <td>Goroka</td>\n",
       "      <td>Papua New Guinea</td>\n",
       "      <td>GKA</td>\n",
       "      <td>AYGA</td>\n",
       "      <td>-6.081690</td>\n",
       "      <td>145.391998</td>\n",
       "      <td>5282</td>\n",
       "      <td>10</td>\n",
       "      <td>U</td>\n",
       "      <td>Pacific/Port_Moresby</td>\n",
       "      <td>airport</td>\n",
       "      <td>OurAirports</td>\n",
       "    </tr>\n",
       "    <tr>\n",
       "      <th>1</th>\n",
       "      <td>2</td>\n",
       "      <td>Madang Airport</td>\n",
       "      <td>Madang</td>\n",
       "      <td>Papua New Guinea</td>\n",
       "      <td>MAG</td>\n",
       "      <td>AYMD</td>\n",
       "      <td>-5.207080</td>\n",
       "      <td>145.789001</td>\n",
       "      <td>20</td>\n",
       "      <td>10</td>\n",
       "      <td>U</td>\n",
       "      <td>Pacific/Port_Moresby</td>\n",
       "      <td>airport</td>\n",
       "      <td>OurAirports</td>\n",
       "    </tr>\n",
       "    <tr>\n",
       "      <th>2</th>\n",
       "      <td>3</td>\n",
       "      <td>Mount Hagen Kagamuga Airport</td>\n",
       "      <td>Mount Hagen</td>\n",
       "      <td>Papua New Guinea</td>\n",
       "      <td>HGU</td>\n",
       "      <td>AYMH</td>\n",
       "      <td>-5.826790</td>\n",
       "      <td>144.296005</td>\n",
       "      <td>5388</td>\n",
       "      <td>10</td>\n",
       "      <td>U</td>\n",
       "      <td>Pacific/Port_Moresby</td>\n",
       "      <td>airport</td>\n",
       "      <td>OurAirports</td>\n",
       "    </tr>\n",
       "    <tr>\n",
       "      <th>3</th>\n",
       "      <td>4</td>\n",
       "      <td>Nadzab Airport</td>\n",
       "      <td>Nadzab</td>\n",
       "      <td>Papua New Guinea</td>\n",
       "      <td>LAE</td>\n",
       "      <td>AYNZ</td>\n",
       "      <td>-6.569803</td>\n",
       "      <td>146.725977</td>\n",
       "      <td>239</td>\n",
       "      <td>10</td>\n",
       "      <td>U</td>\n",
       "      <td>Pacific/Port_Moresby</td>\n",
       "      <td>airport</td>\n",
       "      <td>OurAirports</td>\n",
       "    </tr>\n",
       "    <tr>\n",
       "      <th>4</th>\n",
       "      <td>5</td>\n",
       "      <td>Port Moresby Jacksons International Airport</td>\n",
       "      <td>Port Moresby</td>\n",
       "      <td>Papua New Guinea</td>\n",
       "      <td>POM</td>\n",
       "      <td>AYPY</td>\n",
       "      <td>-9.443380</td>\n",
       "      <td>147.220001</td>\n",
       "      <td>146</td>\n",
       "      <td>10</td>\n",
       "      <td>U</td>\n",
       "      <td>Pacific/Port_Moresby</td>\n",
       "      <td>airport</td>\n",
       "      <td>OurAirports</td>\n",
       "    </tr>\n",
       "  </tbody>\n",
       "</table>\n",
       "</div>"
      ],
      "text/plain": [
       "   Airport ID                                         Name          City  \\\n",
       "0           1                               Goroka Airport        Goroka   \n",
       "1           2                               Madang Airport        Madang   \n",
       "2           3                 Mount Hagen Kagamuga Airport   Mount Hagen   \n",
       "3           4                               Nadzab Airport        Nadzab   \n",
       "4           5  Port Moresby Jacksons International Airport  Port Moresby   \n",
       "\n",
       "            Country IATA  ICAO  Latitude   Longitude Altitude Timezone DST  \\\n",
       "0  Papua New Guinea  GKA  AYGA -6.081690  145.391998     5282       10   U   \n",
       "1  Papua New Guinea  MAG  AYMD -5.207080  145.789001       20       10   U   \n",
       "2  Papua New Guinea  HGU  AYMH -5.826790  144.296005     5388       10   U   \n",
       "3  Papua New Guinea  LAE  AYNZ -6.569803  146.725977      239       10   U   \n",
       "4  Papua New Guinea  POM  AYPY -9.443380  147.220001      146       10   U   \n",
       "\n",
       "  Tz database time zone     Type       Source  \n",
       "0  Pacific/Port_Moresby  airport  OurAirports  \n",
       "1  Pacific/Port_Moresby  airport  OurAirports  \n",
       "2  Pacific/Port_Moresby  airport  OurAirports  \n",
       "3  Pacific/Port_Moresby  airport  OurAirports  \n",
       "4  Pacific/Port_Moresby  airport  OurAirports  "
      ]
     },
     "execution_count": 4,
     "metadata": {},
     "output_type": "execute_result"
    }
   ],
   "source": [
    "# airport\n",
    "airports = pd.read_csv('data/airports.dat', sep=',', header = None, encoding='utf-8')\n",
    "airports.columns = ['Airport ID', 'Name', 'City', 'Country',  'IATA', 'ICAO','Latitude','Longitude','Altitude', 'Timezone','DST', 'Tz database time zone', 'Type', 'Source']\n",
    "airports.head()"
   ]
  },
  {
   "cell_type": "code",
   "execution_count": 5,
   "metadata": {},
   "outputs": [
    {
     "name": "stdout",
     "output_type": "stream",
     "text": [
      "Number of airlines in an alliance:  60\n",
      "Number of airlines per Alliance: \n",
      "               IATA  Region\n",
      "Alliance                   \n",
      "One World        14      14\n",
      "SkyTeam          20      20\n",
      "Star Alliance    26      26\n"
     ]
    },
    {
     "data": {
      "text/html": [
       "<div>\n",
       "<style scoped>\n",
       "    .dataframe tbody tr th:only-of-type {\n",
       "        vertical-align: middle;\n",
       "    }\n",
       "\n",
       "    .dataframe tbody tr th {\n",
       "        vertical-align: top;\n",
       "    }\n",
       "\n",
       "    .dataframe thead th {\n",
       "        text-align: right;\n",
       "    }\n",
       "</style>\n",
       "<table border=\"1\" class=\"dataframe\">\n",
       "  <thead>\n",
       "    <tr style=\"text-align: right;\">\n",
       "      <th></th>\n",
       "      <th>Alliance</th>\n",
       "      <th>IATA</th>\n",
       "      <th>Region</th>\n",
       "    </tr>\n",
       "  </thead>\n",
       "  <tbody>\n",
       "    <tr>\n",
       "      <th>0</th>\n",
       "      <td>Star Alliance</td>\n",
       "      <td>JP</td>\n",
       "      <td>Europe</td>\n",
       "    </tr>\n",
       "    <tr>\n",
       "      <th>1</th>\n",
       "      <td>Star Alliance</td>\n",
       "      <td>A3</td>\n",
       "      <td>Europe</td>\n",
       "    </tr>\n",
       "    <tr>\n",
       "      <th>2</th>\n",
       "      <td>Star Alliance</td>\n",
       "      <td>AC</td>\n",
       "      <td>NorthAmerica</td>\n",
       "    </tr>\n",
       "    <tr>\n",
       "      <th>3</th>\n",
       "      <td>Star Alliance</td>\n",
       "      <td>CA</td>\n",
       "      <td>Asia</td>\n",
       "    </tr>\n",
       "    <tr>\n",
       "      <th>4</th>\n",
       "      <td>Star Alliance</td>\n",
       "      <td>NZ</td>\n",
       "      <td>Asia</td>\n",
       "    </tr>\n",
       "  </tbody>\n",
       "</table>\n",
       "</div>"
      ],
      "text/plain": [
       "        Alliance IATA        Region\n",
       "0  Star Alliance   JP        Europe\n",
       "1  Star Alliance   A3        Europe\n",
       "2  Star Alliance   AC  NorthAmerica\n",
       "3  Star Alliance   CA          Asia\n",
       "4  Star Alliance   NZ          Asia"
      ]
     },
     "execution_count": 5,
     "metadata": {},
     "output_type": "execute_result"
    }
   ],
   "source": [
    "# alliances\n",
    "alliances = pd.read_csv('data/alliances.dat', sep=',', header=None, encoding='utf-8')\n",
    "alliances.columns = ['Alliance','IATA','Region']\n",
    "print('Number of airlines in an alliance: ', alliances.IATA.nunique())\n",
    "print('Number of airlines per Alliance: ')\n",
    "print(alliances.groupby(['Alliance']).count())\n",
    "alliances.head()"
   ]
  },
  {
   "cell_type": "markdown",
   "metadata": {},
   "source": [
    "## 1- How prevalent are the alliances in the global flight route network? <a id='Part1'></a>\n",
    "\n",
    "Create a subnetwork for each individual alliance, which integrates all the edges/flights and nodes/airports that are flown and served, respectively, by an alliance airline member. Analyse the network properties and do comparisons between each alliance subnetwork, the whole alliance network and the whole flight network. \n",
    "\n",
    "**Strategy**\n",
    "\n",
    "First we merge the alliance information to the route dataframe. We then create a weighted adjacency matrix which will be a 3D tensor with dimensions {source, destination, alliance}. That way we can keep the weight intact for each flight.\n",
    "\n",
    "The 'alliance' dimension of the adjacency matrix is attributed as follows:\n",
    "\n",
    "* No edges = 0\n",
    "* No alliances = 1\n",
    "* Star Alliance = 2\n",
    "* One World = 3\n",
    "* SkyTeam = 4"
   ]
  },
  {
   "cell_type": "code",
   "execution_count": 6,
   "metadata": {},
   "outputs": [
    {
     "name": "stdout",
     "output_type": "stream",
     "text": [
      "Number of edges before the merge and after:  67663 67663\n",
      "Number of alliances-airlines found in the route data:  60\n",
      "Number of flights (edges) flown by alliances-airlines:  29349\n"
     ]
    }
   ],
   "source": [
    "# merge alliance data to the route dataframe\n",
    "routes_alce = pd.merge(routes, alliances, left_on = 'Airline', right_on = 'IATA', how = 'left')\n",
    "print('Number of edges before the merge and after: ', routes.Airline.count(), routes_alce.Airline.count())\n",
    "print('Number of alliances-airlines found in the route data: ', routes_alce[~routes_alce.IATA.isnull()].IATA.nunique())\n",
    "print('Number of flights (edges) flown by alliances-airlines: ', routes_alce[~routes_alce.IATA.isnull()].Airline.count())\n",
    "\n",
    "# create df with only alliances airlines\n",
    "routes_alce_only = routes_alce[~routes_alce.IATA.isnull()]"
   ]
  },
  {
   "cell_type": "code",
   "execution_count": 7,
   "metadata": {},
   "outputs": [],
   "source": [
    "# create 3D - adjacency matrix\n",
    "routes_alce = routes_alce.fillna(\"None\")\n",
    "routes_alce.head(2)\n",
    "# import of source and destination airport\n",
    "source_airports = routes[['SourceAirport']]\n",
    "source_airports = source_airports.rename(columns={'SourceAirport':'Airport'})\n",
    "\n",
    "dest_airports = routes[['DestinationAirport']]\n",
    "dest_airports = dest_airports.rename(columns={'DestinationAirport':'Airport'})\n",
    "\n",
    "# creation of a dataframe with all airport and airport_idx \n",
    "# (we use airport_idx insteed of airportID because some airports have no airportID)\n",
    "airportsID = pd.concat([source_airports,dest_airports]).drop_duplicates().reset_index().drop(columns=['index']).reset_index()\n",
    "airportsID = airportsID.set_index('Airport').rename(columns={'index':'airportsID'})\n",
    "\n",
    "alliances_idx = {\"None\":1, \"Star Alliance\":2, \"One World\":3, \"SkyTeam\":4}\n",
    "\n",
    "n_nodes = len(airportsID)\n",
    "adjacency = np.zeros((n_nodes, n_nodes, 5), dtype=int)\n",
    "for idx,row in routes_alce.iterrows():\n",
    "    \n",
    "    idx_source = airportsID.loc[row.SourceAirport, \"airportsID\"]\n",
    "    idx_dest = airportsID.loc[row.DestinationAirport, \"airportsID\"]\n",
    "    category = alliances_idx[row.Alliance]\n",
    "    \n",
    "    adjacency[idx_source, idx_dest, category] += 1\n",
    "    adjacency[idx_dest, idx_source, category] += 1"
   ]
  },
  {
   "cell_type": "code",
   "execution_count": 8,
   "metadata": {},
   "outputs": [
    {
     "data": {
      "text/plain": [
       "array([[0, 0, 0, 5, 0, 0, 0, 2, 0, 0],\n",
       "       [0, 0, 0, 2, 0, 0, 0, 2, 2, 2],\n",
       "       [0, 0, 0, 2, 0, 0, 0, 2, 0, 0],\n",
       "       [5, 2, 2, 0, 6, 2, 4, 6, 6, 4],\n",
       "       [0, 0, 0, 6, 0, 0, 2, 2, 2, 0],\n",
       "       [0, 0, 0, 2, 0, 0, 0, 0, 2, 2],\n",
       "       [0, 0, 0, 4, 2, 0, 0, 0, 0, 0],\n",
       "       [2, 2, 2, 6, 2, 0, 0, 0, 4, 0],\n",
       "       [0, 2, 0, 6, 2, 2, 0, 4, 0, 0],\n",
       "       [0, 2, 0, 4, 0, 2, 0, 0, 0, 0]])"
      ]
     },
     "execution_count": 8,
     "metadata": {},
     "output_type": "execute_result"
    }
   ],
   "source": [
    "# example of the adjacency matrix of the flights not belonging to an alliance\n",
    "adjacency[:10, :10, 1]"
   ]
  },
  {
   "cell_type": "markdown",
   "metadata": {},
   "source": [
    "Then we create a register for each airport nodes of this adjacency matrix with information of location and names"
   ]
  },
  {
   "cell_type": "code",
   "execution_count": 9,
   "metadata": {},
   "outputs": [],
   "source": [
    "airportsID[\"IATA\"] = airportsID.index\n",
    "airportsIDnb = airportsID.set_index(\"airportsID\")\n",
    "geoData = pd.merge(airportsIDnb, airports, left_on=\"IATA\", right_on=\"IATA\", how=\"left\")[[\"IATA\", \"Name\", \"Latitude\", \"Longitude\"]]"
   ]
  },
  {
   "cell_type": "markdown",
   "metadata": {},
   "source": [
    "## Airlines distribution <a id='Part1-1'></a>"
   ]
  },
  {
   "cell_type": "code",
   "execution_count": 10,
   "metadata": {},
   "outputs": [
    {
     "data": {
      "image/png": "[encoded data removed]",
      "text/plain": [
       "<Figure size 1080x432 with 1 Axes>"
      ]
     },
     "metadata": {},
     "output_type": "display_data"
    }
   ],
   "source": [
    "# create a histogram of the airline's number of flights\n",
    "bins = np.linspace(0, 2500, 100)\n",
    "plt.figure(figsize=(15,6))\n",
    "plt.hist(routes_alce[['Airline']].groupby('Airline').size(), bins, alpha=0.5, label='All airlines')\n",
    "plt.hist(routes_alce_only[['Airline']].groupby('Airline').size(), bins, alpha=0.5, label='Alliances airlines')\n",
    "plt.legend(loc='upper right')\n",
    "plt.title('Number of airlines per number of connections', fontsize = 18)\n",
    "plt.ylabel('Number of airlines [log-scale]', fontsize = 14)\n",
    "plt.xlabel('Number of connections', fontsize= 14)\n",
    "plt.yscale(\"log\")\n",
    "# plt.savefig('Histogram_connections_airlines.pdf')\n",
    "plt.show()"
   ]
  },
  {
   "cell_type": "markdown",
   "metadata": {},
   "source": [
    " ## Network properties of the alliance’s flight routes  <a id='Part1-2'></a>"
   ]
  },
  {
   "cell_type": "code",
   "execution_count": 10,
   "metadata": {},
   "outputs": [],
   "source": [
    "def unweighted_A(A):\n",
    "    '''Function to generate an unweighted adjacency matrix'''\n",
    "    A_nonw = np.copy(A)\n",
    "    A_nonw[A_nonw!=0]=1\n",
    "    return A_nonw"
   ]
  },
  {
   "cell_type": "code",
   "execution_count": 11,
   "metadata": {},
   "outputs": [],
   "source": [
    "def network_analysis(A):\n",
    "    '''Function that returns several graph properties: average degree, maximum degree, \n",
    "    number of nodes, diameter of the graph and average clustering \n",
    "    coefficient of the largest connected component.\n",
    "    A histogram of the degree distribution is also plotted.\n",
    "    The analysis is done on the weighted and unweighted adjacency matrix.\n",
    "    '''\n",
    "    # create an unweighted adjacency matrix\n",
    "    A_nonw = unweighted_A(A)\n",
    "    \n",
    "    # truncate the adjacency matrix to retain only nodes that have a connection\n",
    "    A_trunc = A_nonw[~np.all(A_nonw == 0, axis=1)]\n",
    "    A_alce = A_trunc[:, ~np.all(A_trunc == 0, axis=0)]\n",
    "    \n",
    "    # create a graph of the largest connected component\n",
    "    G = nx.from_numpy_matrix(A_nonw)\n",
    "    G_largest = max(nx.connected_component_subgraphs(G), key=len)\n",
    "    \n",
    "    # weighted graph properties\n",
    "    nodes = A_alce.shape[0]\n",
    "    print('\\nNumber of airports connected to the alliance network: ', nodes)\n",
    "    degree_w = np.sum(A, axis = 0)\n",
    "    print('\\nWeighted graph: Number of connections: ', np.sum(A)/2, '\\naverage degree = ', np.sum(degree_w)/nodes, '\\nmaximum degree', max(degree_w))\n",
    "    \n",
    "    # unweighted graph properties\n",
    "    degree = np.sum(A_nonw, axis=0) \n",
    "    print('\\nNumber of edges: ', math.floor(np.sum(A_nonw)/2), '\\naverage degree = ', np.sum(degree)/nodes, '\\nmaximum degree = ', max(degree))\n",
    "  \n",
    "    # diameter and cluster coefficient\n",
    "    print('\\nDiameter of the graph: ', nx.diameter(G_largest), '\\nAverage clustering coefficient: ', nx.average_clustering(G_largest))\n",
    "    \n",
    "    # plot the degree distribution (unweighted graph)\n",
    "    plt.hist(degree, bins = 50);\n",
    "    \n",
    "    return"
   ]
  },
  {
   "cell_type": "code",
   "execution_count": 12,
   "metadata": {
    "scrolled": false
   },
   "outputs": [
    {
     "name": "stdout",
     "output_type": "stream",
     "text": [
      "\n",
      "Number of airports connected to the alliance network:  3425\n",
      "\n",
      "Weighted graph: Number of connections:  67663.0 \n",
      "average degree =  39.51124087591241 \n",
      "maximum degree 1826\n",
      "\n",
      "Number of edges:  19256 \n",
      "average degree =  11.244671532846715 \n",
      "maximum degree =  248\n",
      "\n",
      "Diameter of the graph:  13 \n",
      "Average clustering coefficient:  0.4883362024529605\n"
     ]
    },
    {
     "data": {
      "image/png": "[encoded data removed]",
      "text/plain": [
       "<matplotlib.figure.Figure at 0x1a1a063b38>"
      ]
     },
     "metadata": {},
     "output_type": "display_data"
    }
   ],
   "source": [
    "# Analysis on the normal adjacency matrix (as in Milestone 1)\n",
    "adjacency_normal =  np.sum(adjacency, axis=2)\n",
    "network_analysis(adjacency_normal)"
   ]
  },
  {
   "cell_type": "code",
   "execution_count": 13,
   "metadata": {},
   "outputs": [
    {
     "name": "stdout",
     "output_type": "stream",
     "text": [
      "\n",
      "Number of airports connected to the alliance network:  1221\n",
      "\n",
      "Weighted graph: Number of connections:  11267.0 \n",
      "average degree =  18.455364455364457 \n",
      "maximum degree 587\n",
      "\n",
      "Number of edges:  4385 \n",
      "average degree =  7.182637182637182 \n",
      "maximum degree =  226\n",
      "\n",
      "Diameter of the graph:  9 \n",
      "Average clustering coefficient:  0.47060521430020946\n"
     ]
    },
    {
     "data": {
      "image/png": "[encoded data removed]",
      "text/plain": [
       "<matplotlib.figure.Figure at 0x1a1c4e3b70>"
      ]
     },
     "metadata": {},
     "output_type": "display_data"
    }
   ],
   "source": [
    "# Analysis on the Star Alliance network\n",
    "adjacency_star =  adjacency[:,:, 2]\n",
    "network_analysis(adjacency_star) "
   ]
  },
  {
   "cell_type": "code",
   "execution_count": 14,
   "metadata": {},
   "outputs": [
    {
     "name": "stdout",
     "output_type": "stream",
     "text": [
      "\n",
      "Number of airports connected to the alliance network:  953\n",
      "\n",
      "Weighted graph: Number of connections:  7288.0 \n",
      "average degree =  15.29485834207765 \n",
      "maximum degree 646\n",
      "\n",
      "Number of edges:  3063 \n",
      "average degree =  6.428121720881427 \n",
      "maximum degree =  184\n",
      "\n",
      "Diameter of the graph:  9 \n",
      "Average clustering coefficient:  0.43814132587677673\n"
     ]
    },
    {
     "data": {
      "image/png": "[encoded data removed]",
      "text/plain": [
       "<matplotlib.figure.Figure at 0x1a1c316dd8>"
      ]
     },
     "metadata": {},
     "output_type": "display_data"
    }
   ],
   "source": [
    "# Analysis on One World\n",
    "adjacency_world =  adjacency[:,:, 3]\n",
    "network_analysis(adjacency_world) "
   ]
  },
  {
   "cell_type": "code",
   "execution_count": 15,
   "metadata": {},
   "outputs": [
    {
     "name": "stdout",
     "output_type": "stream",
     "text": [
      "\n",
      "Number of airports connected to the alliance network:  1081\n",
      "\n",
      "Weighted graph: Number of connections:  10794.0 \n",
      "average degree =  19.970397779833487 \n",
      "maximum degree 1319\n",
      "\n",
      "Number of edges:  4006 \n",
      "average degree =  7.411655874190564 \n",
      "maximum degree =  210\n",
      "\n",
      "Diameter of the graph:  9 \n",
      "Average clustering coefficient:  0.48923958526273087\n"
     ]
    },
    {
     "data": {
      "image/png": "[encoded data removed]",
      "text/plain": [
       "<matplotlib.figure.Figure at 0x11235df98>"
      ]
     },
     "metadata": {},
     "output_type": "display_data"
    }
   ],
   "source": [
    "# Analysis on SkyTeam\n",
    "adjacency_sky =  adjacency[:,:, 4]\n",
    "network_analysis(adjacency_sky) "
   ]
  },
  {
   "cell_type": "code",
   "execution_count": 16,
   "metadata": {},
   "outputs": [
    {
     "name": "stdout",
     "output_type": "stream",
     "text": [
      "\n",
      "Number of airports connected to the alliance network:  1797\n",
      "\n",
      "Weighted graph: Number of connections:  29349.0 \n",
      "average degree =  32.664440734557594 \n",
      "maximum degree 1405\n",
      "\n",
      "Number of edges:  9656 \n",
      "average degree =  10.746800222593212 \n",
      "maximum degree =  228\n",
      "\n",
      "Diameter of the graph:  9 \n",
      "Average clustering coefficient:  0.5317438109187125\n"
     ]
    },
    {
     "data": {
      "image/png": "[encoded data removed]",
      "text/plain": [
       "<matplotlib.figure.Figure at 0x1a1c89d400>"
      ]
     },
     "metadata": {},
     "output_type": "display_data"
    }
   ],
   "source": [
    "# Analysis on the whole alliance network\n",
    "adjacency_alce = np.sum(adjacency[:,:, 2:], axis = 2)\n",
    "network_analysis(adjacency_alce) "
   ]
  },
  {
   "cell_type": "markdown",
   "metadata": {},
   "source": [
    "## Proportion of airports served by alliance-airlines <a id='Part1-3'></a>\n",
    "\n",
    "Define the number of airports served by either: SkyTeam, Star Alliance, One World, SkyTeam + One World, SkyTeam + Star Alliance, One World + Star Alliance, all, no alliance."
   ]
  },
  {
   "cell_type": "code",
   "execution_count": 18,
   "metadata": {},
   "outputs": [],
   "source": [
    "def airport_vector(A):\n",
    "    '''Function that given an adjacency matrix returns a binary vector with the length of the \n",
    "    airports (nodes). \n",
    "    1 means that the node has an edge, and 0 if not.'''\n",
    "    v_airport = A.any(1).astype(int)\n",
    "    return v_airport"
   ]
  },
  {
   "cell_type": "code",
   "execution_count": 19,
   "metadata": {},
   "outputs": [],
   "source": [
    "# generate airport vectors for the four categories\n",
    "airport_star = airport_vector(adjacency_star)\n",
    "airport_world = airport_vector(adjacency_world)\n",
    "airport_sky = airport_vector(adjacency_sky)\n",
    "airport_noalce = airport_vector(adjacency[:,:,1])"
   ]
  },
  {
   "cell_type": "code",
   "execution_count": 20,
   "metadata": {},
   "outputs": [],
   "source": [
    "# generate the number of airports for the seven combinations\n",
    "n_no_alliance = np.count_nonzero((airport_noalce - airport_sky- airport_star - airport_world).clip(min=0))\n",
    "n_sky = np.count_nonzero((airport_sky- airport_star - airport_world).clip(min=0))\n",
    "n_star = np.count_nonzero((airport_star- airport_sky - airport_world).clip(min=0))\n",
    "n_world = np.count_nonzero((airport_world- airport_star - airport_sky).clip(min=0))\n",
    "n_sky_star = np.sum((airport_sky + airport_star - airport_world) == 2)\n",
    "n_sky_world = np.sum((airport_sky - airport_star + airport_world) == 2)\n",
    "n_world_star = np.sum((airport_world + airport_star - airport_sky) == 2)\n",
    "n_all = np.sum((airport_sky + airport_star + airport_world) == 3)"
   ]
  },
  {
   "cell_type": "code",
   "execution_count": 21,
   "metadata": {
    "scrolled": false
   },
   "outputs": [
    {
     "data": {
      "image/png": "[encoded data removed]",
      "text/plain": [
       "<Figure size 864x504 with 1 Axes>"
      ]
     },
     "metadata": {},
     "output_type": "display_data"
    }
   ],
   "source": [
    "n_airports = [n_world, n_sky, n_star, n_sky_world, n_world_star, n_sky_star, n_all, n_no_alliance]\n",
    "airport_label = ['OW', 'ST', 'SA', 'OW & ST', \n",
    "                 'OW & SA', 'ST & SA', 'All \\nalliances', 'No \\nalliance']\n",
    "plt.figure(figsize=(12,7))\n",
    "plt.bar(np.arange(1,9), n_airports, tick_label = airport_label, color = '#a4afc1', edgecolor = '#104599')\n",
    "plt.ylabel('Number of airports', fontsize =  20)\n",
    "plt.tick_params(labelsize=16)\n",
    "plt.savefig('Number_airports_alliances.pdf')"
   ]
  },
  {
   "cell_type": "markdown",
   "metadata": {},
   "source": [
    " The  majority  of  airports  in  the  alliancenetwork are only served by one alliance (852 airports in total).  However, a lot of airports are also served by all the three alliances, and interestingly this number is significantly higher than the numberof airports that are served by 2 alliances (432 compared  to  513  airports)."
   ]
  },
  {
   "cell_type": "markdown",
   "metadata": {},
   "source": [
    "## 2- Is the alliance business a hub thing? <a id='Part2'></a>\n",
    "\n",
    "We label the airports by the number of alliances flights that serve it (0, 1, 2 or 3) and we analyze the correlation between this number and the degree of the airport. We expect that a lower degree airport is less likely to be connected to the alliance network than big hubs.\n",
    "\n",
    "We do the correlation once using the degree of the whole flight network and once using the degree of only the alliance network."
   ]
  },
  {
   "cell_type": "code",
   "execution_count": 20,
   "metadata": {},
   "outputs": [
    {
     "name": "stdout",
     "output_type": "stream",
     "text": [
      "Airports served by 1, 2 and 3 alliances:  852 432 513\n"
     ]
    }
   ],
   "source": [
    "# create an airport vector with the number of alliances serving it\n",
    "airport_num_alce = airport_world + airport_sky + airport_star\n",
    "print('Airports served by 1, 2 and 3 alliances: ', np.sum(airport_num_alce == 1), np.sum(airport_num_alce == 2), np.sum(airport_num_alce == 3))"
   ]
  },
  {
   "cell_type": "code",
   "execution_count": 21,
   "metadata": {},
   "outputs": [],
   "source": [
    "# degree calculation on the whole network\n",
    "A_nonw = unweighted_A(adjacency_normal)\n",
    "degree_all = np.sum(A_nonw, axis=0) \n",
    "# degree calculation on the alliance's network\n",
    "A_nonw_alce = unweighted_A(adjacency_alce)\n",
    "degree_alce = np.sum(A_nonw_alce, axis=0) \n",
    "\n",
    "# delete the zero degree airports for the alliance network (since anyway the number of alliances is zero here)\n",
    "airport_alce_only = airport_num_alce[airport_num_alce!=0]\n",
    "degree_alce_only = degree_alce[airport_num_alce!=0]"
   ]
  },
  {
   "cell_type": "code",
   "execution_count": 22,
   "metadata": {
    "scrolled": true
   },
   "outputs": [
    {
     "data": {
      "text/plain": [
       "Text(0.5,0.03,'Number of alliances per airport')"
      ]
     },
     "execution_count": 22,
     "metadata": {},
     "output_type": "execute_result"
    },
    {
     "data": {
      "image/png": "[encoded data removed]",
      "text/plain": [
       "<matplotlib.figure.Figure at 0x1a1a203470>"
      ]
     },
     "metadata": {},
     "output_type": "display_data"
    }
   ],
   "source": [
    "# plot the correlation\n",
    "f, axes = plt.subplots(1, 2, figsize=(10,4), sharey=True)\n",
    "sns.scatterplot(x = airport_alce_only, y = degree_alce_only, ax = axes[0], color = '#a4afc1', edgecolor = '#1e4584')\n",
    "sns.scatterplot(x = airport_num_alce, y = degree_all, ax = axes[1],  color = '#a4afc1', edgecolor = '#1e4584')\n",
    "axes[0].set_title('Degree calculated on the \\nalliance subgraph', fontsize = 13)\n",
    "axes[1].set_title('Degree calculated on the \\nwhole graph', fontsize = 13)\n",
    "axes[0].set_ylabel('Degree <k> of the airport')\n",
    "f.text(0.5, 0.03, 'Number of alliances per airport', ha='center')\n",
    "#plt.savefig('degree_numalce.pdf')"
   ]
  },
  {
   "cell_type": "code",
   "execution_count": 25,
   "metadata": {},
   "outputs": [
    {
     "name": "stdout",
     "output_type": "stream",
     "text": [
      "         airportsID IATA\n",
      "Airport                 \n",
      "SPU             488  SPU\n"
     ]
    },
    {
     "data": {
      "text/plain": [
       "2"
      ]
     },
     "execution_count": 25,
     "metadata": {},
     "output_type": "execute_result"
    }
   ],
   "source": [
    "# find the outlier airport on the second plot (alce == 1 and degree above 100) and the corresponding alliance\n",
    "df_all = pd.DataFrame({'num_alce': airport_num_alce, 'degree': degree_all})\n",
    "df_all[(df_all.num_alce == 1) & (df_all.degree > 90)]\n",
    "print(airportsID[airportsID.airportsID == 488]) # Stansted\n",
    "\n",
    "# it is One World with 2 flights\n",
    "np.sum(adjacency[488,:,3])"
   ]
  },
  {
   "cell_type": "markdown",
   "metadata": {},
   "source": [
    "## 3- Which part of the world is dominated by who, and what is a likely expansion? <a id='Part3'></a>\n",
    "\n",
    "#### Geographic distribution of the alliances <a id='Part3-1'></a>\n",
    "\n",
    "Each airline has a country of origin, and we can also associate each airport to a country. We then start the analysis by identifying the major alliance for each airport (for each airport count the number of edges for each alliance and attribute the airport to the alliance with the maximum count, in case of a tie, the airport is labelled by the two or three major alliances). We then have a graph with 3 labels, and nodes with an unknown label, if not served by an alliance company. A validation step of this approach is then to see whether the country of the airport is the same as the country of one of the airlines inside the alliance. When plotting the result on the worldmap, we might see geographic differences between the alliances."
   ]
  },
  {
   "cell_type": "code",
   "execution_count": null,
   "metadata": {},
   "outputs": [],
   "source": [
    "# WORLD MAP PLOT AND COUNTRY ATTRIBUTION"
   ]
  },
  {
   "cell_type": "code",
   "execution_count": 26,
   "metadata": {},
   "outputs": [],
   "source": [
    "# create dataframe with the airlines and their respective country \n",
    "airl_alliances  = pd.merge(alliances, airlines, left_on='IATA', right_on='IATA', how = 'left')[['Alliance', 'Name', 'IATA', 'Country']]"
   ]
  },
  {
   "cell_type": "code",
   "execution_count": 27,
   "metadata": {},
   "outputs": [
    {
     "data": {
      "text/html": [
       "<div>\n",
       "<style scoped>\n",
       "    .dataframe tbody tr th:only-of-type {\n",
       "        vertical-align: middle;\n",
       "    }\n",
       "\n",
       "    .dataframe tbody tr th {\n",
       "        vertical-align: top;\n",
       "    }\n",
       "\n",
       "    .dataframe thead th {\n",
       "        text-align: right;\n",
       "    }\n",
       "</style>\n",
       "<table border=\"1\" class=\"dataframe\">\n",
       "  <thead>\n",
       "    <tr style=\"text-align: right;\">\n",
       "      <th></th>\n",
       "      <th>ColorCode</th>\n",
       "    </tr>\n",
       "    <tr>\n",
       "      <th>Country</th>\n",
       "      <th></th>\n",
       "    </tr>\n",
       "  </thead>\n",
       "  <tbody>\n",
       "    <tr>\n",
       "      <th>Slovenia</th>\n",
       "      <td>1.0</td>\n",
       "    </tr>\n",
       "    <tr>\n",
       "      <th>Greece</th>\n",
       "      <td>1.0</td>\n",
       "    </tr>\n",
       "    <tr>\n",
       "      <th>Canada</th>\n",
       "      <td>1.0</td>\n",
       "    </tr>\n",
       "    <tr>\n",
       "      <th>China</th>\n",
       "      <td>1.0</td>\n",
       "    </tr>\n",
       "    <tr>\n",
       "      <th>New Zealand</th>\n",
       "      <td>1.0</td>\n",
       "    </tr>\n",
       "  </tbody>\n",
       "</table>\n",
       "</div>"
      ],
      "text/plain": [
       "             ColorCode\n",
       "Country               \n",
       "Slovenia           1.0\n",
       "Greece             1.0\n",
       "Canada             1.0\n",
       "China              1.0\n",
       "New Zealand        1.0"
      ]
     },
     "execution_count": 27,
     "metadata": {},
     "output_type": "execute_result"
    }
   ],
   "source": [
    "# attribute the countries to an alliance or combination of alliances\n",
    "country_attribution = pd.DataFrame(data={'Country': [], 'ColorCode': []});\n",
    "for country in airl_alliances.Country.unique():\n",
    "    alliances_unique = airl_alliances[airl_alliances.Country==country].Alliance.unique()\n",
    "    if 'Star Alliance' in alliances_unique:\n",
    "        if 'One World' in alliances_unique:\n",
    "            if 'SkyTeam' in alliances_unique :\n",
    "                colorCode = 7\n",
    "            else :\n",
    "                colorCode = 4\n",
    "        elif 'SkyTeam' in alliances_unique :\n",
    "            coloCode = 6\n",
    "        else :\n",
    "            colorCode = 1\n",
    "    elif 'One World' in alliances_unique :\n",
    "        if 'SkyTeam' in alliances_unique :\n",
    "            colorCode = 5\n",
    "        else :\n",
    "            colorCode = 2\n",
    "    elif 'SkyTeam' in alliances_unique :\n",
    "        colorCode = 3\n",
    "    country_attribution = country_attribution.append({'Country':country, 'ColorCode':colorCode},ignore_index=True)\n",
    "\n",
    "country_attribution = country_attribution.set_index('Country')\n",
    "country_attribution.head()"
   ]
  },
  {
   "cell_type": "code",
   "execution_count": 28,
   "metadata": {},
   "outputs": [],
   "source": [
    "# attribute the airports to an alliance or combination of alliances\n",
    "airport_attribution = airportsID.copy()\n",
    "airport_attribution['Alliance'] = np.nan\n",
    "\n",
    "for airport in airport_attribution.index :\n",
    "    idx = int(airport_attribution.loc[airport].airportsID)\n",
    "    SA = np.sum(adjacency[idx, :, 2]) + np.sum(adjacency[:, idx, 2])\n",
    "    OW = np.sum(adjacency[idx, :, 3]) + np.sum(adjacency[:, idx, 3])\n",
    "    ST = np.sum(adjacency[idx, :, 4]) + np.sum(adjacency[:, idx, 4])\n",
    "    if (SA==OW) & (SA==ST):\n",
    "        if SA == 0:\n",
    "            airport_attribution.loc[airport,'Alliance']= \"No Alliance\"\n",
    "        else:\n",
    "            airport_attribution.loc[airport,'Alliance']= 7 \n",
    "    elif (SA == OW) & (SA == max(SA, OW, ST)):\n",
    "        airport_attribution.loc[airport,'Alliance']= 4\n",
    "    elif (SA == ST) & (SA == max(SA, OW, ST)):\n",
    "        airport_attribution.loc[airport,'Alliance']= 6\n",
    "    elif (OW == ST) & (ST == max(SA, OW, ST)):\n",
    "        airport_attribution.loc[airport,'Alliance'] = 5\n",
    "    elif SA==max(SA,OW,ST) :\n",
    "        airport_attribution.loc[airport,'Alliance']= 1\n",
    "    elif OW==max(SA,OW,ST) :\n",
    "        airport_attribution.loc[airport,'Alliance']= 2\n",
    "    elif ST==max(SA,OW,ST) :\n",
    "        airport_attribution.loc[airport,'Alliance']= 3"
   ]
  },
  {
   "cell_type": "code",
   "execution_count": 29,
   "metadata": {},
   "outputs": [
    {
     "data": {
      "text/html": [
       "<div>\n",
       "<style scoped>\n",
       "    .dataframe tbody tr th:only-of-type {\n",
       "        vertical-align: middle;\n",
       "    }\n",
       "\n",
       "    .dataframe tbody tr th {\n",
       "        vertical-align: top;\n",
       "    }\n",
       "\n",
       "    .dataframe thead th {\n",
       "        text-align: right;\n",
       "    }\n",
       "</style>\n",
       "<table border=\"1\" class=\"dataframe\">\n",
       "  <thead>\n",
       "    <tr style=\"text-align: right;\">\n",
       "      <th></th>\n",
       "      <th>airportsID</th>\n",
       "      <th>IATA</th>\n",
       "      <th>Alliance</th>\n",
       "      <th>Country</th>\n",
       "    </tr>\n",
       "    <tr>\n",
       "      <th>Airport</th>\n",
       "      <th></th>\n",
       "      <th></th>\n",
       "      <th></th>\n",
       "      <th></th>\n",
       "    </tr>\n",
       "  </thead>\n",
       "  <tbody>\n",
       "    <tr>\n",
       "      <th>AER</th>\n",
       "      <td>0</td>\n",
       "      <td>AER</td>\n",
       "      <td>3</td>\n",
       "      <td>Russia</td>\n",
       "    </tr>\n",
       "    <tr>\n",
       "      <th>ASF</th>\n",
       "      <td>1</td>\n",
       "      <td>ASF</td>\n",
       "      <td>7</td>\n",
       "      <td>Russia</td>\n",
       "    </tr>\n",
       "    <tr>\n",
       "      <th>CEK</th>\n",
       "      <td>2</td>\n",
       "      <td>CEK</td>\n",
       "      <td>2</td>\n",
       "      <td>Russia</td>\n",
       "    </tr>\n",
       "    <tr>\n",
       "      <th>DME</th>\n",
       "      <td>3</td>\n",
       "      <td>DME</td>\n",
       "      <td>2</td>\n",
       "      <td>Russia</td>\n",
       "    </tr>\n",
       "    <tr>\n",
       "      <th>EGO</th>\n",
       "      <td>4</td>\n",
       "      <td>EGO</td>\n",
       "      <td>No Alliance</td>\n",
       "      <td>Russia</td>\n",
       "    </tr>\n",
       "  </tbody>\n",
       "</table>\n",
       "</div>"
      ],
      "text/plain": [
       "         airportsID IATA     Alliance Country\n",
       "Airport                                      \n",
       "AER               0  AER            3  Russia\n",
       "ASF               1  ASF            7  Russia\n",
       "CEK               2  CEK            2  Russia\n",
       "DME               3  DME            2  Russia\n",
       "EGO               4  EGO  No Alliance  Russia"
      ]
     },
     "execution_count": 29,
     "metadata": {},
     "output_type": "execute_result"
    }
   ],
   "source": [
    "# add the country information to the dataframe\n",
    "country_ref=airports[['Country','IATA']]\n",
    "country_ref.rename(columns={\"IATA\": \"Airport\"},inplace=True)\n",
    "country_ref.set_index('Airport', inplace=True)\n",
    "\n",
    "airport_attribution = pd.merge(airport_attribution, country_ref,  on='Airport', how  ='left')\n",
    "#airport_attribution.drop(columns=['airportsID'], inplace=True)\n",
    "\n",
    "airport_attribution.head()"
   ]
  },
  {
   "cell_type": "code",
   "execution_count": 30,
   "metadata": {},
   "outputs": [],
   "source": [
    "def compare(alliance, airport_attribution, country_attribution):\n",
    "    '''Function that compares the countries where the alliance has an airline with a country\n",
    "    of origin and the countries where the alliance dominates airports.'''\n",
    "    \n",
    "    if alliance=='Star Alliance' :\n",
    "        val=[1,4,6,7]\n",
    "    elif alliance=='One World' :\n",
    "        val=[2,4,5,7]\n",
    "    elif alliance=='SkyTeam' :\n",
    "        val=[3,5,6,7]\n",
    "    else :\n",
    "        print('The alliance parameter is not correct.')\n",
    "        return\n",
    "    \n",
    "    print('Comparison between country and airport attribution for '+alliance)\n",
    "    print()\n",
    "    \n",
    "    list1 = list(country_attribution[country_attribution['ColorCode'].isin(val)].index)\n",
    "    print('Countries where the companies of the alliance have their basis :',len(list1))\n",
    "    print(list1)\n",
    "    print()\n",
    "    \n",
    "    list2 = list(airport_attribution[airport_attribution['Alliance'].isin(val)].Country.unique())\n",
    "    print('Countries where the alliance dominates airports :',len(list2))\n",
    "    print(list2)\n",
    "    print()\n",
    "    \n",
    "    inBoth=set(list1) & set(list2)\n",
    "    print('Countries that are in both lists :',len(inBoth))\n",
    "    print(inBoth)"
   ]
  },
  {
   "cell_type": "code",
   "execution_count": 31,
   "metadata": {},
   "outputs": [
    {
     "name": "stdout",
     "output_type": "stream",
     "text": [
      "Comparison between country and airport attribution for Star Alliance\n",
      "\n",
      "Countries where the companies of the alliance have their basis : 25\n",
      "['Slovenia', 'Greece', 'Canada', 'China', 'New Zealand', 'Japan', 'Republic of Korea', 'United States', 'Austria', 'AVIANCA', 'Belgium', 'Panama', 'Croatia', 'Egypt', 'Ethiopia', 'Taiwan', 'Poland', 'Germany', 'Sweden', 'Singapore', 'South Africa', 'Switzerland', 'Portugal', 'Thailand', 'Turkey']\n",
      "\n",
      "Countries where the alliance dominates airports : 142\n",
      "['Russia', \"Cote d'Ivoire\", 'Ghana', 'Mali', 'Benin', 'Senegal', 'Togo', 'Niger', 'Burkina Faso', 'Colombia', 'Switzerland', 'Cyprus', 'Egypt', 'Sweden', 'Norway', 'Finland', 'Brazil', 'United States', 'Gambia', 'Guinea', 'Cameroon', 'Sierra Leone', 'Nigeria', 'Guinea-Bissau', 'Canada', 'Djibouti', 'Somalia', 'Thailand', 'Japan', 'Singapore', 'Germany', 'Austria', 'Croatia', 'Bahamas', 'Belgium', 'Turkey', 'Aruba', 'Netherlands Antilles', 'Venezuela', 'China', nan, 'Northern Mariana Islands', 'Taiwan', 'Israel', 'India', 'Nepal', 'Mexico', 'Guatemala', 'Costa Rica', 'Afghanistan', 'France', 'Serbia', 'Macedonia', 'Italy', 'Greece', 'United Kingdom', 'Hungary', 'Ireland', 'Portugal', 'Poland', 'Morocco', 'Bosnia and Herzegovina', 'Nicaragua', 'South Sudan', 'Kenya', 'Tanzania', 'Philippines', 'Macau', 'Paraguay', 'Belize', 'Honduras', 'South Africa', 'Georgia', 'Denmark', 'Latvia', 'South Korea', 'Guam', 'Trinidad and Tobago', 'Kazakhstan', 'Iran', 'Ukraine', 'Libya', 'Moldova', 'Panama', 'Kuwait', 'Bulgaria', 'Uganda', 'New Zealand', 'Cayman Islands', 'Luxembourg', 'Jamaica', 'Dominican Republic', 'El Salvador', 'Malta', 'Cuba', 'Ethiopia', 'Burundi', 'Congo (Kinshasa)', 'Rwanda', 'Angola', 'Lithuania', 'Central African Republic', 'Zimbabwe', 'Gabon', 'Slovenia', 'Chad', 'Congo (Brazzaville)', 'Palau', 'Equatorial Guinea', 'Madagascar', 'Cape Verde', 'Iceland', 'Belarus', 'Estonia', 'Pakistan', 'Montenegro', 'Turkmenistan', 'Puerto Rico', 'Namibia', 'Botswana', 'North Korea', 'Mongolia', 'Sao Tome and Principe', 'Iraq', 'Yemen', 'Malawi', 'Liberia', 'Mozambique', 'Samoa', 'Tonga', 'Cook Islands', 'Eritrea', 'Azerbaijan', 'Australia', 'Niue', 'Norfolk Island', 'Marshall Islands', 'Jordan', 'Lesotho', 'Swaziland', 'Romania', 'Micronesia']\n",
      "\n",
      "Countries that are in both lists : 23\n",
      "{'Singapore', 'Austria', 'Croatia', 'South Africa', 'Germany', 'Greece', 'Turkey', 'Ethiopia', 'United States', 'Portugal', 'Japan', 'Taiwan', 'Egypt', 'China', 'New Zealand', 'Canada', 'Sweden', 'Slovenia', 'Belgium', 'Thailand', 'Poland', 'Panama', 'Switzerland'}\n"
     ]
    }
   ],
   "source": [
    "compare('Star Alliance',airport_attribution,country_attribution)"
   ]
  },
  {
   "cell_type": "code",
   "execution_count": 32,
   "metadata": {},
   "outputs": [
    {
     "name": "stdout",
     "output_type": "stream",
     "text": [
      "Comparison between country and airport attribution for One World\n",
      "\n",
      "Countries where the companies of the alliance have their basis : 15\n",
      "['Japan', 'Republic of Korea', 'United States', 'Germany', 'Russia', 'Spain', 'United Kingdom', 'Hong Kong SAR of China', 'Finland', 'Chile', 'Malaysia', 'Australia', 'Qatar', 'Jordan', 'Sri Lanka']\n",
      "\n",
      "Countries where the alliance dominates airports : 96\n",
      "['Russia', 'Peru', 'Ecuador', 'Italy', 'Spain', 'Finland', 'United Arab Emirates', 'Philippines', 'United States', 'Gambia', 'United Kingdom', 'Australia', 'Hong Kong', 'Thailand', 'Malaysia', 'Germany', 'Austria', 'Bahamas', 'Morocco', 'Netherlands Antilles', 'Venezuela', 'Uzbekistan', 'Montenegro', 'Antigua and Barbuda', 'Dominica', 'India', 'Bangladesh', 'Oman', 'Mexico', 'Turkey', 'Egypt', 'Greece', 'Portugal', 'Brunei', 'Chile', 'Paraguay', 'Belize', 'Honduras', 'Burma', 'Japan', 'Jamaica', 'Dominican Republic', 'Trinidad and Tobago', 'Tajikistan', 'Argentina', 'Jordan', nan, 'British Virgin Islands', 'Puerto Rico', 'Virgin Islands', 'Turks and Caicos Islands', 'Colombia', 'Bahrain', 'Sri Lanka', 'Ukraine', 'Bolivia', 'France', 'Georgia', 'Bermuda', 'Barbados', 'Cayman Islands', 'Gibraltar', 'Grenada', 'Fiji', 'French Polynesia', 'Netherlands', 'Saint Kitts and Nevis', 'Saint Lucia', 'Canada', 'Tunisia', 'Guernsey', 'Jersey', 'Brazil', 'Denmark', 'Algeria', 'Maldives', 'Indonesia', 'Sweden', 'Iceland', 'Estonia', 'Pakistan', 'Iran', 'Isle of Man', 'Cyprus', 'Zimbabwe', 'Papua New Guinea', 'Kyrgyzstan', 'Kazakhstan', 'Bulgaria', 'Iraq', 'Yemen', 'Kiribati', 'Vanuatu', 'Falkland Islands', 'East Timor', 'New Caledonia']\n",
      "\n",
      "Countries that are in both lists : 12\n",
      "{'Finland', 'Chile', 'United States', 'Jordan', 'Spain', 'United Kingdom', 'Germany', 'Malaysia', 'Sri Lanka', 'Russia', 'Japan', 'Australia'}\n"
     ]
    }
   ],
   "source": [
    "compare('One World',airport_attribution,country_attribution)"
   ]
  },
  {
   "cell_type": "code",
   "execution_count": 33,
   "metadata": {
    "scrolled": false
   },
   "outputs": [
    {
     "name": "stdout",
     "output_type": "stream",
     "text": [
      "Comparison between country and airport attribution for SkyTeam\n",
      "\n",
      "Countries where the companies of the alliance have their basis : 15\n",
      "['United States', 'Russia', 'Argentina', 'Mexico', 'Spain', 'France', 'Italy', 'Czech Republic', 'Indonesia', 'Kenya', 'Netherlands', 'Lebanon', 'Saudi Arabia', 'Romania', 'Vietnam']\n",
      "\n",
      "Countries where the alliance dominates airports : 86\n",
      "['Russia', 'Azerbaijan', 'Niger', 'Italy', 'France', 'United Kingdom', 'Norway', 'Philippines', 'Brazil', 'United States', 'Liberia', 'Djibouti', 'Kenya', 'China', 'Cambodia', 'Burma', 'Vietnam', 'Taiwan', 'Netherlands', 'Morocco', 'Netherlands Antilles', 'Uzbekistan', 'French Guiana', 'Martinique', 'Guadeloupe', 'Dominican Republic', 'Saint Lucia', 'South Korea', nan, 'Bangladesh', 'Saudi Arabia', 'Argentina', 'Mexico', 'Cuba', 'India', 'Pakistan', 'Algeria', 'Germany', 'Czech Republic', 'Tunisia', 'Indonesia', 'Paraguay', 'Uruguay', 'Armenia', 'Latvia', 'Haiti', 'Suriname', 'Tajikistan', 'Kyrgyzstan', 'Thailand', 'Romania', 'United Arab Emirates', 'Kuwait', 'Albania', 'Belgium', 'Lebanon', 'Central African Republic', 'Congo (Brazzaville)', 'Mayotte', 'Comoros', 'Tanzania', 'Finland', 'Malawi', 'Laos', 'Zambia', 'Mauritius', 'Mauritania', 'Nigeria', 'Reunion', 'Madagascar', 'Spain', 'Sudan', 'Seychelles', 'Iran', 'Botswana', 'Congo (Kinshasa)', 'Mongolia', 'Slovakia', 'Kazakhstan', 'Bulgaria', 'Yemen', 'Ukraine', 'Iraq', 'Canada', 'Sweden', 'Mozambique']\n",
      "\n",
      "Countries that are in both lists : 15\n",
      "{'Saudi Arabia', 'Argentina', 'Lebanon', 'Indonesia', 'Spain', 'United States', 'France', 'Russia', 'Italy', 'Kenya', 'Vietnam', 'Czech Republic', 'Netherlands', 'Mexico', 'Romania'}\n"
     ]
    }
   ],
   "source": [
    "compare('SkyTeam',airport_attribution,country_attribution)"
   ]
  },
  {
   "cell_type": "markdown",
   "metadata": {},
   "source": [
    "For the visualisation, we can associate a color for each airport depending on the proportion of the three alliances. "
   ]
  },
  {
   "cell_type": "code",
   "execution_count": 34,
   "metadata": {},
   "outputs": [],
   "source": [
    "airport_colors = [None] * airportsID.shape[0]\n",
    "\n",
    "for airport in airportsID.airportsID :\n",
    "    SA = np.sum(adjacency[airport, :, 2])\n",
    "    OW = np.sum(adjacency[airport, :, 3])\n",
    "    ST = np.sum(adjacency[airport, :, 4])\n",
    "    p = np.array([SA, OW, ST])\n",
    "    norm = np.linalg.norm(p)\n",
    "    if (norm != 0):\n",
    "        p = p/norm*255\n",
    "    airport_colors[airport]='#%02x%02x%02x'%(int(p[0]), int(p[1]), int(p[2]))"
   ]
  },
  {
   "cell_type": "code",
   "execution_count": 35,
   "metadata": {},
   "outputs": [
    {
     "ename": "NameError",
     "evalue": "name 'folium' is not defined",
     "output_type": "error",
     "traceback": [
      "\u001b[1;31m---------------------------------------------------------------------------\u001b[0m",
      "\u001b[1;31mNameError\u001b[0m                                 Traceback (most recent call last)",
      "\u001b[1;32m<ipython-input-35-082075925966>\u001b[0m in \u001b[0;36m<module>\u001b[1;34m()\u001b[0m\n\u001b[1;32m----> 1\u001b[1;33m \u001b[0mmapColorAiports\u001b[0m \u001b[1;33m=\u001b[0m \u001b[0mfolium\u001b[0m\u001b[1;33m.\u001b[0m\u001b[0mMap\u001b[0m\u001b[1;33m(\u001b[0m\u001b[0mtiles\u001b[0m\u001b[1;33m=\u001b[0m\u001b[1;34m'cartodbdark_matter'\u001b[0m\u001b[1;33m,\u001b[0m  \u001b[0mlocation\u001b[0m\u001b[1;33m=\u001b[0m\u001b[1;33m[\u001b[0m\u001b[1;36m14\u001b[0m\u001b[1;33m,\u001b[0m \u001b[1;36m10\u001b[0m\u001b[1;33m]\u001b[0m\u001b[1;33m,\u001b[0m \u001b[0mzoom_start\u001b[0m\u001b[1;33m=\u001b[0m\u001b[1;36m1.5\u001b[0m\u001b[1;33m)\u001b[0m\u001b[1;33m\u001b[0m\u001b[0m\n\u001b[0m\u001b[0;32m      2\u001b[0m \u001b[1;32mfor\u001b[0m \u001b[0midx\u001b[0m\u001b[1;33m,\u001b[0m\u001b[0mrow\u001b[0m \u001b[1;32min\u001b[0m \u001b[0mgeoData\u001b[0m\u001b[1;33m.\u001b[0m\u001b[0miterrows\u001b[0m\u001b[1;33m(\u001b[0m\u001b[1;33m)\u001b[0m\u001b[1;33m:\u001b[0m\u001b[1;33m\u001b[0m\u001b[0m\n\u001b[0;32m      3\u001b[0m     \u001b[1;31m#print(row.alliance)\u001b[0m\u001b[1;33m\u001b[0m\u001b[1;33m\u001b[0m\u001b[0m\n\u001b[0;32m      4\u001b[0m     \u001b[0mcolor\u001b[0m \u001b[1;33m=\u001b[0m \u001b[0mairport_colors\u001b[0m\u001b[1;33m[\u001b[0m\u001b[0midx\u001b[0m\u001b[1;33m]\u001b[0m\u001b[1;33m\u001b[0m\u001b[0m\n\u001b[0;32m      5\u001b[0m     \u001b[1;32mif\u001b[0m \u001b[0mcolor\u001b[0m \u001b[1;33m==\u001b[0m\u001b[1;34m\"#000000\"\u001b[0m\u001b[1;33m:\u001b[0m\u001b[1;33m\u001b[0m\u001b[0m\n",
      "\u001b[1;31mNameError\u001b[0m: name 'folium' is not defined"
     ]
    }
   ],
   "source": [
    "mapColorAiports = folium.Map(tiles='cartodbdark_matter',  location=[14, 10], zoom_start=1.5)\n",
    "for idx,row in geoData.iterrows():\n",
    "    #print(row.alliance)\n",
    "    color = airport_colors[idx]\n",
    "    if color ==\"#000000\":\n",
    "        r = 2\n",
    "    else:\n",
    "        r = 3\n",
    "    if pd.isna(row.Latitude) is False:\n",
    "        folium.CircleMarker(\n",
    "            location=[row.Latitude, row.Longitude],\n",
    "            radius=r,\n",
    "            color=color,\n",
    "            stroke=False,\n",
    "            fill=True,\n",
    "            fill_opacity=0.6,\n",
    "            tooltip=row.Name\n",
    "        ).add_to(mapColorAiports)\n",
    "mapColorAiports"
   ]
  },
  {
   "cell_type": "code",
   "execution_count": null,
   "metadata": {},
   "outputs": [],
   "source": [
    "mapColorAiports.save(\"mapColorAiports.html\")"
   ]
  },
  {
   "cell_type": "markdown",
   "metadata": {},
   "source": [
    "On the map, if the airport is more red, it means that the proportion of flight of <span style=\"background:#FF0000\">Sky Alliance</span> is more important that the other alliances. The same way, the green is asociated with <span style=\"background:#00FF00\">One World</span> and blue with <span style=\"background:#0000FF\">SkyTeam</span>."
   ]
  },
  {
   "cell_type": "markdown",
   "metadata": {},
   "source": [
    "### Airport expansion of the alliances predicted through label propagation  <a id='Part3-2'></a>\n",
    "\n",
    "We study the expansion of the alliances through label propagation. The underlying concept is that airport not yet served by an alliance will be served by the alliance occurring with the highest frequency among its neighbours. Each neighbour has one vote, independent of how connected it is, and an airport may be labelled by 2 or 3 alliances if there is a tie among the node degree between the alliances (at the step of the initial labelling) or a tie between the vote comparison (at the step of attributing the label) (see illustration below).\n",
    "\n",
    "In a first step we validate our algorithm by only working on the alliance network and by randomly unlabelling half of the nodes for which we know the major alliance serving it. This allows us to get some accuracy scores and to see if our algorithm is valid. In a second step, we keep all the airports labelled which are served by an alliance and through label propagation we predict the likely alliance expansion (we predict a label for all the airports inside our largest connected component). "
   ]
  },
  {
   "cell_type": "markdown",
   "metadata": {},
   "source": [
    "<img src=\"image_illustration/label_propa_algo.png\">"
   ]
  },
  {
   "cell_type": "markdown",
   "metadata": {},
   "source": [
    "First, we create a new airport attribution matrix with dummy columns for each alliance, filled with 1 if that alliance is a major alliance for this airport."
   ]
  },
  {
   "cell_type": "code",
   "execution_count": 36,
   "metadata": {},
   "outputs": [
    {
     "data": {
      "text/html": [
       "<div>\n",
       "<style scoped>\n",
       "    .dataframe tbody tr th:only-of-type {\n",
       "        vertical-align: middle;\n",
       "    }\n",
       "\n",
       "    .dataframe tbody tr th {\n",
       "        vertical-align: top;\n",
       "    }\n",
       "\n",
       "    .dataframe thead th {\n",
       "        text-align: right;\n",
       "    }\n",
       "</style>\n",
       "<table border=\"1\" class=\"dataframe\">\n",
       "  <thead>\n",
       "    <tr style=\"text-align: right;\">\n",
       "      <th></th>\n",
       "      <th>airport</th>\n",
       "      <th>airportsID</th>\n",
       "      <th>Star Alliance</th>\n",
       "      <th>One World</th>\n",
       "      <th>SkyTeam</th>\n",
       "    </tr>\n",
       "    <tr>\n",
       "      <th>Airport</th>\n",
       "      <th></th>\n",
       "      <th></th>\n",
       "      <th></th>\n",
       "      <th></th>\n",
       "      <th></th>\n",
       "    </tr>\n",
       "  </thead>\n",
       "  <tbody>\n",
       "    <tr>\n",
       "      <th>AER</th>\n",
       "      <td>AER</td>\n",
       "      <td>0</td>\n",
       "      <td>0.0</td>\n",
       "      <td>0.0</td>\n",
       "      <td>1.0</td>\n",
       "    </tr>\n",
       "    <tr>\n",
       "      <th>ASF</th>\n",
       "      <td>ASF</td>\n",
       "      <td>1</td>\n",
       "      <td>1.0</td>\n",
       "      <td>1.0</td>\n",
       "      <td>1.0</td>\n",
       "    </tr>\n",
       "    <tr>\n",
       "      <th>CEK</th>\n",
       "      <td>CEK</td>\n",
       "      <td>2</td>\n",
       "      <td>0.0</td>\n",
       "      <td>1.0</td>\n",
       "      <td>0.0</td>\n",
       "    </tr>\n",
       "    <tr>\n",
       "      <th>DME</th>\n",
       "      <td>DME</td>\n",
       "      <td>3</td>\n",
       "      <td>0.0</td>\n",
       "      <td>1.0</td>\n",
       "      <td>0.0</td>\n",
       "    </tr>\n",
       "    <tr>\n",
       "      <th>EGO</th>\n",
       "      <td>EGO</td>\n",
       "      <td>4</td>\n",
       "      <td>0.0</td>\n",
       "      <td>0.0</td>\n",
       "      <td>0.0</td>\n",
       "    </tr>\n",
       "  </tbody>\n",
       "</table>\n",
       "</div>"
      ],
      "text/plain": [
       "        airport  airportsID  Star Alliance  One World  SkyTeam\n",
       "Airport                                                       \n",
       "AER         AER           0            0.0        0.0      1.0\n",
       "ASF         ASF           1            1.0        1.0      1.0\n",
       "CEK         CEK           2            0.0        1.0      0.0\n",
       "DME         DME           3            0.0        1.0      0.0\n",
       "EGO         EGO           4            0.0        0.0      0.0"
      ]
     },
     "execution_count": 36,
     "metadata": {},
     "output_type": "execute_result"
    }
   ],
   "source": [
    "# initialize the dummy dataframe\n",
    "airport_attribution_dummy = pd.DataFrame({'airport': airportsID.index, 'airportsID': airportsID.airportsID,\n",
    "                                        'Star Alliance': np.zeros(airportsID.shape[0]), 'One World': np.zeros(airportsID.shape[0]),\n",
    "                                        'SkyTeam': np.zeros(airportsID.shape[0])})\n",
    "\n",
    "# fill in the airport-alliance attribution\n",
    "for airport in airport_attribution.index :\n",
    "    idx = int(airport_attribution.loc[airport].airportsID)\n",
    "    SA = np.sum(adjacency[idx, :, 2]) + np.sum(adjacency[:, idx, 2])\n",
    "    OW = np.sum(adjacency[idx, :, 3]) + np.sum(adjacency[:, idx, 3])\n",
    "    ST = np.sum(adjacency[idx, :, 4]) + np.sum(adjacency[:, idx, 4])\n",
    "    if (SA==OW) & (SA==ST):\n",
    "        if SA != 0:\n",
    "            airport_attribution_dummy.loc[airport,'Star Alliance'] += 1\n",
    "            airport_attribution_dummy.loc[airport,'One World'] += 1\n",
    "            airport_attribution_dummy.loc[airport,'SkyTeam'] += 1\n",
    "    elif (SA == OW) & (SA == max(SA, OW, ST)):\n",
    "        airport_attribution_dummy.loc[airport,'Star Alliance'] += 1\n",
    "        airport_attribution_dummy.loc[airport,'One World'] += 1\n",
    "    elif (SA == ST) & (SA == max(SA, OW, ST)):\n",
    "        airport_attribution_dummy.loc[airport,'Star Alliance'] += 1\n",
    "        airport_attribution_dummy.loc[airport,'SkyTeam'] += 1\n",
    "    elif (OW == ST) & (ST == max(SA, OW, ST)):\n",
    "        airport_attribution_dummy.loc[airport,'One World'] += 1\n",
    "        airport_attribution_dummy.loc[airport,'SkyTeam'] += 1\n",
    "    elif SA==max(SA,OW,ST) :\n",
    "        airport_attribution_dummy.loc[airport,'Star Alliance'] += 1\n",
    "    elif OW==max(SA,OW,ST) :\n",
    "        airport_attribution_dummy.loc[airport,'One World'] += 1\n",
    "    elif ST==max(SA,OW,ST) :\n",
    "        airport_attribution_dummy.loc[airport,'SkyTeam'] += 1\n",
    "        \n",
    "airport_attribution_dummy.head()"
   ]
  },
  {
   "cell_type": "markdown",
   "metadata": {},
   "source": [
    "### Validation on the alliance dataset by unlabelling half of the airports"
   ]
  },
  {
   "cell_type": "code",
   "execution_count": 37,
   "metadata": {},
   "outputs": [
    {
     "data": {
      "text/html": [
       "<div>\n",
       "<style scoped>\n",
       "    .dataframe tbody tr th:only-of-type {\n",
       "        vertical-align: middle;\n",
       "    }\n",
       "\n",
       "    .dataframe tbody tr th {\n",
       "        vertical-align: top;\n",
       "    }\n",
       "\n",
       "    .dataframe thead th {\n",
       "        text-align: right;\n",
       "    }\n",
       "</style>\n",
       "<table border=\"1\" class=\"dataframe\">\n",
       "  <thead>\n",
       "    <tr style=\"text-align: right;\">\n",
       "      <th></th>\n",
       "      <th>airport</th>\n",
       "      <th>airportsID</th>\n",
       "      <th>Star Alliance</th>\n",
       "      <th>One World</th>\n",
       "      <th>SkyTeam</th>\n",
       "      <th>labelled</th>\n",
       "      <th>tolabel</th>\n",
       "      <th>Star Alliance pred</th>\n",
       "      <th>One World pred</th>\n",
       "      <th>SkyTeam pred</th>\n",
       "    </tr>\n",
       "    <tr>\n",
       "      <th>airportsID</th>\n",
       "      <th></th>\n",
       "      <th></th>\n",
       "      <th></th>\n",
       "      <th></th>\n",
       "      <th></th>\n",
       "      <th></th>\n",
       "      <th></th>\n",
       "      <th></th>\n",
       "      <th></th>\n",
       "      <th></th>\n",
       "    </tr>\n",
       "  </thead>\n",
       "  <tbody>\n",
       "    <tr>\n",
       "      <th>0</th>\n",
       "      <td>AER</td>\n",
       "      <td>0</td>\n",
       "      <td>0.0</td>\n",
       "      <td>0.0</td>\n",
       "      <td>1.0</td>\n",
       "      <td>1</td>\n",
       "      <td>0.0</td>\n",
       "      <td>0.0</td>\n",
       "      <td>0.0</td>\n",
       "      <td>0.0</td>\n",
       "    </tr>\n",
       "    <tr>\n",
       "      <th>1</th>\n",
       "      <td>ASF</td>\n",
       "      <td>1</td>\n",
       "      <td>1.0</td>\n",
       "      <td>1.0</td>\n",
       "      <td>1.0</td>\n",
       "      <td>0</td>\n",
       "      <td>1.0</td>\n",
       "      <td>0.0</td>\n",
       "      <td>0.0</td>\n",
       "      <td>0.0</td>\n",
       "    </tr>\n",
       "    <tr>\n",
       "      <th>2</th>\n",
       "      <td>CEK</td>\n",
       "      <td>2</td>\n",
       "      <td>0.0</td>\n",
       "      <td>1.0</td>\n",
       "      <td>0.0</td>\n",
       "      <td>0</td>\n",
       "      <td>1.0</td>\n",
       "      <td>0.0</td>\n",
       "      <td>0.0</td>\n",
       "      <td>0.0</td>\n",
       "    </tr>\n",
       "    <tr>\n",
       "      <th>3</th>\n",
       "      <td>DME</td>\n",
       "      <td>3</td>\n",
       "      <td>0.0</td>\n",
       "      <td>1.0</td>\n",
       "      <td>0.0</td>\n",
       "      <td>1</td>\n",
       "      <td>0.0</td>\n",
       "      <td>0.0</td>\n",
       "      <td>0.0</td>\n",
       "      <td>0.0</td>\n",
       "    </tr>\n",
       "    <tr>\n",
       "      <th>5</th>\n",
       "      <td>GYD</td>\n",
       "      <td>5</td>\n",
       "      <td>0.0</td>\n",
       "      <td>0.0</td>\n",
       "      <td>1.0</td>\n",
       "      <td>0</td>\n",
       "      <td>1.0</td>\n",
       "      <td>0.0</td>\n",
       "      <td>0.0</td>\n",
       "      <td>0.0</td>\n",
       "    </tr>\n",
       "  </tbody>\n",
       "</table>\n",
       "</div>"
      ],
      "text/plain": [
       "           airport  airportsID  Star Alliance  One World  SkyTeam  labelled  \\\n",
       "airportsID                                                                    \n",
       "0              AER           0            0.0        0.0      1.0         1   \n",
       "1              ASF           1            1.0        1.0      1.0         0   \n",
       "2              CEK           2            0.0        1.0      0.0         0   \n",
       "3              DME           3            0.0        1.0      0.0         1   \n",
       "5              GYD           5            0.0        0.0      1.0         0   \n",
       "\n",
       "            tolabel  Star Alliance pred  One World pred  SkyTeam pred  \n",
       "airportsID                                                             \n",
       "0               0.0                 0.0             0.0           0.0  \n",
       "1               1.0                 0.0             0.0           0.0  \n",
       "2               1.0                 0.0             0.0           0.0  \n",
       "3               0.0                 0.0             0.0           0.0  \n",
       "5               1.0                 0.0             0.0           0.0  "
      ]
     },
     "execution_count": 37,
     "metadata": {},
     "output_type": "execute_result"
    }
   ],
   "source": [
    "# prepare the dataset for the label propagation algorithm\n",
    "airport_alce = airport_attribution_dummy.copy()\n",
    "airport_alce.index = airportsID.airportsID\n",
    "\n",
    "# First we only work on airports with a label \n",
    "airport_alce = airport_alce[airport_alce[['Star Alliance', 'One World', 'SkyTeam']].sum(axis=1) != 0].copy()\n",
    "# add a column with a label 1 if labelled or 0 if unlabelled, and we choose to unlabel 1/2\n",
    "airport_alce['labelled'] = np.random.choice([0, 1], size=(airport_alce.shape[0],), p=[1./2, 1./2])\n",
    "# add a column to indicate whether an unlabelled airport needs to be labelled\n",
    "airport_alce['tolabel'] = np.zeros(airport_alce.shape[0])\n",
    "airport_alce['tolabel'][airport_alce.labelled==0] = 1\n",
    "# add new columns for the predicted alliance for the unlabelled airports\n",
    "airport_alce['Star Alliance pred'] = np.zeros(airport_alce.shape[0])\n",
    "airport_alce['One World pred'] = np.zeros(airport_alce.shape[0])\n",
    "airport_alce['SkyTeam pred'] = np.zeros(airport_alce.shape[0])\n",
    "airport_alce.head()"
   ]
  },
  {
   "cell_type": "code",
   "execution_count": 38,
   "metadata": {},
   "outputs": [],
   "source": [
    "def propagate_labels(airport_data, adjacency):\n",
    "    '''Function that labels unlabelled airports with an alliance or a combination of alliances.\n",
    "    airport_data: dataframe with the alliance-airport information\n",
    "    adjacency: unweighted adjacency matrix.'''\n",
    "   \n",
    "    airport_attr = airport_data.copy()\n",
    "    list_airport_to_label = list(airport_attr[airport_attr.tolabel == 1].airportsID)\n",
    "    while list_airport_to_label != [] :\n",
    "        # we randomly chose an airport\n",
    "        number_airport=len(list_airport_to_label)\n",
    "        if number_airport>1:\n",
    "            airport= list_airport_to_label[random.randint(0,number_airport-1)]\n",
    "        else:\n",
    "            airport= list_airport_to_label[0]\n",
    "            \n",
    "        # find the neighbours of the airport\n",
    "        neighbours = np.argwhere(adjacency[airport,]!=0)\n",
    "        neighbours = [item for sublist in neighbours for item in sublist] # unlist neighbours\n",
    "        \n",
    "        # sum up the alliances labels of the labelled neighbour nodes\n",
    "        values = airport_attr[['Star Alliance', 'One World', 'SkyTeam']][(airport_attr.airportsID.isin(neighbours)) & (airport_attr.labelled == 1)].sum()\n",
    "        \n",
    "        # add the votes of the newly predicted neighbour airports\n",
    "        values_neigh_pred = list(airport_attr[['Star Alliance pred', 'One World pred', 'SkyTeam pred']][(airport_attr.airportsID.isin(neighbours)) & (airport_attr.labelled == 0)].sum())\n",
    "        values = values+values_neigh_pred\n",
    "        \n",
    "        # if there is no majority alliance, skip this round\n",
    "        if sum(values) == 0:\n",
    "            continue\n",
    "        # get the major alliance\n",
    "        alliance = list(values[values == max(values)].index)\n",
    "        # add 'pred' after the alliance to match the column name\n",
    "        alliance_pred = [s + ' pred' for s in alliance]\n",
    "        # attribute the label\n",
    "        airport_attr.loc[airport, alliance_pred] = 1\n",
    "        \n",
    "        # remove the 'tolabel' for this airport\n",
    "        airport_attr.loc[airport, 'tolabel'] = 0\n",
    "        list_airport_to_label = list(airport_attr[airport_attr.tolabel == 1].airportsID)\n",
    "\n",
    "    return airport_attr"
   ]
  },
  {
   "cell_type": "code",
   "execution_count": 39,
   "metadata": {},
   "outputs": [],
   "source": [
    "# test the algorithm using the unweighted alliance adjacency matrix\n",
    "adjacency_alce = np.sum(adjacency[:,:,2:], axis=2)\n",
    "A_nonw_alce = unweighted_A(adjacency_alce)\n",
    "airport_attr = propagate_labels(airport_alce, A_nonw_alce)"
   ]
  },
  {
   "cell_type": "code",
   "execution_count": 40,
   "metadata": {},
   "outputs": [
    {
     "name": "stdout",
     "output_type": "stream",
     "text": [
      "Number of airports for which a label is predicted 903\n",
      "Total number of airports 1797\n",
      "correctness for the individual alliances\n",
      "Star Alliance 0.8128460686600222\n",
      "One World 0.8626799557032115\n",
      "SkyTeam 0.8128460686600222\n",
      "Overall correctness:  619 Accuracy (%):  0.6854928017718716\n"
     ]
    }
   ],
   "source": [
    "# calculate the accuracy scores\n",
    "'''Since we allow the airports to have multiple labels,  we calculate a score once for every \n",
    "alliance and an overall accuracy score.  \n",
    "Here is an example to illustrate this:  if an airport has a SA and a ST label, \n",
    "and our algorithm predicts only SA, their would be a full accuracy score for SA alone, \n",
    "but 0 for ST and the overall correctness. ''' \n",
    "\n",
    "# get the predicted airports\n",
    "airport_pred = airport_attr[airport_attr.labelled == 0]\n",
    "num_pred = airport_pred.shape[0]\n",
    "print('Number of airports for which a label is predicted', num_pred)\n",
    "print('Total number of airports', airport_attr.shape[0])\n",
    "\n",
    "print('correctness for the individual alliances')\n",
    "print('Star Alliance', sum((airport_pred['Star Alliance'] == airport_pred['Star Alliance pred']))/num_pred)\n",
    "print('One World', sum((airport_pred['One World'] == airport_pred['One World pred']))/num_pred)\n",
    "print('SkyTeam', sum((airport_pred['SkyTeam'] == airport_pred['SkyTeam pred']))/num_pred)\n",
    "\n",
    "#overall correctness\n",
    "true_val = list(zip(airport_pred['Star Alliance'], airport_pred['One World'], airport_pred['SkyTeam'])) \n",
    "pred_val = list(zip(airport_pred['Star Alliance pred'], airport_pred['One World pred'], airport_pred['SkyTeam pred']))\n",
    "accuracy_val = sum(i == j for i,j in zip(true_val, pred_val))\n",
    "print('Overall correctness: ', accuracy_val, 'Accuracy (%): ', accuracy_val/num_pred)"
   ]
  },
  {
   "cell_type": "markdown",
   "metadata": {},
   "source": [
    "### Predicting labels for all the airports inside the largest connected component"
   ]
  },
  {
   "cell_type": "code",
   "execution_count": 41,
   "metadata": {},
   "outputs": [
    {
     "data": {
      "text/html": [
       "<div>\n",
       "<style scoped>\n",
       "    .dataframe tbody tr th:only-of-type {\n",
       "        vertical-align: middle;\n",
       "    }\n",
       "\n",
       "    .dataframe tbody tr th {\n",
       "        vertical-align: top;\n",
       "    }\n",
       "\n",
       "    .dataframe thead th {\n",
       "        text-align: right;\n",
       "    }\n",
       "</style>\n",
       "<table border=\"1\" class=\"dataframe\">\n",
       "  <thead>\n",
       "    <tr style=\"text-align: right;\">\n",
       "      <th></th>\n",
       "      <th>airport</th>\n",
       "      <th>airportsID</th>\n",
       "      <th>Star Alliance</th>\n",
       "      <th>One World</th>\n",
       "      <th>SkyTeam</th>\n",
       "      <th>labelled</th>\n",
       "      <th>tolabel</th>\n",
       "      <th>Star Alliance pred</th>\n",
       "      <th>One World pred</th>\n",
       "      <th>SkyTeam pred</th>\n",
       "    </tr>\n",
       "    <tr>\n",
       "      <th>airportsID</th>\n",
       "      <th></th>\n",
       "      <th></th>\n",
       "      <th></th>\n",
       "      <th></th>\n",
       "      <th></th>\n",
       "      <th></th>\n",
       "      <th></th>\n",
       "      <th></th>\n",
       "      <th></th>\n",
       "      <th></th>\n",
       "    </tr>\n",
       "  </thead>\n",
       "  <tbody>\n",
       "    <tr>\n",
       "      <th>0</th>\n",
       "      <td>AER</td>\n",
       "      <td>0</td>\n",
       "      <td>0.0</td>\n",
       "      <td>0.0</td>\n",
       "      <td>1.0</td>\n",
       "      <td>True</td>\n",
       "      <td>0.0</td>\n",
       "      <td>0.0</td>\n",
       "      <td>0.0</td>\n",
       "      <td>0.0</td>\n",
       "    </tr>\n",
       "    <tr>\n",
       "      <th>1</th>\n",
       "      <td>ASF</td>\n",
       "      <td>1</td>\n",
       "      <td>1.0</td>\n",
       "      <td>1.0</td>\n",
       "      <td>1.0</td>\n",
       "      <td>True</td>\n",
       "      <td>0.0</td>\n",
       "      <td>0.0</td>\n",
       "      <td>0.0</td>\n",
       "      <td>0.0</td>\n",
       "    </tr>\n",
       "    <tr>\n",
       "      <th>2</th>\n",
       "      <td>CEK</td>\n",
       "      <td>2</td>\n",
       "      <td>0.0</td>\n",
       "      <td>1.0</td>\n",
       "      <td>0.0</td>\n",
       "      <td>True</td>\n",
       "      <td>0.0</td>\n",
       "      <td>0.0</td>\n",
       "      <td>0.0</td>\n",
       "      <td>0.0</td>\n",
       "    </tr>\n",
       "    <tr>\n",
       "      <th>3</th>\n",
       "      <td>DME</td>\n",
       "      <td>3</td>\n",
       "      <td>0.0</td>\n",
       "      <td>1.0</td>\n",
       "      <td>0.0</td>\n",
       "      <td>True</td>\n",
       "      <td>0.0</td>\n",
       "      <td>0.0</td>\n",
       "      <td>0.0</td>\n",
       "      <td>0.0</td>\n",
       "    </tr>\n",
       "    <tr>\n",
       "      <th>4</th>\n",
       "      <td>EGO</td>\n",
       "      <td>4</td>\n",
       "      <td>0.0</td>\n",
       "      <td>0.0</td>\n",
       "      <td>0.0</td>\n",
       "      <td>False</td>\n",
       "      <td>1.0</td>\n",
       "      <td>0.0</td>\n",
       "      <td>0.0</td>\n",
       "      <td>0.0</td>\n",
       "    </tr>\n",
       "  </tbody>\n",
       "</table>\n",
       "</div>"
      ],
      "text/plain": [
       "           airport  airportsID  Star Alliance  One World  SkyTeam  labelled  \\\n",
       "airportsID                                                                    \n",
       "0              AER           0            0.0        0.0      1.0      True   \n",
       "1              ASF           1            1.0        1.0      1.0      True   \n",
       "2              CEK           2            0.0        1.0      0.0      True   \n",
       "3              DME           3            0.0        1.0      0.0      True   \n",
       "4              EGO           4            0.0        0.0      0.0     False   \n",
       "\n",
       "            tolabel  Star Alliance pred  One World pred  SkyTeam pred  \n",
       "airportsID                                                             \n",
       "0               0.0                 0.0             0.0           0.0  \n",
       "1               0.0                 0.0             0.0           0.0  \n",
       "2               0.0                 0.0             0.0           0.0  \n",
       "3               0.0                 0.0             0.0           0.0  \n",
       "4               1.0                 0.0             0.0           0.0  "
      ]
     },
     "execution_count": 41,
     "metadata": {},
     "output_type": "execute_result"
    }
   ],
   "source": [
    "# prepare the dataframe\n",
    "airport_all = airport_attribution_dummy.copy()\n",
    "airport_all.index = airportsID.airportsID\n",
    "\n",
    "# add a column labelled with 1/True if the airport is served by an alliance and 0/False if not\n",
    "airport_all['labelled'] = airport_all[['Star Alliance', 'One World', 'SkyTeam']].sum(axis=1) != 0\n",
    "\n",
    "# add a column to indicate whether an unlabelled airport (airport with no alliance) needs to be labelled\n",
    "airport_all['tolabel'] = np.zeros(airport_all.shape[0])\n",
    "airport_all['tolabel'][~airport_all.labelled] = 1 \n",
    "\n",
    "# add new columns for the predicted alliance for the unlabelled airports\n",
    "airport_all['Star Alliance pred'] = np.zeros(airport_all.shape[0])\n",
    "airport_all['One World pred'] = np.zeros(airport_all.shape[0])\n",
    "airport_all['SkyTeam pred'] = np.zeros(airport_all.shape[0])\n",
    "airport_all.head()"
   ]
  },
  {
   "cell_type": "code",
   "execution_count": 42,
   "metadata": {},
   "outputs": [
    {
     "name": "stdout",
     "output_type": "stream",
     "text": [
      "Number of airports not inside the largest connected component:  28\n"
     ]
    }
   ],
   "source": [
    "# only use the largest connected compound and set 'tolabel' to 2 for airports outside the cc\n",
    "\n",
    "# find the largest component using the normal unweighted adjacency matrix\n",
    "adjacency_normal =  np.sum(adjacency, axis=2)\n",
    "A_nonw = unweighted_A(adjacency_normal)\n",
    "G = nx.from_numpy_matrix(A_nonw)\n",
    "G_largest = max(nx.connected_component_subgraphs(G), key=len)\n",
    "\n",
    "# airports inside the largest connected component\n",
    "airports_cc = list(G_largest.nodes)\n",
    "\n",
    "# label other airports to 2\n",
    "airport_all['tolabel'][~airport_all.airportsID.isin(airports_cc)] = 2\n",
    "print('Number of airports not inside the largest connected component: ', sum(airport_all.tolabel == 2))"
   ]
  },
  {
   "cell_type": "code",
   "execution_count": 43,
   "metadata": {},
   "outputs": [],
   "source": [
    "# apply the label propagation algorithm \n",
    "airport_attr_all = propagate_labels(airport_all, A_nonw)"
   ]
  },
  {
   "cell_type": "code",
   "execution_count": 44,
   "metadata": {},
   "outputs": [
    {
     "data": {
      "text/html": [
       "<div>\n",
       "<style scoped>\n",
       "    .dataframe tbody tr th:only-of-type {\n",
       "        vertical-align: middle;\n",
       "    }\n",
       "\n",
       "    .dataframe tbody tr th {\n",
       "        vertical-align: top;\n",
       "    }\n",
       "\n",
       "    .dataframe thead th {\n",
       "        text-align: right;\n",
       "    }\n",
       "</style>\n",
       "<table border=\"1\" class=\"dataframe\">\n",
       "  <thead>\n",
       "    <tr style=\"text-align: right;\">\n",
       "      <th></th>\n",
       "      <th>airport</th>\n",
       "      <th>airportsID</th>\n",
       "      <th>Star Alliance</th>\n",
       "      <th>One World</th>\n",
       "      <th>SkyTeam</th>\n",
       "      <th>labelled</th>\n",
       "      <th>tolabel</th>\n",
       "      <th>Star Alliance pred</th>\n",
       "      <th>One World pred</th>\n",
       "      <th>SkyTeam pred</th>\n",
       "    </tr>\n",
       "    <tr>\n",
       "      <th>airportsID</th>\n",
       "      <th></th>\n",
       "      <th></th>\n",
       "      <th></th>\n",
       "      <th></th>\n",
       "      <th></th>\n",
       "      <th></th>\n",
       "      <th></th>\n",
       "      <th></th>\n",
       "      <th></th>\n",
       "      <th></th>\n",
       "    </tr>\n",
       "  </thead>\n",
       "  <tbody>\n",
       "    <tr>\n",
       "      <th>4</th>\n",
       "      <td>EGO</td>\n",
       "      <td>4</td>\n",
       "      <td>0.0</td>\n",
       "      <td>0.0</td>\n",
       "      <td>0.0</td>\n",
       "      <td>False</td>\n",
       "      <td>0.0</td>\n",
       "      <td>0.0</td>\n",
       "      <td>0.0</td>\n",
       "      <td>1.0</td>\n",
       "    </tr>\n",
       "    <tr>\n",
       "      <th>15</th>\n",
       "      <td>TGK</td>\n",
       "      <td>15</td>\n",
       "      <td>0.0</td>\n",
       "      <td>0.0</td>\n",
       "      <td>0.0</td>\n",
       "      <td>False</td>\n",
       "      <td>0.0</td>\n",
       "      <td>0.0</td>\n",
       "      <td>1.0</td>\n",
       "      <td>0.0</td>\n",
       "    </tr>\n",
       "    <tr>\n",
       "      <th>16</th>\n",
       "      <td>UUA</td>\n",
       "      <td>16</td>\n",
       "      <td>0.0</td>\n",
       "      <td>0.0</td>\n",
       "      <td>0.0</td>\n",
       "      <td>False</td>\n",
       "      <td>0.0</td>\n",
       "      <td>0.0</td>\n",
       "      <td>1.0</td>\n",
       "      <td>1.0</td>\n",
       "    </tr>\n",
       "    <tr>\n",
       "      <th>20</th>\n",
       "      <td>KCK</td>\n",
       "      <td>20</td>\n",
       "      <td>0.0</td>\n",
       "      <td>0.0</td>\n",
       "      <td>0.0</td>\n",
       "      <td>False</td>\n",
       "      <td>0.0</td>\n",
       "      <td>0.0</td>\n",
       "      <td>1.0</td>\n",
       "      <td>0.0</td>\n",
       "    </tr>\n",
       "    <tr>\n",
       "      <th>21</th>\n",
       "      <td>MJZ</td>\n",
       "      <td>21</td>\n",
       "      <td>0.0</td>\n",
       "      <td>0.0</td>\n",
       "      <td>0.0</td>\n",
       "      <td>False</td>\n",
       "      <td>0.0</td>\n",
       "      <td>0.0</td>\n",
       "      <td>1.0</td>\n",
       "      <td>0.0</td>\n",
       "    </tr>\n",
       "  </tbody>\n",
       "</table>\n",
       "</div>"
      ],
      "text/plain": [
       "           airport  airportsID  Star Alliance  One World  SkyTeam  labelled  \\\n",
       "airportsID                                                                    \n",
       "4              EGO           4            0.0        0.0      0.0     False   \n",
       "15             TGK          15            0.0        0.0      0.0     False   \n",
       "16             UUA          16            0.0        0.0      0.0     False   \n",
       "20             KCK          20            0.0        0.0      0.0     False   \n",
       "21             MJZ          21            0.0        0.0      0.0     False   \n",
       "\n",
       "            tolabel  Star Alliance pred  One World pred  SkyTeam pred  \n",
       "airportsID                                                             \n",
       "4               0.0                 0.0             0.0           1.0  \n",
       "15              0.0                 0.0             1.0           0.0  \n",
       "16              0.0                 0.0             1.0           1.0  \n",
       "20              0.0                 0.0             1.0           0.0  \n",
       "21              0.0                 0.0             1.0           0.0  "
      ]
     },
     "execution_count": 44,
     "metadata": {},
     "output_type": "execute_result"
    }
   ],
   "source": [
    "# example of airports with a prediction\n",
    "airport_attr_all[airport_attr_all.labelled == False].head(5)"
   ]
  },
  {
   "cell_type": "markdown",
   "metadata": {},
   "source": [
    "KCK: Kirensk Airport (Russia) EGO: Belgorod (Russia) TGK: Russia UUA: Russia"
   ]
  },
  {
   "cell_type": "code",
   "execution_count": 45,
   "metadata": {},
   "outputs": [
    {
     "data": {
      "text/html": [
       "<div>\n",
       "<style scoped>\n",
       "    .dataframe tbody tr th:only-of-type {\n",
       "        vertical-align: middle;\n",
       "    }\n",
       "\n",
       "    .dataframe tbody tr th {\n",
       "        vertical-align: top;\n",
       "    }\n",
       "\n",
       "    .dataframe thead th {\n",
       "        text-align: right;\n",
       "    }\n",
       "</style>\n",
       "<table border=\"1\" class=\"dataframe\">\n",
       "  <thead>\n",
       "    <tr style=\"text-align: right;\">\n",
       "      <th></th>\n",
       "      <th>airport</th>\n",
       "      <th>SA</th>\n",
       "      <th>OW</th>\n",
       "      <th>ST</th>\n",
       "    </tr>\n",
       "    <tr>\n",
       "      <th>airportsID</th>\n",
       "      <th></th>\n",
       "      <th></th>\n",
       "      <th></th>\n",
       "      <th></th>\n",
       "    </tr>\n",
       "  </thead>\n",
       "  <tbody>\n",
       "    <tr>\n",
       "      <th>0</th>\n",
       "      <td>AER</td>\n",
       "      <td>0.0</td>\n",
       "      <td>0.0</td>\n",
       "      <td>1.0</td>\n",
       "    </tr>\n",
       "    <tr>\n",
       "      <th>1</th>\n",
       "      <td>ASF</td>\n",
       "      <td>1.0</td>\n",
       "      <td>1.0</td>\n",
       "      <td>1.0</td>\n",
       "    </tr>\n",
       "    <tr>\n",
       "      <th>2</th>\n",
       "      <td>CEK</td>\n",
       "      <td>0.0</td>\n",
       "      <td>1.0</td>\n",
       "      <td>0.0</td>\n",
       "    </tr>\n",
       "    <tr>\n",
       "      <th>3</th>\n",
       "      <td>DME</td>\n",
       "      <td>0.0</td>\n",
       "      <td>1.0</td>\n",
       "      <td>0.0</td>\n",
       "    </tr>\n",
       "    <tr>\n",
       "      <th>4</th>\n",
       "      <td>EGO</td>\n",
       "      <td>0.0</td>\n",
       "      <td>0.0</td>\n",
       "      <td>1.0</td>\n",
       "    </tr>\n",
       "  </tbody>\n",
       "</table>\n",
       "</div>"
      ],
      "text/plain": [
       "           airport   SA   OW   ST\n",
       "airportsID                       \n",
       "0              AER  0.0  0.0  1.0\n",
       "1              ASF  1.0  1.0  1.0\n",
       "2              CEK  0.0  1.0  0.0\n",
       "3              DME  0.0  1.0  0.0\n",
       "4              EGO  0.0  0.0  1.0"
      ]
     },
     "execution_count": 45,
     "metadata": {},
     "output_type": "execute_result"
    }
   ],
   "source": [
    "# create a dataframe with all the airports with their label, predicted and true mixed\n",
    "airport_alce_int = airport_attr_all.copy()\n",
    "airport_alce_int['SA'] = airport_alce_int['Star Alliance'] + airport_alce_int['Star Alliance pred']\n",
    "airport_alce_int['OW'] = airport_alce_int['One World'] + airport_alce_int['One World pred']\n",
    "airport_alce_int['ST'] = airport_alce_int['SkyTeam'] + airport_alce_int['SkyTeam pred']\n",
    "airport_alce_all = airport_alce_int[['airport', 'airportsID', 'SA', 'OW', 'ST']]\n",
    "airport_alce_all.drop(columns=['airportsID'], inplace=True)\n",
    "airport_alce_all.head()"
   ]
  },
  {
   "cell_type": "markdown",
   "metadata": {},
   "source": [
    "New airports have now been assigned to new alliance thanks to the label propagation. We can now visualize these new attribution on the map. For exemple, let's take the evolution of the Sky Alliance control."
   ]
  },
  {
   "cell_type": "code",
   "execution_count": 46,
   "metadata": {
    "scrolled": false
   },
   "outputs": [
    {
     "ename": "NameError",
     "evalue": "name 'folium' is not defined",
     "output_type": "error",
     "traceback": [
      "\u001b[1;31m---------------------------------------------------------------------------\u001b[0m",
      "\u001b[1;31mNameError\u001b[0m                                 Traceback (most recent call last)",
      "\u001b[1;32m<ipython-input-46-865b3098ae49>\u001b[0m in \u001b[0;36m<module>\u001b[1;34m()\u001b[0m\n\u001b[1;32m----> 1\u001b[1;33m \u001b[0mm_SA_pred\u001b[0m \u001b[1;33m=\u001b[0m \u001b[0mfolium\u001b[0m\u001b[1;33m.\u001b[0m\u001b[0mMap\u001b[0m\u001b[1;33m(\u001b[0m\u001b[0mtiles\u001b[0m\u001b[1;33m=\u001b[0m\u001b[1;34m'cartodbdark_matter'\u001b[0m\u001b[1;33m,\u001b[0m  \u001b[0mlocation\u001b[0m\u001b[1;33m=\u001b[0m\u001b[1;33m[\u001b[0m\u001b[1;36m14\u001b[0m\u001b[1;33m,\u001b[0m \u001b[1;36m10\u001b[0m\u001b[1;33m]\u001b[0m\u001b[1;33m,\u001b[0m \u001b[0mzoom_start\u001b[0m\u001b[1;33m=\u001b[0m\u001b[1;36m1.5\u001b[0m\u001b[1;33m)\u001b[0m\u001b[1;33m\u001b[0m\u001b[0m\n\u001b[0m\u001b[0;32m      2\u001b[0m \u001b[1;32mfor\u001b[0m \u001b[0midx\u001b[0m\u001b[1;33m,\u001b[0m\u001b[0mrow\u001b[0m \u001b[1;32min\u001b[0m \u001b[0mgeoData\u001b[0m\u001b[1;33m.\u001b[0m\u001b[0miterrows\u001b[0m\u001b[1;33m(\u001b[0m\u001b[1;33m)\u001b[0m\u001b[1;33m:\u001b[0m\u001b[1;33m\u001b[0m\u001b[0m\n\u001b[0;32m      3\u001b[0m     \u001b[1;32mif\u001b[0m \u001b[0mpd\u001b[0m\u001b[1;33m.\u001b[0m\u001b[0misna\u001b[0m\u001b[1;33m(\u001b[0m\u001b[0mrow\u001b[0m\u001b[1;33m.\u001b[0m\u001b[0mLatitude\u001b[0m\u001b[1;33m)\u001b[0m \u001b[1;32mis\u001b[0m \u001b[1;32mFalse\u001b[0m\u001b[1;33m:\u001b[0m\u001b[1;33m\u001b[0m\u001b[0m\n\u001b[0;32m      4\u001b[0m         \u001b[1;32mif\u001b[0m \u001b[0mairport_attr_all\u001b[0m\u001b[1;33m.\u001b[0m\u001b[0mloc\u001b[0m\u001b[1;33m[\u001b[0m\u001b[0midx\u001b[0m\u001b[1;33m,\u001b[0m\u001b[1;34m\"Star Alliance\"\u001b[0m\u001b[1;33m]\u001b[0m \u001b[1;33m==\u001b[0m \u001b[1;36m1\u001b[0m\u001b[1;33m:\u001b[0m\u001b[1;33m\u001b[0m\u001b[0m\n\u001b[0;32m      5\u001b[0m             folium.CircleMarker(\n",
      "\u001b[1;31mNameError\u001b[0m: name 'folium' is not defined"
     ]
    }
   ],
   "source": [
    "m_SA_pred = folium.Map(tiles='cartodbdark_matter',  location=[14, 10], zoom_start=1.5)\n",
    "for idx,row in geoData.iterrows():\n",
    "    if pd.isna(row.Latitude) is False:\n",
    "        if airport_attr_all.loc[idx,\"Star Alliance\"] == 1:\n",
    "            folium.CircleMarker(\n",
    "                location=[row.Latitude, row.Longitude],\n",
    "                radius=2*r,\n",
    "                color='#ff0000',\n",
    "                stroke=False,\n",
    "                fill=True,\n",
    "                fill_opacity=0.6,\n",
    "                tooltip=row.Name\n",
    "            ).add_to(m_SA_pred)\n",
    "        elif airport_attr_all.loc[idx,\"Star Alliance pred\"] == 1:\n",
    "            folium.CircleMarker(\n",
    "                location=[row.Latitude, row.Longitude],\n",
    "                radius=2*r,\n",
    "                color='#ffffff',\n",
    "                stroke=False,\n",
    "                fill=True,\n",
    "                fill_opacity=0.6,\n",
    "                tooltip=row.Name\n",
    "            ).add_to(m_SA_pred)\n",
    "m_SA_pred.save(\"MapPredicSA.html\")\n",
    "m_SA_pred"
   ]
  },
  {
   "cell_type": "code",
   "execution_count": null,
   "metadata": {},
   "outputs": [],
   "source": [
    "m_SA_pred.save(\"m_SA_pred.html\")"
   ]
  },
  {
   "cell_type": "markdown",
   "metadata": {},
   "source": [
    "Here, the <span style=\"background:#FF0000\">red</span> points represents the current airports controled by the alliance and the <span style=\"background:#FFFFFF\">white</span> points represents which airport could be won. It is a significative improvement of offer for the alliance as it cover a lot of the aiport that were previoully missing."
   ]
  },
  {
   "cell_type": "markdown",
   "metadata": {},
   "source": [
    "## Assign airlines to alliances (not belonging to them) <a id='Part3-3'></a>\n",
    "\n",
    "From the previous results, we can assign alliances labels to airlines that are not part of the alliances. We do this by selecting the alliance with the highest frequency when counting together all the airports that the airline is serving. In a first phase, we test this on the  two airlines that joined the alliances after 2014 and that we did not include since our dataset is from 2014 (Air India and Oceanair/Avianca Brazil)."
   ]
  },
  {
   "cell_type": "code",
   "execution_count": 47,
   "metadata": {},
   "outputs": [],
   "source": [
    "def alliance_to_airlines(airline_list, routes, airport_alce_data):\n",
    "\n",
    "    '''assigns an alliance label to airlines according to the label of the airports \n",
    "    they are serving. For each airline, the function first gets the list of airports \n",
    "    it is serving, and then sums up the alliances of these airports and returns \n",
    "    the majority label.\n",
    "    airline_list: list of airlines for which an alliance is attributed\n",
    "    routes: original routes dataset\n",
    "    airport_alce_data: dataset with all the airports and their predicted alliance label'''\n",
    "    \n",
    "    alce_label = []\n",
    "    \n",
    "    for i, airline in enumerate(airline_list):\n",
    "\n",
    "        # get the list of airports the airlines are serving\n",
    "        source_air = routes['SourceAirport'][routes.Airline == airline].values\n",
    "        dest_air = routes['DestinationAirport'][routes.Airline == airline].values\n",
    "        airports_airline = list(set(list(source_air) + list(dest_air)))\n",
    "    \n",
    "        # sum up the alliance labels of this airports\n",
    "        values = airport_alce_data[['SA', 'OW', 'ST']][(airport_alce_data.airport.isin(airports_airline))].sum()\n",
    "        alce_label.append(np.argmax(values))\n",
    "        \n",
    "    result = pd.DataFrame({'airline': airline_list, 'predicted alliance': alce_label})\n",
    "    return result"
   ]
  },
  {
   "cell_type": "code",
   "execution_count": 48,
   "metadata": {},
   "outputs": [
    {
     "data": {
      "text/html": [
       "<div>\n",
       "<style scoped>\n",
       "    .dataframe tbody tr th:only-of-type {\n",
       "        vertical-align: middle;\n",
       "    }\n",
       "\n",
       "    .dataframe tbody tr th {\n",
       "        vertical-align: top;\n",
       "    }\n",
       "\n",
       "    .dataframe thead th {\n",
       "        text-align: right;\n",
       "    }\n",
       "</style>\n",
       "<table border=\"1\" class=\"dataframe\">\n",
       "  <thead>\n",
       "    <tr style=\"text-align: right;\">\n",
       "      <th></th>\n",
       "      <th>airline</th>\n",
       "      <th>predicted alliance</th>\n",
       "    </tr>\n",
       "  </thead>\n",
       "  <tbody>\n",
       "    <tr>\n",
       "      <th>0</th>\n",
       "      <td>AI</td>\n",
       "      <td>SA</td>\n",
       "    </tr>\n",
       "    <tr>\n",
       "      <th>1</th>\n",
       "      <td>O6</td>\n",
       "      <td>SA</td>\n",
       "    </tr>\n",
       "  </tbody>\n",
       "</table>\n",
       "</div>"
      ],
      "text/plain": [
       "  airline predicted alliance\n",
       "0      AI                 SA\n",
       "1      O6                 SA"
      ]
     },
     "execution_count": 48,
     "metadata": {},
     "output_type": "execute_result"
    }
   ],
   "source": [
    "# check for the airlines that joined between 2014 and today\n",
    "# Air India Limited (Air India) (AI) and Oceanair (Avianca Brazil) (O6) \n",
    "airline_alce = alliance_to_airlines(['AI', 'O6'], routes, airport_alce_all)\n",
    "airline_alce"
   ]
  },
  {
   "cell_type": "markdown",
   "metadata": {},
   "source": [
    "Both airlines joined the Star Alliance, thus the prediction is correct!\n",
    "\n",
    "Assign other big airlines to alliances"
   ]
  },
  {
   "cell_type": "code",
   "execution_count": 49,
   "metadata": {},
   "outputs": [
    {
     "data": {
      "text/html": [
       "<div>\n",
       "<style scoped>\n",
       "    .dataframe tbody tr th:only-of-type {\n",
       "        vertical-align: middle;\n",
       "    }\n",
       "\n",
       "    .dataframe tbody tr th {\n",
       "        vertical-align: top;\n",
       "    }\n",
       "\n",
       "    .dataframe thead th {\n",
       "        text-align: right;\n",
       "    }\n",
       "</style>\n",
       "<table border=\"1\" class=\"dataframe\">\n",
       "  <thead>\n",
       "    <tr style=\"text-align: right;\">\n",
       "      <th></th>\n",
       "      <th>airline</th>\n",
       "      <th>predicted alliance</th>\n",
       "    </tr>\n",
       "  </thead>\n",
       "  <tbody>\n",
       "    <tr>\n",
       "      <th>0</th>\n",
       "      <td>B6</td>\n",
       "      <td>ST</td>\n",
       "    </tr>\n",
       "    <tr>\n",
       "      <th>1</th>\n",
       "      <td>B6</td>\n",
       "      <td>ST</td>\n",
       "    </tr>\n",
       "    <tr>\n",
       "      <th>2</th>\n",
       "      <td>FR</td>\n",
       "      <td>OW</td>\n",
       "    </tr>\n",
       "    <tr>\n",
       "      <th>3</th>\n",
       "      <td>US</td>\n",
       "      <td>ST</td>\n",
       "    </tr>\n",
       "    <tr>\n",
       "      <th>4</th>\n",
       "      <td>EK</td>\n",
       "      <td>SA</td>\n",
       "    </tr>\n",
       "    <tr>\n",
       "      <th>5</th>\n",
       "      <td>EY</td>\n",
       "      <td>SA</td>\n",
       "    </tr>\n",
       "    <tr>\n",
       "      <th>6</th>\n",
       "      <td>U2</td>\n",
       "      <td>SA</td>\n",
       "    </tr>\n",
       "    <tr>\n",
       "      <th>7</th>\n",
       "      <td>W6</td>\n",
       "      <td>SA</td>\n",
       "    </tr>\n",
       "    <tr>\n",
       "      <th>8</th>\n",
       "      <td>AK</td>\n",
       "      <td>ST</td>\n",
       "    </tr>\n",
       "    <tr>\n",
       "      <th>9</th>\n",
       "      <td>VS</td>\n",
       "      <td>ST</td>\n",
       "    </tr>\n",
       "    <tr>\n",
       "      <th>10</th>\n",
       "      <td>WN</td>\n",
       "      <td>ST</td>\n",
       "    </tr>\n",
       "  </tbody>\n",
       "</table>\n",
       "</div>"
      ],
      "text/plain": [
       "   airline predicted alliance\n",
       "0       B6                 ST\n",
       "1       B6                 ST\n",
       "2       FR                 OW\n",
       "3       US                 ST\n",
       "4       EK                 SA\n",
       "5       EY                 SA\n",
       "6       U2                 SA\n",
       "7       W6                 SA\n",
       "8       AK                 ST\n",
       "9       VS                 ST\n",
       "10      WN                 ST"
      ]
     },
     "execution_count": 49,
     "metadata": {},
     "output_type": "execute_result"
    }
   ],
   "source": [
    "airline_alce = alliance_to_airlines(['B6', 'B6', 'FR', 'US', 'EK', 'EY', 'U2', 'W6', 'AK', 'VS', 'WN'], routes, airport_alce_all)\n",
    "airline_alce"
   ]
  },
  {
   "cell_type": "markdown",
   "metadata": {},
   "source": [
    "## 4- Can the alliances be predicted from the construction of an airline network? <a id='Part4'></a>\n",
    "\n",
    "We construct an airline network by giving different weights to the edges with respect to consecutive flights of the common alliance members. On this graph we see if we can cluster the airlines into the 3 major alliances. In this approach, we can also see if some airlines not yet part of an alliance are likely to become part of one."
   ]
  },
  {
   "cell_type": "code",
   "execution_count": 50,
   "metadata": {},
   "outputs": [
    {
     "name": "stdout",
     "output_type": "stream",
     "text": [
      "   airlineID IATA       Alliance        Region               Name\n",
      "0          0   A3  Star Alliance        Europe    Aegean Airlines\n",
      "1          1   AA      One World  NorthAmerica  American Airlines\n",
      "2          2   AB      One World        Europe         Air Berlin\n",
      "3          3   AC  Star Alliance  NorthAmerica         Air Canada\n",
      "4          4   AF        SkyTeam        Europe         Air France\n",
      "False\n"
     ]
    }
   ],
   "source": [
    "routes = routes.drop(columns=['AirlineID','SourceAirportID','DestinationAirportID','Stops','Equipment','Codeshare'])\n",
    "\n",
    "airlines = airlines.drop(columns=['Airline ID','Alias','ICAO','Callsign','Active','Country'])\n",
    "airlines = airlines[~airlines.IATA.isnull()]\n",
    "airlines = airlines[airlines.IATA != '-']\n",
    "airlines = airlines[~airlines.Name.isnull()]\n",
    "airlines = airlines.drop_duplicates()\n",
    "airlines = airlines.drop_duplicates('IATA')\n",
    "\n",
    "airlineID = routes[['Airline']].rename(columns={'Airline':'IATA'})\n",
    "airlineID = airlineID.drop_duplicates().reset_index().drop(columns=['index'])\n",
    "\n",
    "airlineID = pd.merge(airlineID,alliances,left_on='IATA',right_on='IATA',how='right')\n",
    "airlineID = pd.merge(airlineID,airlines,left_on='IATA',right_on='IATA',how='left')\n",
    "airlineID = airlineID.reset_index().rename(columns={'index':'airlineID'})\n",
    "\n",
    "print(airlineID.head())\n",
    "print(airlineID.duplicated().any())"
   ]
  },
  {
   "cell_type": "code",
   "execution_count": 51,
   "metadata": {},
   "outputs": [
    {
     "name": "stdout",
     "output_type": "stream",
     "text": [
      "False\n"
     ]
    }
   ],
   "source": [
    "routesID = pd.merge(routes,airlineID,left_on='Airline',right_on='IATA',how='right')\n",
    "\n",
    "source_airports = routesID[['SourceAirport']]\n",
    "source_airports = source_airports.rename(columns={'SourceAirport':'Airport'})\n",
    "\n",
    "dest_airports = routesID[['DestinationAirport']]\n",
    "dest_airports = dest_airports.rename(columns={'DestinationAirport':'Airport'})\n",
    "\n",
    "airports = pd.concat([source_airports,dest_airports]).drop_duplicates().reset_index().drop(columns=['index']).reset_index()\n",
    "airports = airports.set_index('Airport').rename(columns={'index':'airportsID'})\n",
    "\n",
    "print(airports.duplicated().any())"
   ]
  },
  {
   "cell_type": "code",
   "execution_count": 52,
   "metadata": {},
   "outputs": [
    {
     "name": "stdout",
     "output_type": "stream",
     "text": [
      "  Airline SourceAirport DestinationAirport  airlineID IATA       Alliance  \\\n",
      "0      A3           AOK                ATH          0   A3  Star Alliance   \n",
      "1      A3           AOK                KSJ          0   A3  Star Alliance   \n",
      "2      A3           AOK                RHO          0   A3  Star Alliance   \n",
      "3      A3           ARN                KLX          0   A3  Star Alliance   \n",
      "4      A3           ARN                SKG          0   A3  Star Alliance   \n",
      "\n",
      "   Region             Name  SourceAirportID  DestinationAirportID  \n",
      "0  Europe  Aegean Airlines                0                     2  \n",
      "1  Europe  Aegean Airlines                0                    40  \n",
      "2  Europe  Aegean Airlines                0                    63  \n",
      "3  Europe  Aegean Airlines                1                    39  \n",
      "4  Europe  Aegean Airlines                1                    64  \n"
     ]
    }
   ],
   "source": [
    "routesID = pd.merge(routesID,airports,left_on='SourceAirport',right_on='Airport',how='left')\n",
    "routesID = routesID.rename(columns={'airportsID':'SourceAirportID'})\n",
    "routesID = pd.merge(routesID,airports,left_on='DestinationAirport',right_on='Airport',how='left')\n",
    "routesID = routesID.rename(columns={'airportsID':'DestinationAirportID'})\n",
    "print(routesID.head())"
   ]
  },
  {
   "cell_type": "code",
   "execution_count": 53,
   "metadata": {},
   "outputs": [
    {
     "name": "stdout",
     "output_type": "stream",
     "text": [
      "    airlineID_x IATA_x     Alliance_x Region_x           Name_x  \\\n",
      "65            0     A3  Star Alliance   Europe  Aegean Airlines   \n",
      "66            0     A3  Star Alliance   Europe  Aegean Airlines   \n",
      "67            0     A3  Star Alliance   Europe  Aegean Airlines   \n",
      "68            0     A3  Star Alliance   Europe  Aegean Airlines   \n",
      "69            0     A3  Star Alliance   Europe  Aegean Airlines   \n",
      "\n",
      "    SourceAirportID_x  DestinationAirportID_x  airlineID_y IATA_y Alliance_y  \\\n",
      "65                  0                       2            1     AA  One World   \n",
      "66                  0                       2            1     AA  One World   \n",
      "67                  0                       2            4     AF    SkyTeam   \n",
      "68                  0                       2            4     AF    SkyTeam   \n",
      "69                  0                       2            4     AF    SkyTeam   \n",
      "\n",
      "        Region_y             Name_y  SourceAirportID_y  DestinationAirportID_y  \n",
      "65  NorthAmerica  American Airlines                  2                      45  \n",
      "66  NorthAmerica  American Airlines                  2                      61  \n",
      "67        Europe         Air France                  2                      11  \n",
      "68        Europe         Air France                  2                      53  \n",
      "69        Europe         Air France                  2                     439  \n"
     ]
    }
   ],
   "source": [
    "connections = routesID\n",
    "connections = connections.drop(columns=['Airline','SourceAirport','DestinationAirport'])\n",
    "connections = pd.merge(connections,connections,left_on='DestinationAirportID',right_on='SourceAirportID',how='inner')\n",
    "connections = connections[connections.airlineID_x != connections.airlineID_y]\n",
    "print(connections.head())"
   ]
  },
  {
   "cell_type": "code",
   "execution_count": 54,
   "metadata": {},
   "outputs": [],
   "source": [
    "grouped = connections[['airlineID_x','airlineID_y']].groupby(['airlineID_x','airlineID_y'])\n",
    "group_sizes = grouped.size()\n",
    "n_airlines = len(airlineID)\n",
    "adjacency_airlines = np.zeros((n_airlines,n_airlines))\n",
    "for name,group in grouped:\n",
    "    adjacency_airlines[name[0],name[1]] += group_sizes.loc[name[0],name[1]]\n",
    "    adjacency_airlines[name[1],name[0]] += group_sizes.loc[name[0],name[1]]\n",
    "\n",
    "for i in range(n_airlines):\n",
    "    for j in range(n_airlines):\n",
    "        if airlineID.loc[i].Region == airlineID.loc[j].Region:\n",
    "            adjacency_airlines[i,j] = 0"
   ]
  },
  {
   "cell_type": "code",
   "execution_count": 55,
   "metadata": {},
   "outputs": [],
   "source": [
    "adjacency = np.copy(adjacency_airlines)\n",
    "for i in range(n_airlines):\n",
    "    adjacency[i] = adjacency[i]/np.sum(adjacency[i])\n",
    "for i in range(n_airlines):\n",
    "    for j in range(n_airlines):\n",
    "        adjacency[i,j] = max(adjacency[i,j],adjacency[j,i])\n",
    "        adjacency[j,i] = adjacency[i,j]"
   ]
  },
  {
   "cell_type": "code",
   "execution_count": 56,
   "metadata": {},
   "outputs": [],
   "source": [
    "degrees = np.sum(adjacency, axis = 0)\n",
    "degree_matrix = np.diag(degrees)\n",
    "laplacian_combinatorial =  degree_matrix - adjacency;\n",
    "sqrt_inv_degree_matrix = np.diag(np.sqrt(1/degrees))\n",
    "laplacian_normalized = np.dot(np.dot(sqrt_inv_degree_matrix,laplacian_combinatorial),sqrt_inv_degree_matrix)"
   ]
  },
  {
   "cell_type": "code",
   "execution_count": 57,
   "metadata": {},
   "outputs": [
    {
     "name": "stdout",
     "output_type": "stream",
     "text": [
      "[0.         0.6270841  0.70021003 0.73832356 0.76480485 0.81365115\n",
      " 0.84317644 0.86224283 0.87383038 0.88286791 0.90362832 0.91246711\n",
      " 0.91860535 0.92866357 0.9343869  0.94483274 0.94741903 0.95529884\n",
      " 0.96186223 0.96820074 0.97023991 0.97502156 0.97980128 0.98744529\n",
      " 0.98788189 0.99478748 0.99594489 0.99647469 0.99801135 1.00022948\n",
      " 1.00536154 1.0068493  1.00801192 1.01138557 1.01386637 1.0205817\n",
      " 1.02694718 1.03132827 1.03457913 1.03571588 1.04231021 1.04781818\n",
      " 1.05381389 1.05980289 1.06473927 1.07671963 1.08398522 1.09210787\n",
      " 1.09860066 1.11197817 1.12945366 1.13896309 1.15439311 1.17363824\n",
      " 1.19445463 1.20579017 1.23735574 1.31425576 1.5204135  1.63738537]\n"
     ]
    }
   ],
   "source": [
    "[eigenvalues, eigenvectors] = np.linalg.eig(laplacian_normalized)\n",
    "sortID = np.argsort(eigenvalues)\n",
    "eigenvalues = eigenvalues[sortID]\n",
    "\n",
    "eigenvectors = eigenvectors[:,sortID]\n",
    "print(eigenvalues)"
   ]
  },
  {
   "cell_type": "code",
   "execution_count": 60,
   "metadata": {},
   "outputs": [
    {
     "name": "stdout",
     "output_type": "stream",
     "text": [
      "----- For k= 3  and d= 3  -----\n",
      "Number of elements in clusters :\n",
      "Cluster  1 : 24\n",
      "Cluster  2 : 24\n",
      "Cluster  3 : 12\n"
     ]
    }
   ],
   "source": [
    "k = 3; d = 3\n",
    "H = eigenvectors[:,:d]; \n",
    "clusters3 = KMeans(n_clusters=k, random_state=0).fit_predict(H)\n",
    "\n",
    "print(\"----- For k=\",k,\" and d=\",d,\" -----\")\n",
    "print(\"Number of elements in clusters :\")\n",
    "for i in range(k):\n",
    "    cnt = 0\n",
    "    for j in clusters3:\n",
    "        if j == i:\n",
    "            cnt +=1\n",
    "    print(\"Cluster \",i+1,\":\",cnt)"
   ]
  },
  {
   "cell_type": "code",
   "execution_count": 62,
   "metadata": {},
   "outputs": [
    {
     "name": "stdout",
     "output_type": "stream",
     "text": [
      "   IATA       Alliance                          Name\n",
      "0    A3  Star Alliance               Aegean Airlines\n",
      "2    AB      One World                    Air Berlin\n",
      "3    AC  Star Alliance                    Air Canada\n",
      "12   CA  Star Alliance                     Air China\n",
      "18   ET  Star Alliance            Ethiopian Airlines\n",
      "22   JP  Star Alliance                 Adria Airways\n",
      "23   KE        SkyTeam                    Korean Air\n",
      "27   LH  Star Alliance                     Lufthansa\n",
      "28   LO  Star Alliance           LOT Polish Airlines\n",
      "30   ME        SkyTeam          Middle East Airlines\n",
      "33   MS  Star Alliance                      Egyptair\n",
      "37   OK        SkyTeam                Czech Airlines\n",
      "38   OS  Star Alliance             Austrian Airlines\n",
      "40   OZ  Star Alliance               Asiana Airlines\n",
      "43   RJ      One World               Royal Jordanian\n",
      "44   RO        SkyTeam                         Tarom\n",
      "45   S7      One World                   S7 Airlines\n",
      "47   SK  Star Alliance  Scandinavian Airlines System\n",
      "49   SQ  Star Alliance            Singapore Airlines\n",
      "50   SU        SkyTeam     Aeroflot Russian Airlines\n",
      "51   SV        SkyTeam        Saudi Arabian Airlines\n",
      "52   TG  Star Alliance    Thai Airways International\n",
      "53   TK  Star Alliance              Turkish Airlines\n",
      "58   VN        SkyTeam              Vietnam Airlines\n",
      "------------------------------------------------------------------------------\n",
      "   IATA       Alliance                                       Name\n",
      "1    AA      One World                          American Airlines\n",
      "6    AR        SkyTeam                      Aerolineas Argentinas\n",
      "7    AV  Star Alliance  Avianca - Aerovias Nacionales de Colombia\n",
      "8    AY      One World                                    Finnair\n",
      "10   BA      One World                            British Airways\n",
      "11   BR  Star Alliance                                    EVA Air\n",
      "14   CM  Star Alliance                              Copa Airlines\n",
      "15   CX      One World                             Cathay Pacific\n",
      "20   IB      One World                            Iberia Airlines\n",
      "21   JL      One World                             Japan Airlines\n",
      "26   LA      One World                               LAN Airlines\n",
      "29   LX  Star Alliance              Swiss International Air Lines\n",
      "32   MH      One World                          Malaysia Airlines\n",
      "35   NH  Star Alliance                         All Nippon Airways\n",
      "36   NZ  Star Alliance                            Air New Zealand\n",
      "39   OU  Star Alliance                           Croatia Airlines\n",
      "41   QF      One World                                     Qantas\n",
      "42   QR      One World                              Qatar Airways\n",
      "46   SA  Star Alliance                      South African Airways\n",
      "48   SN  Star Alliance                          Brussels Airlines\n",
      "54   TP  Star Alliance                               TAP Portugal\n",
      "55   UA  Star Alliance                            United Airlines\n",
      "56   UL      One World                         SriLankan Airlines\n",
      "57   UX        SkyTeam                                 Air Europa\n",
      "------------------------------------------------------------------------------\n",
      "   IATA       Alliance                      Name\n",
      "4    AF        SkyTeam                Air France\n",
      "5    AM        SkyTeam                AeroMéxico\n",
      "9    AZ        SkyTeam                  Alitalia\n",
      "13   CI        SkyTeam            China Airlines\n",
      "16   CZ        SkyTeam   China Southern Airlines\n",
      "17   DL        SkyTeam           Delta Air Lines\n",
      "19   GA        SkyTeam          Garuda Indonesia\n",
      "24   KL        SkyTeam  KLM Royal Dutch Airlines\n",
      "25   KQ        SkyTeam             Kenya Airways\n",
      "31   MF        SkyTeam           Xiamen Airlines\n",
      "34   MU        SkyTeam    China Eastern Airlines\n",
      "59   ZH  Star Alliance         Shenzhen Airlines\n"
     ]
    }
   ],
   "source": [
    "print(airlineID[clusters3 == 0][['IATA','Alliance','Name']])\n",
    "print(\"------------------------------------------------------------------------------\")\n",
    "print(airlineID[clusters3 == 1][['IATA','Alliance','Name']])\n",
    "print(\"------------------------------------------------------------------------------\")\n",
    "print(airlineID[clusters3 == 2][['IATA','Alliance','Name']])"
   ]
  }
 ],
 "metadata": {
  "kernelspec": {
   "display_name": "Python 3",
   "language": "python",
   "name": "python3"
  },
  "language_info": {
   "codemirror_mode": {
    "name": "ipython",
    "version": 3
   },
   "file_extension": ".py",
   "mimetype": "text/x-python",
   "name": "python",
   "nbconvert_exporter": "python",
   "pygments_lexer": "ipython3",
   "version": "3.6.7"
  }
 },
 "nbformat": 4,
 "nbformat_minor": 2
}
