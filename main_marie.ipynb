{
 "cells": [
  {
   "cell_type": "code",
   "execution_count": 1,
   "metadata": {},
   "outputs": [],
   "source": [
    "%matplotlib inline\n",
    "import numpy as np\n",
    "import pandas as pd\n",
    "from matplotlib import pyplot as plt\n",
    "import networkx as nx"
   ]
  },
  {
   "cell_type": "code",
   "execution_count": 2,
   "metadata": {},
   "outputs": [
    {
     "data": {
      "text/html": [
       "<div>\n",
       "<style scoped>\n",
       "    .dataframe tbody tr th:only-of-type {\n",
       "        vertical-align: middle;\n",
       "    }\n",
       "\n",
       "    .dataframe tbody tr th {\n",
       "        vertical-align: top;\n",
       "    }\n",
       "\n",
       "    .dataframe thead th {\n",
       "        text-align: right;\n",
       "    }\n",
       "</style>\n",
       "<table border=\"1\" class=\"dataframe\">\n",
       "  <thead>\n",
       "    <tr style=\"text-align: right;\">\n",
       "      <th></th>\n",
       "      <th>Airline</th>\n",
       "      <th>AirlineID</th>\n",
       "      <th>SourceAirport</th>\n",
       "      <th>SourceAirportID</th>\n",
       "      <th>DestinationAirport</th>\n",
       "      <th>DestinationAirportID</th>\n",
       "      <th>Codeshare</th>\n",
       "      <th>Stops</th>\n",
       "      <th>Equipment</th>\n",
       "    </tr>\n",
       "  </thead>\n",
       "  <tbody>\n",
       "    <tr>\n",
       "      <th>0</th>\n",
       "      <td>2B</td>\n",
       "      <td>410</td>\n",
       "      <td>ASF</td>\n",
       "      <td>2966</td>\n",
       "      <td>KZN</td>\n",
       "      <td>2990</td>\n",
       "      <td>NaN</td>\n",
       "      <td>0</td>\n",
       "      <td>CR2</td>\n",
       "    </tr>\n",
       "    <tr>\n",
       "      <th>1</th>\n",
       "      <td>2B</td>\n",
       "      <td>410</td>\n",
       "      <td>ASF</td>\n",
       "      <td>2966</td>\n",
       "      <td>MRV</td>\n",
       "      <td>2962</td>\n",
       "      <td>NaN</td>\n",
       "      <td>0</td>\n",
       "      <td>CR2</td>\n",
       "    </tr>\n",
       "    <tr>\n",
       "      <th>2</th>\n",
       "      <td>2B</td>\n",
       "      <td>410</td>\n",
       "      <td>CEK</td>\n",
       "      <td>2968</td>\n",
       "      <td>KZN</td>\n",
       "      <td>2990</td>\n",
       "      <td>NaN</td>\n",
       "      <td>0</td>\n",
       "      <td>CR2</td>\n",
       "    </tr>\n",
       "    <tr>\n",
       "      <th>3</th>\n",
       "      <td>2B</td>\n",
       "      <td>410</td>\n",
       "      <td>CEK</td>\n",
       "      <td>2968</td>\n",
       "      <td>OVB</td>\n",
       "      <td>4078</td>\n",
       "      <td>NaN</td>\n",
       "      <td>0</td>\n",
       "      <td>CR2</td>\n",
       "    </tr>\n",
       "    <tr>\n",
       "      <th>4</th>\n",
       "      <td>2B</td>\n",
       "      <td>410</td>\n",
       "      <td>DME</td>\n",
       "      <td>4029</td>\n",
       "      <td>KZN</td>\n",
       "      <td>2990</td>\n",
       "      <td>NaN</td>\n",
       "      <td>0</td>\n",
       "      <td>CR2</td>\n",
       "    </tr>\n",
       "  </tbody>\n",
       "</table>\n",
       "</div>"
      ],
      "text/plain": [
       "  Airline AirlineID SourceAirport SourceAirportID DestinationAirport  \\\n",
       "0      2B       410           ASF            2966                KZN   \n",
       "1      2B       410           ASF            2966                MRV   \n",
       "2      2B       410           CEK            2968                KZN   \n",
       "3      2B       410           CEK            2968                OVB   \n",
       "4      2B       410           DME            4029                KZN   \n",
       "\n",
       "  DestinationAirportID Codeshare  Stops Equipment  \n",
       "0                 2990       NaN      0       CR2  \n",
       "1                 2962       NaN      0       CR2  \n",
       "2                 2990       NaN      0       CR2  \n",
       "3                 4078       NaN      0       CR2  \n",
       "4                 2990       NaN      0       CR2  "
      ]
     },
     "execution_count": 2,
     "metadata": {},
     "output_type": "execute_result"
    }
   ],
   "source": [
    "routes = pd.read_csv('data/routes.dat', sep=',', encoding='utf-8')\n",
    "routes.columns = ['Airline','AirlineID','SourceAirport','SourceAirportID','DestinationAirport','DestinationAirportID','Codeshare','Stops','Equipment']\n",
    "routes.head()"
   ]
  },
  {
   "cell_type": "code",
   "execution_count": 3,
   "metadata": {},
   "outputs": [
    {
     "data": {
      "text/plain": [
       "count     67662\n",
       "unique      568\n",
       "top          FR\n",
       "freq       2484\n",
       "Name: Airline, dtype: object"
      ]
     },
     "execution_count": 3,
     "metadata": {},
     "output_type": "execute_result"
    }
   ],
   "source": [
    "routes.Airline.describe()"
   ]
  },
  {
   "cell_type": "code",
   "execution_count": 4,
   "metadata": {},
   "outputs": [
    {
     "data": {
      "text/plain": [
       "array(['2B', '2G', '2I', '2J', '2K', '2L', '2N', '2O', '2P', '2Z', '3E',\n",
       "       '3F', '3G', '3H', '3J', '3K', '3L', '3M', '3O', '3P', '3R', '3S',\n",
       "       '3U', '4B', '4D', '4E', '4G', '4H', '4K', '4M', '4N', '4O', '4Q',\n",
       "       '4T', '4U', '4W', '4Y', '5C', '5G', '5H', '5J', '5M', '5N', '5P',\n",
       "       '5Q', '5T', '5U', '5Z', '6E', '6H', '6I', '6L', '6R', '6T', '6W',\n",
       "       '6Y', '7C', '7E', '7F', '7G', '7H', '7I', '7J', '7M', '7P', '7R',\n",
       "       '7S', '8B', '8D', '8E', '8I', '8L', '8M', '8P', '8Q', '8R', '8T',\n",
       "       '8U', '8V', '9C', '9D', '9E', '9K', '9M', '9N', '9Q', '9R', '9U',\n",
       "       '9V', '9W', 'A2', 'A3', 'A4', 'A5', 'A8', 'A9', 'AA', 'AB', 'ABJ',\n",
       "       'AC', 'AD', 'AE', 'AF', 'AH', 'AI', 'AK', 'AM', 'AP', 'AR', 'AS',\n",
       "       'AT', 'AV', 'AW', 'AY', 'AZ', 'B2', 'B5', 'B6', 'B7', 'B9', 'BA',\n",
       "       'BB', 'BC', 'BE', 'BF', 'BG', 'BH', 'BI', 'BJ', 'BK', 'BL', 'BM',\n",
       "       'BP', 'BR', 'BT', 'BU', 'BV', 'BW', 'BX', 'C8', 'CA', 'CC', 'CE',\n",
       "       'CG', 'CI', 'CM', 'CN', 'CU', 'CX', 'CY', 'CZ', 'D2', 'D3', 'D6',\n",
       "       'D7', 'DC', 'DD', 'DE', 'DG', 'DH', 'DL', 'DN', 'DT', 'DV', 'DX',\n",
       "       'DY', 'DZ', 'E2', 'E5', 'E7', 'E8', 'E9', 'EB', 'EF', 'EG', 'EI',\n",
       "       'EK', 'EL', 'EN', 'EO', 'EP', 'EQ', 'ET', 'EU', 'EW', 'EY', 'F2',\n",
       "       'F5', 'F7', 'F9', 'FB', 'FD', 'FE', 'FG', 'FI', 'FJ', 'FL', 'FM',\n",
       "       'FO', 'FR', 'FS', 'FV', 'FW', 'FY', 'FZ', 'G3', 'G4', 'G5', 'G8',\n",
       "       'G9', 'GA', 'GE', 'GF', 'GK', 'GL', 'GQ', 'GR', 'GS', 'GV', 'GY',\n",
       "       'GZ', 'H2', 'H7', 'HA', 'HD', 'HF', 'HG', 'HI', 'HK', 'HM', 'HN',\n",
       "       'HO', 'HQ', 'HR', 'HS', 'HU', 'HV', 'HW', 'HX', 'HY', 'HZ', 'I4',\n",
       "       'I6', 'I8', 'I9', 'IB', 'ID', 'IE', 'IG', 'IL', 'IOS', 'IR', 'IX',\n",
       "       'IY', 'IZ', 'J2', 'J3', 'J4', 'J5', 'J8', 'J9', 'JA', 'JB', 'JD',\n",
       "       'JE', 'JH', 'JJ', 'JL', 'JN', 'JP', 'JQ', 'JS', 'JT', 'JU', 'JV',\n",
       "       'JW', 'JY', 'K2', 'K3', 'K5', 'K6', 'K8', 'KA', 'KB', 'KC', 'KE',\n",
       "       'KK', 'KL', 'KM', 'KN', 'KO', 'KQ', 'KR', 'KS', 'KU', 'KX', 'KY',\n",
       "       'L6', 'LA', 'LC', 'LF', 'LG', 'LH', 'LI', 'LJ', 'LM', 'LN', 'LO',\n",
       "       'LR', 'LS', 'LT', 'LV', 'LW', 'LX', 'LY', 'M3', 'M4', 'M5', 'M6',\n",
       "       'M9', 'MD', 'ME', 'MF', 'MH', 'MI', 'MJ', 'MK', 'MM', 'MN', 'MO',\n",
       "       'MR', 'MS', 'MU', 'MW', 'MY', 'N3', 'NF', 'NH', 'NHG', 'NK', 'NL',\n",
       "       'NP', 'NS', 'NT', 'NU', 'NX', 'NY', 'NZ', 'O4', 'O6', 'OA', 'OB',\n",
       "       'OC', 'OD', 'OJ', 'OK', 'OM', 'ON', 'OR', 'OS', 'OU', 'OV', 'OX',\n",
       "       'OY', 'OZ', 'P0', 'P1', 'P2', 'P4', 'P6', 'P9', 'PB', 'PC', 'PD',\n",
       "       'PE', 'PG', 'PI', 'PJ', 'PK', 'PL', 'PM', 'PN', 'PQ', 'PR', 'PS',\n",
       "       'PV', 'PW', 'PX', 'PY', 'PZ', 'Q2', 'Q3', 'Q5', 'Q6', 'Q7', 'Q8',\n",
       "       'Q9', 'QB', 'QC', 'QF', 'QG', 'QH', 'QL', 'QN', 'QR', 'QS', 'QU',\n",
       "       'QV', 'QZ', 'R2', 'R3', 'R7', 'RA', 'RC', 'RG', 'RI', 'RJ', 'RL',\n",
       "       'RO', 'RQ', 'RX', 'RZ', 'S2', 'S3', 'S4', 'S5', 'S6', 'S7', 'S9',\n",
       "       'SA', 'SB', 'SC', 'SD', 'SE', 'SG', 'SH', 'SI', 'SJ', 'SK', 'SN',\n",
       "       'SP', 'SQ', 'SS', 'ST', 'SU', 'SV', 'SW', 'SX', 'SY', 'SZ', 'T3',\n",
       "       'T5', 'T7', 'TA', 'TCX', 'TD', 'TE', 'TF', 'TG', 'TJ', 'TK', 'TL',\n",
       "       'TM', 'TN', 'TO', 'TOM', 'TP', 'TR', 'TS', 'TT', 'TU', 'TV', 'TW',\n",
       "       'TX', 'TY', 'TZ', 'U2', 'U6', 'U7', 'UA', 'UD', 'UE', 'UG', 'UJ',\n",
       "       'UL', 'UM', 'UN', 'UO', 'UP', 'UR', 'US', 'UU', 'UX', 'UY', 'V0',\n",
       "       'V3', 'V4', 'V7', 'V9', 'VA', 'VB', 'VF', 'VH', 'VJ', 'VN', 'VQ',\n",
       "       'VR', 'VS', 'VT', 'VW', 'VX', 'VY', 'W2', 'W3', 'W4', 'W5', 'W6',\n",
       "       'W9', 'WB', 'WF', 'WJ', 'WM', 'WN', 'WP', 'WS', 'WT', 'WU', 'WW',\n",
       "       'WX', 'WY', 'X3', 'X4', 'X7', 'XK', 'XL', 'XQ', 'XU', 'XV', 'XY',\n",
       "       'Y4', 'Y5', 'Y7', 'Y8', 'Y9', 'YC', 'YI', 'YJ', 'YK', 'YM', 'YN',\n",
       "       'YO', 'YQ', 'YR', 'YT', 'Z2', 'Z3', 'Z4', 'Z6', 'Z8', 'Z9', 'ZB',\n",
       "       'ZD', 'ZE', 'ZH', 'ZI', 'ZK', 'ZL', 'ZM'], dtype=object)"
      ]
     },
     "execution_count": 4,
     "metadata": {},
     "output_type": "execute_result"
    }
   ],
   "source": [
    "routes.Airline.unique()"
   ]
  },
  {
   "cell_type": "code",
   "execution_count": 5,
   "metadata": {},
   "outputs": [
    {
     "data": {
      "text/html": [
       "<div>\n",
       "<style scoped>\n",
       "    .dataframe tbody tr th:only-of-type {\n",
       "        vertical-align: middle;\n",
       "    }\n",
       "\n",
       "    .dataframe tbody tr th {\n",
       "        vertical-align: top;\n",
       "    }\n",
       "\n",
       "    .dataframe thead th {\n",
       "        text-align: right;\n",
       "    }\n",
       "</style>\n",
       "<table border=\"1\" class=\"dataframe\">\n",
       "  <thead>\n",
       "    <tr style=\"text-align: right;\">\n",
       "      <th></th>\n",
       "      <th>Airline ID</th>\n",
       "      <th>Name</th>\n",
       "      <th>Alias</th>\n",
       "      <th>IATA</th>\n",
       "      <th>ICAO</th>\n",
       "      <th>Callsign</th>\n",
       "      <th>Country</th>\n",
       "      <th>Active</th>\n",
       "    </tr>\n",
       "  </thead>\n",
       "  <tbody>\n",
       "    <tr>\n",
       "      <th>0</th>\n",
       "      <td>1</td>\n",
       "      <td>Private flight</td>\n",
       "      <td>\\N</td>\n",
       "      <td>-</td>\n",
       "      <td>NaN</td>\n",
       "      <td>NaN</td>\n",
       "      <td>NaN</td>\n",
       "      <td>Y</td>\n",
       "    </tr>\n",
       "    <tr>\n",
       "      <th>1</th>\n",
       "      <td>2</td>\n",
       "      <td>135 Airways</td>\n",
       "      <td>\\N</td>\n",
       "      <td>NaN</td>\n",
       "      <td>GNL</td>\n",
       "      <td>GENERAL</td>\n",
       "      <td>United States</td>\n",
       "      <td>N</td>\n",
       "    </tr>\n",
       "    <tr>\n",
       "      <th>2</th>\n",
       "      <td>3</td>\n",
       "      <td>1Time Airline</td>\n",
       "      <td>\\N</td>\n",
       "      <td>1T</td>\n",
       "      <td>RNX</td>\n",
       "      <td>NEXTIME</td>\n",
       "      <td>South Africa</td>\n",
       "      <td>Y</td>\n",
       "    </tr>\n",
       "    <tr>\n",
       "      <th>3</th>\n",
       "      <td>4</td>\n",
       "      <td>2 Sqn No 1 Elementary Flying Training School</td>\n",
       "      <td>\\N</td>\n",
       "      <td>NaN</td>\n",
       "      <td>WYT</td>\n",
       "      <td>NaN</td>\n",
       "      <td>United Kingdom</td>\n",
       "      <td>N</td>\n",
       "    </tr>\n",
       "    <tr>\n",
       "      <th>4</th>\n",
       "      <td>5</td>\n",
       "      <td>213 Flight Unit</td>\n",
       "      <td>\\N</td>\n",
       "      <td>NaN</td>\n",
       "      <td>TFU</td>\n",
       "      <td>NaN</td>\n",
       "      <td>Russia</td>\n",
       "      <td>N</td>\n",
       "    </tr>\n",
       "  </tbody>\n",
       "</table>\n",
       "</div>"
      ],
      "text/plain": [
       "   Airline ID                                          Name Alias IATA ICAO  \\\n",
       "0           1                                Private flight    \\N    -  NaN   \n",
       "1           2                                   135 Airways    \\N  NaN  GNL   \n",
       "2           3                                 1Time Airline    \\N   1T  RNX   \n",
       "3           4  2 Sqn No 1 Elementary Flying Training School    \\N  NaN  WYT   \n",
       "4           5                               213 Flight Unit    \\N  NaN  TFU   \n",
       "\n",
       "  Callsign         Country Active  \n",
       "0      NaN             NaN      Y  \n",
       "1  GENERAL   United States      N  \n",
       "2  NEXTIME    South Africa      Y  \n",
       "3      NaN  United Kingdom      N  \n",
       "4      NaN          Russia      N  "
      ]
     },
     "execution_count": 5,
     "metadata": {},
     "output_type": "execute_result"
    }
   ],
   "source": [
    "airlines = pd.read_csv('data/airlines.dat', sep=',', encoding='utf-8')\n",
    "airlines.columns = ['Airline ID', 'Name', 'Alias',  'IATA', 'ICAO','Callsign','Country','Active']\n",
    "airlines.head()"
   ]
  },
  {
   "cell_type": "code",
   "execution_count": 6,
   "metadata": {},
   "outputs": [
    {
     "data": {
      "text/plain": [
       "6072"
      ]
     },
     "execution_count": 6,
     "metadata": {},
     "output_type": "execute_result"
    }
   ],
   "source": [
    "airlines.Name.nunique()"
   ]
  },
  {
   "cell_type": "code",
   "execution_count": 7,
   "metadata": {},
   "outputs": [
    {
     "data": {
      "text/html": [
       "<div>\n",
       "<style scoped>\n",
       "    .dataframe tbody tr th:only-of-type {\n",
       "        vertical-align: middle;\n",
       "    }\n",
       "\n",
       "    .dataframe tbody tr th {\n",
       "        vertical-align: top;\n",
       "    }\n",
       "\n",
       "    .dataframe thead th {\n",
       "        text-align: right;\n",
       "    }\n",
       "</style>\n",
       "<table border=\"1\" class=\"dataframe\">\n",
       "  <thead>\n",
       "    <tr style=\"text-align: right;\">\n",
       "      <th></th>\n",
       "      <th>Airport ID</th>\n",
       "      <th>Name</th>\n",
       "      <th>City</th>\n",
       "      <th>Country</th>\n",
       "      <th>IATA</th>\n",
       "      <th>ICAO</th>\n",
       "      <th>Latitude</th>\n",
       "      <th>Longitude</th>\n",
       "      <th>Altitude</th>\n",
       "      <th>Timezone</th>\n",
       "      <th>DST</th>\n",
       "      <th>Tz database time zone</th>\n",
       "      <th>Type</th>\n",
       "      <th>Source</th>\n",
       "    </tr>\n",
       "  </thead>\n",
       "  <tbody>\n",
       "    <tr>\n",
       "      <th>0</th>\n",
       "      <td>2</td>\n",
       "      <td>Madang Airport</td>\n",
       "      <td>Madang</td>\n",
       "      <td>Papua New Guinea</td>\n",
       "      <td>MAG</td>\n",
       "      <td>AYMD</td>\n",
       "      <td>-5.207080</td>\n",
       "      <td>145.789001</td>\n",
       "      <td>20</td>\n",
       "      <td>10</td>\n",
       "      <td>U</td>\n",
       "      <td>Pacific/Port_Moresby</td>\n",
       "      <td>airport</td>\n",
       "      <td>OurAirports</td>\n",
       "    </tr>\n",
       "    <tr>\n",
       "      <th>1</th>\n",
       "      <td>3</td>\n",
       "      <td>Mount Hagen Kagamuga Airport</td>\n",
       "      <td>Mount Hagen</td>\n",
       "      <td>Papua New Guinea</td>\n",
       "      <td>HGU</td>\n",
       "      <td>AYMH</td>\n",
       "      <td>-5.826790</td>\n",
       "      <td>144.296005</td>\n",
       "      <td>5388</td>\n",
       "      <td>10</td>\n",
       "      <td>U</td>\n",
       "      <td>Pacific/Port_Moresby</td>\n",
       "      <td>airport</td>\n",
       "      <td>OurAirports</td>\n",
       "    </tr>\n",
       "    <tr>\n",
       "      <th>2</th>\n",
       "      <td>4</td>\n",
       "      <td>Nadzab Airport</td>\n",
       "      <td>Nadzab</td>\n",
       "      <td>Papua New Guinea</td>\n",
       "      <td>LAE</td>\n",
       "      <td>AYNZ</td>\n",
       "      <td>-6.569803</td>\n",
       "      <td>146.725977</td>\n",
       "      <td>239</td>\n",
       "      <td>10</td>\n",
       "      <td>U</td>\n",
       "      <td>Pacific/Port_Moresby</td>\n",
       "      <td>airport</td>\n",
       "      <td>OurAirports</td>\n",
       "    </tr>\n",
       "    <tr>\n",
       "      <th>3</th>\n",
       "      <td>5</td>\n",
       "      <td>Port Moresby Jacksons International Airport</td>\n",
       "      <td>Port Moresby</td>\n",
       "      <td>Papua New Guinea</td>\n",
       "      <td>POM</td>\n",
       "      <td>AYPY</td>\n",
       "      <td>-9.443380</td>\n",
       "      <td>147.220001</td>\n",
       "      <td>146</td>\n",
       "      <td>10</td>\n",
       "      <td>U</td>\n",
       "      <td>Pacific/Port_Moresby</td>\n",
       "      <td>airport</td>\n",
       "      <td>OurAirports</td>\n",
       "    </tr>\n",
       "    <tr>\n",
       "      <th>4</th>\n",
       "      <td>6</td>\n",
       "      <td>Wewak International Airport</td>\n",
       "      <td>Wewak</td>\n",
       "      <td>Papua New Guinea</td>\n",
       "      <td>WWK</td>\n",
       "      <td>AYWK</td>\n",
       "      <td>-3.583830</td>\n",
       "      <td>143.669006</td>\n",
       "      <td>19</td>\n",
       "      <td>10</td>\n",
       "      <td>U</td>\n",
       "      <td>Pacific/Port_Moresby</td>\n",
       "      <td>airport</td>\n",
       "      <td>OurAirports</td>\n",
       "    </tr>\n",
       "  </tbody>\n",
       "</table>\n",
       "</div>"
      ],
      "text/plain": [
       "   Airport ID                                         Name          City  \\\n",
       "0           2                               Madang Airport        Madang   \n",
       "1           3                 Mount Hagen Kagamuga Airport   Mount Hagen   \n",
       "2           4                               Nadzab Airport        Nadzab   \n",
       "3           5  Port Moresby Jacksons International Airport  Port Moresby   \n",
       "4           6                  Wewak International Airport         Wewak   \n",
       "\n",
       "            Country IATA  ICAO  Latitude   Longitude  Altitude Timezone DST  \\\n",
       "0  Papua New Guinea  MAG  AYMD -5.207080  145.789001        20       10   U   \n",
       "1  Papua New Guinea  HGU  AYMH -5.826790  144.296005      5388       10   U   \n",
       "2  Papua New Guinea  LAE  AYNZ -6.569803  146.725977       239       10   U   \n",
       "3  Papua New Guinea  POM  AYPY -9.443380  147.220001       146       10   U   \n",
       "4  Papua New Guinea  WWK  AYWK -3.583830  143.669006        19       10   U   \n",
       "\n",
       "  Tz database time zone     Type       Source  \n",
       "0  Pacific/Port_Moresby  airport  OurAirports  \n",
       "1  Pacific/Port_Moresby  airport  OurAirports  \n",
       "2  Pacific/Port_Moresby  airport  OurAirports  \n",
       "3  Pacific/Port_Moresby  airport  OurAirports  \n",
       "4  Pacific/Port_Moresby  airport  OurAirports  "
      ]
     },
     "execution_count": 7,
     "metadata": {},
     "output_type": "execute_result"
    }
   ],
   "source": [
    "airports = pd.read_csv('data/airports.dat', sep=',', encoding='utf-8')\n",
    "airports.columns = ['Airport ID', 'Name', 'City', 'Country',  'IATA', 'ICAO','Latitude','Longitude','Altitude', 'Timezone','DST', 'Tz database time zone', 'Type', 'Source']\n",
    "airports.head()"
   ]
  },
  {
   "cell_type": "code",
   "execution_count": 8,
   "metadata": {},
   "outputs": [
    {
     "name": "stdout",
     "output_type": "stream",
     "text": [
      "number of airlines in an alliance:  60\n",
      "Number of airlines per Alliance:                 Airline\n",
      "Alliance              \n",
      "One World           14\n",
      "SkyTeam             20\n",
      "Star Alliance       26\n"
     ]
    },
    {
     "data": {
      "text/html": [
       "<div>\n",
       "<style scoped>\n",
       "    .dataframe tbody tr th:only-of-type {\n",
       "        vertical-align: middle;\n",
       "    }\n",
       "\n",
       "    .dataframe tbody tr th {\n",
       "        vertical-align: top;\n",
       "    }\n",
       "\n",
       "    .dataframe thead th {\n",
       "        text-align: right;\n",
       "    }\n",
       "</style>\n",
       "<table border=\"1\" class=\"dataframe\">\n",
       "  <thead>\n",
       "    <tr style=\"text-align: right;\">\n",
       "      <th></th>\n",
       "      <th>Alliance</th>\n",
       "      <th>Airline</th>\n",
       "    </tr>\n",
       "  </thead>\n",
       "  <tbody>\n",
       "    <tr>\n",
       "      <th>0</th>\n",
       "      <td>Star Alliance</td>\n",
       "      <td>Adria Airways</td>\n",
       "    </tr>\n",
       "    <tr>\n",
       "      <th>1</th>\n",
       "      <td>Star Alliance</td>\n",
       "      <td>Aegean Airlines</td>\n",
       "    </tr>\n",
       "    <tr>\n",
       "      <th>2</th>\n",
       "      <td>Star Alliance</td>\n",
       "      <td>Air Canada</td>\n",
       "    </tr>\n",
       "    <tr>\n",
       "      <th>3</th>\n",
       "      <td>Star Alliance</td>\n",
       "      <td>Air China</td>\n",
       "    </tr>\n",
       "    <tr>\n",
       "      <th>4</th>\n",
       "      <td>Star Alliance</td>\n",
       "      <td>Air New Zealand</td>\n",
       "    </tr>\n",
       "  </tbody>\n",
       "</table>\n",
       "</div>"
      ],
      "text/plain": [
       "        Alliance          Airline\n",
       "0  Star Alliance    Adria Airways\n",
       "1  Star Alliance  Aegean Airlines\n",
       "2  Star Alliance       Air Canada\n",
       "3  Star Alliance        Air China\n",
       "4  Star Alliance  Air New Zealand"
      ]
     },
     "execution_count": 8,
     "metadata": {},
     "output_type": "execute_result"
    }
   ],
   "source": [
    "alliances = pd.read_csv('data/alliances.dat', sep=',', encoding='utf-8')\n",
    "print('number of airlines in an alliance: ', alliances.Airline.nunique())\n",
    "print('Number of airlines per Alliance: ', alliances.groupby(['Alliance']).count())\n",
    "alliances.head()"
   ]
  },
  {
   "cell_type": "code",
   "execution_count": 9,
   "metadata": {},
   "outputs": [
    {
     "name": "stdout",
     "output_type": "stream",
     "text": [
      "number of airlines with alliance:  60\n"
     ]
    },
    {
     "data": {
      "text/html": [
       "<div>\n",
       "<style scoped>\n",
       "    .dataframe tbody tr th:only-of-type {\n",
       "        vertical-align: middle;\n",
       "    }\n",
       "\n",
       "    .dataframe tbody tr th {\n",
       "        vertical-align: top;\n",
       "    }\n",
       "\n",
       "    .dataframe thead th {\n",
       "        text-align: right;\n",
       "    }\n",
       "</style>\n",
       "<table border=\"1\" class=\"dataframe\">\n",
       "  <thead>\n",
       "    <tr style=\"text-align: right;\">\n",
       "      <th></th>\n",
       "      <th>Alliance</th>\n",
       "      <th>Airline</th>\n",
       "      <th>Airline ID</th>\n",
       "      <th>Name</th>\n",
       "      <th>Alias</th>\n",
       "      <th>IATA</th>\n",
       "      <th>ICAO</th>\n",
       "      <th>Callsign</th>\n",
       "      <th>Country</th>\n",
       "      <th>Active</th>\n",
       "    </tr>\n",
       "  </thead>\n",
       "  <tbody>\n",
       "    <tr>\n",
       "      <th>0</th>\n",
       "      <td>Star Alliance</td>\n",
       "      <td>Adria Airways</td>\n",
       "      <td>83</td>\n",
       "      <td>Adria Airways</td>\n",
       "      <td>\\N</td>\n",
       "      <td>JP</td>\n",
       "      <td>ADR</td>\n",
       "      <td>ADRIA</td>\n",
       "      <td>Slovenia</td>\n",
       "      <td>Y</td>\n",
       "    </tr>\n",
       "    <tr>\n",
       "      <th>1</th>\n",
       "      <td>Star Alliance</td>\n",
       "      <td>Aegean Airlines</td>\n",
       "      <td>96</td>\n",
       "      <td>Aegean Airlines</td>\n",
       "      <td>\\N</td>\n",
       "      <td>A3</td>\n",
       "      <td>AEE</td>\n",
       "      <td>AEGEAN</td>\n",
       "      <td>Greece</td>\n",
       "      <td>Y</td>\n",
       "    </tr>\n",
       "    <tr>\n",
       "      <th>2</th>\n",
       "      <td>Star Alliance</td>\n",
       "      <td>Air Canada</td>\n",
       "      <td>330</td>\n",
       "      <td>Air Canada</td>\n",
       "      <td>\\N</td>\n",
       "      <td>AC</td>\n",
       "      <td>ACA</td>\n",
       "      <td>AIR CANADA</td>\n",
       "      <td>Canada</td>\n",
       "      <td>Y</td>\n",
       "    </tr>\n",
       "    <tr>\n",
       "      <th>3</th>\n",
       "      <td>Star Alliance</td>\n",
       "      <td>Air China</td>\n",
       "      <td>751</td>\n",
       "      <td>Air China</td>\n",
       "      <td>\\N</td>\n",
       "      <td>CA</td>\n",
       "      <td>CCA</td>\n",
       "      <td>AIR CHINA</td>\n",
       "      <td>China</td>\n",
       "      <td>Y</td>\n",
       "    </tr>\n",
       "    <tr>\n",
       "      <th>4</th>\n",
       "      <td>Star Alliance</td>\n",
       "      <td>Air New Zealand</td>\n",
       "      <td>345</td>\n",
       "      <td>Air New Zealand</td>\n",
       "      <td>\\N</td>\n",
       "      <td>NZ</td>\n",
       "      <td>ANZ</td>\n",
       "      <td>NEW ZEALAND</td>\n",
       "      <td>New Zealand</td>\n",
       "      <td>Y</td>\n",
       "    </tr>\n",
       "  </tbody>\n",
       "</table>\n",
       "</div>"
      ],
      "text/plain": [
       "        Alliance          Airline  Airline ID             Name Alias IATA  \\\n",
       "0  Star Alliance    Adria Airways          83    Adria Airways    \\N   JP   \n",
       "1  Star Alliance  Aegean Airlines          96  Aegean Airlines    \\N   A3   \n",
       "2  Star Alliance       Air Canada         330       Air Canada    \\N   AC   \n",
       "3  Star Alliance        Air China         751        Air China    \\N   CA   \n",
       "4  Star Alliance  Air New Zealand         345  Air New Zealand    \\N   NZ   \n",
       "\n",
       "  ICAO     Callsign      Country Active  \n",
       "0  ADR        ADRIA     Slovenia      Y  \n",
       "1  AEE       AEGEAN       Greece      Y  \n",
       "2  ACA   AIR CANADA       Canada      Y  \n",
       "3  CCA    AIR CHINA        China      Y  \n",
       "4  ANZ  NEW ZEALAND  New Zealand      Y  "
      ]
     },
     "execution_count": 9,
     "metadata": {},
     "output_type": "execute_result"
    }
   ],
   "source": [
    "airl_alliances_all  = pd.merge(alliances, airlines, left_on='Airline', right_on='Name', how = 'left')\n",
    "print('number of airlines with alliance: ', airl_alliances_all.Airline.nunique())\n",
    "airl_alliances_all.head()"
   ]
  },
  {
   "cell_type": "code",
   "execution_count": 10,
   "metadata": {},
   "outputs": [],
   "source": [
    "# retain useful columns\n",
    "airl_alliances = airl_alliances_all[['Alliance', 'Name', 'IATA', 'Country']].copy()"
   ]
  },
  {
   "cell_type": "code",
   "execution_count": 11,
   "metadata": {},
   "outputs": [
    {
     "name": "stdout",
     "output_type": "stream",
     "text": [
      "Number of edges before the merge and after:  67662 67662\n"
     ]
    }
   ],
   "source": [
    "# merge to the route dataframe\n",
    "routes_alce = pd.merge(routes, airl_alliances, left_on = 'Airline', right_on = 'IATA', how = 'left')\n",
    "print('Number of edges before the merge and after: ', routes.Airline.count(), routes_alce.Airline.count())"
   ]
  },
  {
   "cell_type": "code",
   "execution_count": 12,
   "metadata": {
    "scrolled": true
   },
   "outputs": [
    {
     "name": "stdout",
     "output_type": "stream",
     "text": [
      "Number of alliances-airlines found in the route data:  60\n",
      "Number of flights (edges) flown by alliances-airlines:  29349\n"
     ]
    }
   ],
   "source": [
    "print('Number of alliances-airlines found in the route data: ', routes_alce[~routes_alce.IATA.isnull()].IATA.nunique())\n",
    "print('Number of flights (edges) flown by alliances-airlines: ', routes_alce[~routes_alce.IATA.isnull()].Airline.count())"
   ]
  },
  {
   "cell_type": "code",
   "execution_count": 13,
   "metadata": {
    "scrolled": true
   },
   "outputs": [
    {
     "data": {
      "text/html": [
       "<div>\n",
       "<style scoped>\n",
       "    .dataframe tbody tr th:only-of-type {\n",
       "        vertical-align: middle;\n",
       "    }\n",
       "\n",
       "    .dataframe tbody tr th {\n",
       "        vertical-align: top;\n",
       "    }\n",
       "\n",
       "    .dataframe thead th {\n",
       "        text-align: right;\n",
       "    }\n",
       "</style>\n",
       "<table border=\"1\" class=\"dataframe\">\n",
       "  <thead>\n",
       "    <tr style=\"text-align: right;\">\n",
       "      <th></th>\n",
       "      <th>Airline</th>\n",
       "      <th>AirlineID</th>\n",
       "      <th>SourceAirport</th>\n",
       "      <th>SourceAirportID</th>\n",
       "      <th>DestinationAirport</th>\n",
       "      <th>DestinationAirportID</th>\n",
       "      <th>Codeshare</th>\n",
       "      <th>Stops</th>\n",
       "      <th>Equipment</th>\n",
       "      <th>Alliance</th>\n",
       "      <th>Name</th>\n",
       "      <th>IATA</th>\n",
       "      <th>Country</th>\n",
       "    </tr>\n",
       "  </thead>\n",
       "  <tbody>\n",
       "    <tr>\n",
       "      <th>4237</th>\n",
       "      <td>A3</td>\n",
       "      <td>96</td>\n",
       "      <td>AOK</td>\n",
       "      <td>1459</td>\n",
       "      <td>ATH</td>\n",
       "      <td>3941</td>\n",
       "      <td>NaN</td>\n",
       "      <td>0</td>\n",
       "      <td>DH4</td>\n",
       "      <td>Star Alliance</td>\n",
       "      <td>Aegean Airlines</td>\n",
       "      <td>A3</td>\n",
       "      <td>Greece</td>\n",
       "    </tr>\n",
       "    <tr>\n",
       "      <th>4238</th>\n",
       "      <td>A3</td>\n",
       "      <td>96</td>\n",
       "      <td>AOK</td>\n",
       "      <td>1459</td>\n",
       "      <td>KSJ</td>\n",
       "      <td>1461</td>\n",
       "      <td>NaN</td>\n",
       "      <td>0</td>\n",
       "      <td>DH8</td>\n",
       "      <td>Star Alliance</td>\n",
       "      <td>Aegean Airlines</td>\n",
       "      <td>A3</td>\n",
       "      <td>Greece</td>\n",
       "    </tr>\n",
       "    <tr>\n",
       "      <th>4239</th>\n",
       "      <td>A3</td>\n",
       "      <td>96</td>\n",
       "      <td>AOK</td>\n",
       "      <td>1459</td>\n",
       "      <td>RHO</td>\n",
       "      <td>1472</td>\n",
       "      <td>NaN</td>\n",
       "      <td>0</td>\n",
       "      <td>DH8</td>\n",
       "      <td>Star Alliance</td>\n",
       "      <td>Aegean Airlines</td>\n",
       "      <td>A3</td>\n",
       "      <td>Greece</td>\n",
       "    </tr>\n",
       "    <tr>\n",
       "      <th>4240</th>\n",
       "      <td>A3</td>\n",
       "      <td>96</td>\n",
       "      <td>ARN</td>\n",
       "      <td>737</td>\n",
       "      <td>KLX</td>\n",
       "      <td>1456</td>\n",
       "      <td>NaN</td>\n",
       "      <td>0</td>\n",
       "      <td>319</td>\n",
       "      <td>Star Alliance</td>\n",
       "      <td>Aegean Airlines</td>\n",
       "      <td>A3</td>\n",
       "      <td>Greece</td>\n",
       "    </tr>\n",
       "    <tr>\n",
       "      <th>4241</th>\n",
       "      <td>A3</td>\n",
       "      <td>96</td>\n",
       "      <td>ARN</td>\n",
       "      <td>737</td>\n",
       "      <td>SKG</td>\n",
       "      <td>1486</td>\n",
       "      <td>Y</td>\n",
       "      <td>0</td>\n",
       "      <td>736</td>\n",
       "      <td>Star Alliance</td>\n",
       "      <td>Aegean Airlines</td>\n",
       "      <td>A3</td>\n",
       "      <td>Greece</td>\n",
       "    </tr>\n",
       "  </tbody>\n",
       "</table>\n",
       "</div>"
      ],
      "text/plain": [
       "     Airline AirlineID SourceAirport SourceAirportID DestinationAirport  \\\n",
       "4237      A3        96           AOK            1459                ATH   \n",
       "4238      A3        96           AOK            1459                KSJ   \n",
       "4239      A3        96           AOK            1459                RHO   \n",
       "4240      A3        96           ARN             737                KLX   \n",
       "4241      A3        96           ARN             737                SKG   \n",
       "\n",
       "     DestinationAirportID Codeshare  Stops Equipment       Alliance  \\\n",
       "4237                 3941       NaN      0       DH4  Star Alliance   \n",
       "4238                 1461       NaN      0       DH8  Star Alliance   \n",
       "4239                 1472       NaN      0       DH8  Star Alliance   \n",
       "4240                 1456       NaN      0       319  Star Alliance   \n",
       "4241                 1486         Y      0       736  Star Alliance   \n",
       "\n",
       "                 Name IATA Country  \n",
       "4237  Aegean Airlines   A3  Greece  \n",
       "4238  Aegean Airlines   A3  Greece  \n",
       "4239  Aegean Airlines   A3  Greece  \n",
       "4240  Aegean Airlines   A3  Greece  \n",
       "4241  Aegean Airlines   A3  Greece  "
      ]
     },
     "execution_count": 13,
     "metadata": {},
     "output_type": "execute_result"
    }
   ],
   "source": [
    "# only alliances airlines\n",
    "routes_alce_only = routes_alce[~routes_alce.IATA.isnull()]\n",
    "routes_alce_only.head()"
   ]
  },
  {
   "cell_type": "code",
   "execution_count": 14,
   "metadata": {},
   "outputs": [
    {
     "data": {
      "image/png": "[encoded data removed]",
      "text/plain": [
       "<matplotlib.figure.Figure at 0x11434e8d0>"
      ]
     },
     "metadata": {},
     "output_type": "display_data"
    }
   ],
   "source": [
    "bins = np.linspace(0, 2500, 100)\n",
    "plt.figure(figsize=(15,10))\n",
    "plt.hist(routes_alce[['Airline']].groupby('Airline').size(), bins, alpha=0.5, label='All airlines')\n",
    "plt.hist(routes_alce_only[['Airline']].groupby('Airline').size(), bins, alpha=0.5, label='Alliances airlines')\n",
    "plt.legend(loc='upper right')\n",
    "plt.title('Number of airlines per number of flights', fontsize = 18)\n",
    "plt.ylabel('Number of airlines', fontsize = 14)\n",
    "plt.xlabel('Number of flights', fontsize= 14)\n",
    "plt.savefig('Histogram_flights_airlines.pdf')\n",
    "plt.show()\n"
   ]
  },
  {
   "cell_type": "code",
   "execution_count": 15,
   "metadata": {},
   "outputs": [],
   "source": [
    "df = routes_alce[['Airline', 'Alliance', 'Name']].groupby(['Airline', 'Alliance', 'Name']).size().reset_index(name='counts')"
   ]
  },
  {
   "cell_type": "code",
   "execution_count": 16,
   "metadata": {
    "scrolled": false
   },
   "outputs": [
    {
     "data": {
      "text/html": [
       "<div>\n",
       "<style scoped>\n",
       "    .dataframe tbody tr th:only-of-type {\n",
       "        vertical-align: middle;\n",
       "    }\n",
       "\n",
       "    .dataframe tbody tr th {\n",
       "        vertical-align: top;\n",
       "    }\n",
       "\n",
       "    .dataframe thead th {\n",
       "        text-align: right;\n",
       "    }\n",
       "</style>\n",
       "<table border=\"1\" class=\"dataframe\">\n",
       "  <thead>\n",
       "    <tr style=\"text-align: right;\">\n",
       "      <th></th>\n",
       "      <th>Airline</th>\n",
       "      <th>Alliance</th>\n",
       "      <th>Name</th>\n",
       "      <th>counts</th>\n",
       "    </tr>\n",
       "  </thead>\n",
       "  <tbody>\n",
       "    <tr>\n",
       "      <th>0</th>\n",
       "      <td>A3</td>\n",
       "      <td>Star Alliance</td>\n",
       "      <td>Aegean Airlines</td>\n",
       "      <td>222</td>\n",
       "    </tr>\n",
       "    <tr>\n",
       "      <th>1</th>\n",
       "      <td>AA</td>\n",
       "      <td>One World</td>\n",
       "      <td>American Airlines</td>\n",
       "      <td>2354</td>\n",
       "    </tr>\n",
       "    <tr>\n",
       "      <th>2</th>\n",
       "      <td>AB</td>\n",
       "      <td>One World</td>\n",
       "      <td>Air Berlin</td>\n",
       "      <td>798</td>\n",
       "    </tr>\n",
       "    <tr>\n",
       "      <th>3</th>\n",
       "      <td>AC</td>\n",
       "      <td>Star Alliance</td>\n",
       "      <td>Air Canada</td>\n",
       "      <td>705</td>\n",
       "    </tr>\n",
       "    <tr>\n",
       "      <th>4</th>\n",
       "      <td>AF</td>\n",
       "      <td>SkyTeam</td>\n",
       "      <td>Air France</td>\n",
       "      <td>1071</td>\n",
       "    </tr>\n",
       "  </tbody>\n",
       "</table>\n",
       "</div>"
      ],
      "text/plain": [
       "  Airline       Alliance               Name  counts\n",
       "0      A3  Star Alliance    Aegean Airlines     222\n",
       "1      AA      One World  American Airlines    2354\n",
       "2      AB      One World         Air Berlin     798\n",
       "3      AC  Star Alliance         Air Canada     705\n",
       "4      AF        SkyTeam         Air France    1071"
      ]
     },
     "execution_count": 16,
     "metadata": {},
     "output_type": "execute_result"
    }
   ],
   "source": [
    "df.head()"
   ]
  },
  {
   "cell_type": "code",
   "execution_count": 17,
   "metadata": {},
   "outputs": [
    {
     "data": {
      "text/html": [
       "<div>\n",
       "<style scoped>\n",
       "    .dataframe tbody tr th:only-of-type {\n",
       "        vertical-align: middle;\n",
       "    }\n",
       "\n",
       "    .dataframe tbody tr th {\n",
       "        vertical-align: top;\n",
       "    }\n",
       "\n",
       "    .dataframe thead th {\n",
       "        text-align: right;\n",
       "    }\n",
       "</style>\n",
       "<table border=\"1\" class=\"dataframe\">\n",
       "  <thead>\n",
       "    <tr style=\"text-align: right;\">\n",
       "      <th></th>\n",
       "      <th>Airline</th>\n",
       "      <th>Alliance</th>\n",
       "      <th>Name</th>\n",
       "      <th>counts</th>\n",
       "    </tr>\n",
       "  </thead>\n",
       "  <tbody>\n",
       "    <tr>\n",
       "      <th>1</th>\n",
       "      <td>AA</td>\n",
       "      <td>One World</td>\n",
       "      <td>American Airlines</td>\n",
       "      <td>2354</td>\n",
       "    </tr>\n",
       "    <tr>\n",
       "      <th>4</th>\n",
       "      <td>AF</td>\n",
       "      <td>SkyTeam</td>\n",
       "      <td>Air France</td>\n",
       "      <td>1071</td>\n",
       "    </tr>\n",
       "    <tr>\n",
       "      <th>12</th>\n",
       "      <td>CA</td>\n",
       "      <td>Star Alliance</td>\n",
       "      <td>Air China</td>\n",
       "      <td>1260</td>\n",
       "    </tr>\n",
       "    <tr>\n",
       "      <th>16</th>\n",
       "      <td>CZ</td>\n",
       "      <td>SkyTeam</td>\n",
       "      <td>China Southern Airlines</td>\n",
       "      <td>1454</td>\n",
       "    </tr>\n",
       "    <tr>\n",
       "      <th>17</th>\n",
       "      <td>DL</td>\n",
       "      <td>SkyTeam</td>\n",
       "      <td>Delta Air Lines</td>\n",
       "      <td>1981</td>\n",
       "    </tr>\n",
       "    <tr>\n",
       "      <th>34</th>\n",
       "      <td>MU</td>\n",
       "      <td>SkyTeam</td>\n",
       "      <td>China Eastern Airlines</td>\n",
       "      <td>1263</td>\n",
       "    </tr>\n",
       "    <tr>\n",
       "      <th>55</th>\n",
       "      <td>UA</td>\n",
       "      <td>Star Alliance</td>\n",
       "      <td>United Airlines</td>\n",
       "      <td>2180</td>\n",
       "    </tr>\n",
       "  </tbody>\n",
       "</table>\n",
       "</div>"
      ],
      "text/plain": [
       "   Airline       Alliance                     Name  counts\n",
       "1       AA      One World        American Airlines    2354\n",
       "4       AF        SkyTeam               Air France    1071\n",
       "12      CA  Star Alliance                Air China    1260\n",
       "16      CZ        SkyTeam  China Southern Airlines    1454\n",
       "17      DL        SkyTeam          Delta Air Lines    1981\n",
       "34      MU        SkyTeam   China Eastern Airlines    1263\n",
       "55      UA  Star Alliance          United Airlines    2180"
      ]
     },
     "execution_count": 17,
     "metadata": {},
     "output_type": "execute_result"
    }
   ],
   "source": [
    "# annotation alliances\n",
    "df[df.counts>1000]"
   ]
  },
  {
   "cell_type": "code",
   "execution_count": 18,
   "metadata": {},
   "outputs": [
    {
     "data": {
      "text/html": [
       "<div>\n",
       "<style scoped>\n",
       "    .dataframe tbody tr th:only-of-type {\n",
       "        vertical-align: middle;\n",
       "    }\n",
       "\n",
       "    .dataframe tbody tr th {\n",
       "        vertical-align: top;\n",
       "    }\n",
       "\n",
       "    .dataframe thead th {\n",
       "        text-align: right;\n",
       "    }\n",
       "</style>\n",
       "<table border=\"1\" class=\"dataframe\">\n",
       "  <thead>\n",
       "    <tr style=\"text-align: right;\">\n",
       "      <th></th>\n",
       "      <th>Airline</th>\n",
       "      <th>counts</th>\n",
       "    </tr>\n",
       "  </thead>\n",
       "  <tbody>\n",
       "    <tr>\n",
       "      <th>180</th>\n",
       "      <td>FR</td>\n",
       "      <td>2484</td>\n",
       "    </tr>\n",
       "    <tr>\n",
       "      <th>421</th>\n",
       "      <td>U2</td>\n",
       "      <td>1130</td>\n",
       "    </tr>\n",
       "    <tr>\n",
       "      <th>433</th>\n",
       "      <td>US</td>\n",
       "      <td>1960</td>\n",
       "    </tr>\n",
       "    <tr>\n",
       "      <th>463</th>\n",
       "      <td>WN</td>\n",
       "      <td>1146</td>\n",
       "    </tr>\n",
       "  </tbody>\n",
       "</table>\n",
       "</div>"
      ],
      "text/plain": [
       "    Airline  counts\n",
       "180      FR    2484\n",
       "421      U2    1130\n",
       "433      US    1960\n",
       "463      WN    1146"
      ]
     },
     "execution_count": 18,
     "metadata": {},
     "output_type": "execute_result"
    }
   ],
   "source": [
    "# annotation\n",
    "routes_nonall = routes_alce[routes_alce.IATA.isnull()]\n",
    "df_nonall = routes_nonall[['Airline']].groupby('Airline').size().reset_index(name='counts')\n",
    "df_nonall[df_nonall.counts>1000]"
   ]
  },
  {
   "cell_type": "markdown",
   "metadata": {},
   "source": [
    "Creation of the weighted adjacency matrix. We first create a 3D tensor with dimensions {source, destination, alliance}. That way we can keep the weight intact for each flight.\n",
    "* No edges = 0\n",
    "* No alliances = 1\n",
    "* Star Alliance = 2\n",
    "* One World = 3\n",
    "* SkyTeam = 4"
   ]
  },
  {
   "cell_type": "code",
   "execution_count": 19,
   "metadata": {},
   "outputs": [],
   "source": [
    "# 3D - adjacency matrix\n",
    "routes_alce = routes_alce.fillna(\"None\")\n",
    "routes_alce.head(2)\n",
    "# import of source and destination airport\n",
    "source_airports = routes[['SourceAirport']]\n",
    "source_airports = source_airports.rename(columns={'SourceAirport':'Airport'})\n",
    "\n",
    "dest_airports = routes[['DestinationAirport']]\n",
    "dest_airports = dest_airports.rename(columns={'DestinationAirport':'Airport'})\n",
    "\n",
    "# creation of a dataframe with all airport and airport_idx \n",
    "# (we use airport_idx insteed of airportID because some airports have no airportID)\n",
    "airportsID = pd.concat([source_airports,dest_airports]).drop_duplicates().reset_index().drop(columns=['index']).reset_index()\n",
    "airportsID = airportsID.set_index('Airport').rename(columns={'index':'airportsID'})\n",
    "\n",
    "alliances_idx = {\"None\":1, \"Star Alliance\":2, \"One World\":3, \"SkyTeam\":4}\n",
    "\n",
    "n_nodes = len(airportsID)\n",
    "adjacency = np.zeros((n_nodes, n_nodes, 5), dtype=int)\n",
    "for idx,row in routes_alce.iterrows():\n",
    "    \n",
    "    idx_source = airportsID.loc[row.SourceAirport, \"airportsID\"]\n",
    "    idx_dest = airportsID.loc[row.DestinationAirport, \"airportsID\"]\n",
    "    category = alliances_idx[row.Alliance]\n",
    "    \n",
    "    adjacency[idx_source, idx_dest, category] += 1\n",
    "    adjacency[idx_dest, idx_source, category] += 1"
   ]
  },
  {
   "cell_type": "code",
   "execution_count": 20,
   "metadata": {},
   "outputs": [
    {
     "data": {
      "text/plain": [
       "array([[0, 0, 2, 0, 0, 0, 2, 2, 2, 0],\n",
       "       [0, 0, 2, 0, 0, 0, 2, 0, 0, 0],\n",
       "       [2, 2, 0, 6, 2, 4, 6, 6, 4, 2],\n",
       "       [0, 0, 6, 0, 0, 2, 2, 2, 0, 0],\n",
       "       [0, 0, 2, 0, 0, 0, 0, 2, 2, 2],\n",
       "       [0, 0, 4, 2, 0, 0, 0, 0, 0, 0],\n",
       "       [2, 2, 6, 2, 0, 0, 0, 4, 0, 0],\n",
       "       [2, 0, 6, 2, 2, 0, 4, 0, 0, 2],\n",
       "       [2, 0, 4, 0, 2, 0, 0, 0, 0, 0],\n",
       "       [0, 0, 2, 0, 2, 0, 0, 2, 0, 0]])"
      ]
     },
     "execution_count": 20,
     "metadata": {},
     "output_type": "execute_result"
    }
   ],
   "source": [
    "adjacency[:10, :10, 1]"
   ]
  },
  {
   "cell_type": "markdown",
   "metadata": {},
   "source": [
    "# How prevalent are the alliances in the global flight route network?\n",
    "\n",
    "For each alliance i, label the airports served by an alliance i flight, and compare the density of the alliance i airport network to the whole network density (check if the alliance network is connected, and maybe there are interesting relations between the big component/small components and the alliances), and do this analysis 3 times. Then do the same analysis but for all the alliances together. This should allow us to see how many airports are not served by alliance airlines, and what is the proportion of airports that are served by one alliance compared to airports served by 2 or all the alliances."
   ]
  },
  {
   "cell_type": "markdown",
   "metadata": {},
   "source": [
    "**Some insights**\n",
    "\n",
    "All the alliances networks only have one connected component\n"
   ]
  },
  {
   "cell_type": "markdown",
   "metadata": {},
   "source": [
    "### Alliance Analysis"
   ]
  },
  {
   "cell_type": "code",
   "execution_count": 59,
   "metadata": {},
   "outputs": [],
   "source": [
    "def network_analysis(A):\n",
    "    '''Function that returns graph properties on the one connected component: average degree, \n",
    "    maximum and minimum degree, number of nodes, diameter of the graph and average clustering \n",
    "    coefficient of the largest connected component.\n",
    "    A histogram of the degree distribution is also plotted.\n",
    "    The analysis is done on the unweighted adjacency matrix.\n",
    "    '''\n",
    "    # number of flights (edges)\n",
    "    print('Number of flights: ', np.sum(A)/2)\n",
    "    #create an unweighted adjacency matrix\n",
    "    A_nonw = np.copy(A)\n",
    "    A_nonw[A_nonw!=0]=1 \n",
    "    # adjacency matrix of only the alliance network\n",
    "    A_trunc = A_nonw[~np.all(A_nonw == 0, axis=1)]\n",
    "    A_largest = A_trunc[:, ~np.all(A_trunc == 0, axis=0)]\n",
    "    G = nx.from_numpy_matrix(A_nonw)\n",
    "    G_largest = max(nx.connected_component_subgraphs(G), key=len)\n",
    "    \n",
    "    # degree\n",
    "    degree = np.sum(A_largest, axis=0) \n",
    "    print('\\naverage degree = ', round(np.average(degree),2), '\\nmaximum degree = ', max(degree), '\\nminimum degree = ', min(degree))\n",
    "    \n",
    "    # nodes\n",
    "    connect_comp = A_largest.shape[0]\n",
    "    print('\\nNumber of airports connected to the alliance network: ', connect_comp)\n",
    "    \n",
    "    # diameter an cluster coefficient\n",
    "    print('\\nDiameter of the graph: ', nx.diameter(G_largest), '\\nAverage clustering coefficient: ', nx.average_clustering(G_largest))\n",
    "    \n",
    "    # plot the degree distribution\n",
    "    weights = np.ones_like(degree) / float(n_nodes)\n",
    "    plt.hist(degree, weights=weights, bins = 50);\n",
    "    return"
   ]
  },
  {
   "cell_type": "code",
   "execution_count": 60,
   "metadata": {},
   "outputs": [
    {
     "name": "stdout",
     "output_type": "stream",
     "text": [
      "Number of flights:  67662.0\n",
      "\n",
      "average degree =  11.24 \n",
      "maximum degree =  248 \n",
      "minimum degree =  1\n",
      "\n",
      "Number of airports connected to the alliance network:  3425\n",
      "\n",
      "Diameter of the graph:  13 \n",
      "Average clustering coefficient:  0.48833620245296055\n"
     ]
    },
    {
     "data": {
      "image/png": "[encoded data removed]",
      "text/plain": [
       "<matplotlib.figure.Figure at 0x10d0d8080>"
      ]
     },
     "metadata": {},
     "output_type": "display_data"
    }
   ],
   "source": [
    "# Analysis on the normal adjacency matrix (as in Milestone 1)\n",
    "adjacency_normal =  np.sum(adjacency, axis=2)\n",
    "network_analysis(adjacency_normal) # the results are the same!!!"
   ]
  },
  {
   "cell_type": "code",
   "execution_count": 61,
   "metadata": {},
   "outputs": [
    {
     "name": "stdout",
     "output_type": "stream",
     "text": [
      "Number of flights:  11267.0\n",
      "\n",
      "average degree =  7.18 \n",
      "maximum degree =  226 \n",
      "minimum degree =  1\n",
      "\n",
      "Number of airports connected to the alliance network:  1221\n",
      "\n",
      "Diameter of the graph:  9 \n",
      "Average clustering coefficient:  0.47060521430020946\n"
     ]
    },
    {
     "data": {
      "image/png": "[encoded data removed]",
      "text/plain": [
       "<matplotlib.figure.Figure at 0x11476c4a8>"
      ]
     },
     "metadata": {},
     "output_type": "display_data"
    }
   ],
   "source": [
    "# Analysis on the Star Alliance network\n",
    "adjacency_star =  adjacency[:,:, 2]\n",
    "network_analysis(adjacency_star) "
   ]
  },
  {
   "cell_type": "code",
   "execution_count": 62,
   "metadata": {},
   "outputs": [
    {
     "name": "stdout",
     "output_type": "stream",
     "text": [
      "Number of flights:  7288.0\n",
      "\n",
      "average degree =  6.43 \n",
      "maximum degree =  184 \n",
      "minimum degree =  1\n",
      "\n",
      "Number of airports connected to the alliance network:  953\n",
      "\n",
      "Diameter of the graph:  9 \n",
      "Average clustering coefficient:  0.4381413258767767\n"
     ]
    },
    {
     "data": {
      "image/png": "[encoded data removed]",
      "text/plain": [
       "<matplotlib.figure.Figure at 0x1177a34e0>"
      ]
     },
     "metadata": {},
     "output_type": "display_data"
    }
   ],
   "source": [
    "# Analysis on One World\n",
    "adjacency_world =  adjacency[:,:, 3]\n",
    "network_analysis(adjacency_world) "
   ]
  },
  {
   "cell_type": "code",
   "execution_count": 63,
   "metadata": {
    "scrolled": true
   },
   "outputs": [
    {
     "name": "stdout",
     "output_type": "stream",
     "text": [
      "Number of flights:  10794.0\n",
      "\n",
      "average degree =  7.41 \n",
      "maximum degree =  210 \n",
      "minimum degree =  1\n",
      "\n",
      "Number of airports connected to the alliance network:  1081\n",
      "\n",
      "Diameter of the graph:  9 \n",
      "Average clustering coefficient:  0.48923958526273087\n"
     ]
    },
    {
     "data": {
      "image/png": "[encoded data removed]",
      "text/plain": [
       "<matplotlib.figure.Figure at 0x1177c2c50>"
      ]
     },
     "metadata": {},
     "output_type": "display_data"
    }
   ],
   "source": [
    "# Analysis on SkyTeam\n",
    "adjacency_sky =  adjacency[:,:, 4]\n",
    "network_analysis(adjacency_sky) "
   ]
  },
  {
   "cell_type": "code",
   "execution_count": 64,
   "metadata": {},
   "outputs": [
    {
     "name": "stdout",
     "output_type": "stream",
     "text": [
      "Number of flights:  29349.0\n",
      "\n",
      "average degree =  10.75 \n",
      "maximum degree =  228 \n",
      "minimum degree =  1\n",
      "\n",
      "Number of airports connected to the alliance network:  1797\n",
      "\n",
      "Diameter of the graph:  9 \n",
      "Average clustering coefficient:  0.5317438109187125\n"
     ]
    },
    {
     "data": {
      "image/png": "[encoded data removed]",
      "text/plain": [
       "<matplotlib.figure.Figure at 0x1178cb320>"
      ]
     },
     "metadata": {},
     "output_type": "display_data"
    }
   ],
   "source": [
    "# Analysis on the whole alliance network\n",
    "adjacency_alce = np.sum(adjacency[:,:, 2:], axis = 2)\n",
    "network_analysis(adjacency_alce) "
   ]
  },
  {
   "cell_type": "code",
   "execution_count": 65,
   "metadata": {},
   "outputs": [
    {
     "name": "stdout",
     "output_type": "stream",
     "text": [
      "Number of flights:  18555.0\n",
      "\n",
      "average degree =  8.95 \n",
      "maximum degree =  226 \n",
      "minimum degree =  1\n",
      "\n",
      "Number of airports connected to the alliance network:  1524\n",
      "\n",
      "Diameter of the graph:  8 \n",
      "Average clustering coefficient:  0.49030057620639556\n"
     ]
    },
    {
     "data": {
      "image/png": "[encoded data removed]",
      "text/plain": [
       "<matplotlib.figure.Figure at 0x1177a3240>"
      ]
     },
     "metadata": {},
     "output_type": "display_data"
    }
   ],
   "source": [
    "# pairwise networks\n",
    "# Analysis on the star & one world network\n",
    "adjacency_star_world = np.sum(adjacency[:,:, 2:4], axis = 2)\n",
    "network_analysis(adjacency_star_world) "
   ]
  },
  {
   "cell_type": "code",
   "execution_count": 66,
   "metadata": {},
   "outputs": [
    {
     "name": "stdout",
     "output_type": "stream",
     "text": [
      "Number of flights:  22061.0\n",
      "\n",
      "average degree =  9.52 \n",
      "maximum degree =  228 \n",
      "minimum degree =  1\n",
      "\n",
      "Number of airports connected to the alliance network:  1588\n",
      "\n",
      "Diameter of the graph:  9 \n",
      "Average clustering coefficient:  0.52148984228149\n"
     ]
    },
    {
     "data": {
      "image/png": "[encoded data removed]",
      "text/plain": [
       "<matplotlib.figure.Figure at 0x153dcf84a8>"
      ]
     },
     "metadata": {},
     "output_type": "display_data"
    }
   ],
   "source": [
    "# Analysis on the star & skyteam network\n",
    "adjacency_star_sky = np.sum(adjacency[:,:, [2,4]], axis = 2)\n",
    "network_analysis(adjacency_star_sky)"
   ]
  },
  {
   "cell_type": "code",
   "execution_count": 67,
   "metadata": {
    "scrolled": true
   },
   "outputs": [
    {
     "name": "stdout",
     "output_type": "stream",
     "text": [
      "Number of flights:  18082.0\n",
      "\n",
      "average degree =  9.21 \n",
      "maximum degree =  210 \n",
      "minimum degree =  1\n",
      "\n",
      "Number of airports connected to the alliance network:  1427\n",
      "\n",
      "Diameter of the graph:  9 \n",
      "Average clustering coefficient:  0.5019078464790793\n"
     ]
    },
    {
     "data": {
      "image/png": "[encoded data removed]",
      "text/plain": [
       "<matplotlib.figure.Figure at 0x155786d240>"
      ]
     },
     "metadata": {},
     "output_type": "display_data"
    }
   ],
   "source": [
    "# Analysis on the world & skyteam network\n",
    "adjacency_sky_world = np.sum(adjacency[:,:, 3:], axis = 2)\n",
    "network_analysis(adjacency_sky_world)"
   ]
  },
  {
   "cell_type": "markdown",
   "metadata": {},
   "source": [
    "## Resumé of the alliance analysis\n",
    "\n",
    "The star alliance is the most prevalent among the three alliances. It serves the largest number of airports and has the most flights. The star alliance is followed by SkyTeam which serves a similar number of airports and has a similar number of flights. However, its network is more dense, shown by a slightly higher average degree (7.41 vs 7.18). One World is the smallest alliance with 7288 flights compared to 11267 and 10794 flights for the Star Alliance and SkyTeam, respectively. Its network is more sparsely connected (average degree = 6.43) and it has the lowest average clustering coefficient (One World: 0.44, Star Alliance: 0.47, SkyTeam: 0.49). \n",
    "\n",
    "The degree distribution in the global flight network follows a power law, and the network is characterized by the presence of a few very large hubs and a lot of nodes with only a few links. This behaviour is even more pronounced when we analyze the alliance-network alone. Even though the alliance network has less flights (29349 compared to 67662) and serves fewer airports (1797 compared to 3425), the largest hub has a degree very close to the degree of the whole network (228 compared to 248). The average degree is slightly lower (11.24 compared to 10.75), but the clustering coefficient is a little bit higher (0.53 compared to 0.49). As expected, the alliance network is more concentrated and it forms a single component, whereas the whole network had 8 components. In addition, the diameter of the alliance network equals 9 which shows that the alliance network is less spread out than the whole flight route network which has a diameter of 13. \n"
   ]
  },
  {
   "cell_type": "markdown",
   "metadata": {},
   "source": [
    "## Proportion of airports served by alliance-airlines\n",
    "\n",
    "Define the number of airports served by either: SkyTeam, Star Alliance, One World, SkyTeam + One World, SkyTeam + Star Alliance, One World + Star Alliance, all, no alliance.\n",
    "\n"
   ]
  },
  {
   "cell_type": "code",
   "execution_count": 41,
   "metadata": {},
   "outputs": [],
   "source": [
    "def airport_vector(A):\n",
    "    '''Function that given an adjacency matrix returns a binary vector with the length of the airports (nodes). \n",
    "    1 means that the node has an edge, and 0 if not.'''\n",
    "    v_airport = A.any(1).astype(int)\n",
    "    return v_airport"
   ]
  },
  {
   "cell_type": "code",
   "execution_count": 42,
   "metadata": {},
   "outputs": [],
   "source": [
    "# generate unweighted adjacency matrices for the four categories\n",
    "airport_star = airport_vector(adjacency_star)\n",
    "airport_world = airport_vector(adjacency_world)\n",
    "airport_sky = airport_vector(adjacency_sky)\n",
    "airport_noall = airport_vector(adjacency[:,:,1])"
   ]
  },
  {
   "cell_type": "code",
   "execution_count": 46,
   "metadata": {},
   "outputs": [],
   "source": [
    "# generate the number of airports for the seven combinations\n",
    "n_no_alliance = np.count_nonzero((airport_noall - airport_sky- airport_star - airport_world).clip(min=0))\n",
    "n_sky = np.count_nonzero((airport_sky- airport_star - airport_world).clip(min=0))\n",
    "n_star = np.count_nonzero((airport_star- airport_sky - airport_world).clip(min=0))\n",
    "n_world = np.count_nonzero((airport_world- airport_star - airport_sky).clip(min=0))\n",
    "n_sky_star = np.sum((airport_sky + airport_star - airport_world) == 2)\n",
    "n_sky_world = np.sum((airport_sky - airport_star + airport_world) == 2)\n",
    "n_world_star = np.sum((airport_world + airport_star - airport_sky) == 2)\n",
    "n_all = np.sum((airport_sky + airport_star + airport_world) == 3)"
   ]
  },
  {
   "cell_type": "code",
   "execution_count": 70,
   "metadata": {},
   "outputs": [
    {
     "data": {
      "text/plain": [
       "Text(0,0.5,'Number of airports')"
      ]
     },
     "execution_count": 70,
     "metadata": {},
     "output_type": "execute_result"
    },
    {
     "data": {
      "image/png": "[encoded data removed]",
      "text/plain": [
       "<matplotlib.figure.Figure at 0x114757780>"
      ]
     },
     "metadata": {},
     "output_type": "display_data"
    }
   ],
   "source": [
    "n_airports = [n_world, n_sky, n_star, n_sky_world, n_world_star, n_sky_star, n_all, n_no_alliance]\n",
    "airport_label = ['One World', 'SkyTeam', 'Star Alliance', 'One World & \\nSkyTeam', \n",
    "                 'One World & \\nStar Alliance', 'SkyTeam & \\nStar Alliance', 'All alliances', 'No alliance']\n",
    "plt.figure(figsize=(12,8))\n",
    "plt.bar(np.arange(1,9), n_airports, tick_label = airport_label, color = 'orange')\n",
    "plt.title('Number of airports served by the different alliances', fontsize = 18)\n",
    "plt.ylabel('Number of airports', fontsize =  16)"
   ]
  },
  {
   "cell_type": "markdown",
   "metadata": {},
   "source": [
    "## maybe add the number on top of the bars?"
   ]
  },
  {
   "cell_type": "markdown",
   "metadata": {},
   "source": [
    "## Analysis of the plot\n",
    "Following the previous analysis, this plot shows again that most of the airports are not served by an airline belonging to one of the alliances. The majority of airports in the alliance network are only served by one alliance (852 airports in total). However, a lot of airports are also served by all the three alliances, and interestingly this number is significantly higher than the number of airports that are served by 2 alliances (432 compared to 513 airports). This distribution might hint a conflict of interest, in the sense that an alliance is not serving an airport which is already served by another alliance, but also the fact that big hubs are likely to be served by all the alliances, whereas small airports are only served by one alliance. In the following we will analyze whether this assumption holds."
   ]
  },
  {
   "cell_type": "markdown",
   "metadata": {},
   "source": [
    "# Q2 Is the alliance business a hub thing? \n",
    "- We label the airports by the number of alliances flights that serve it (0, 1, 2 or 3) and we analyze the correlation between this number and the degree of the airport. We expect that a lower degree airport is less likely to be connected to the alliance network than big hubs.\n",
    "\n",
    "- Case study on big cities which have multiple airports (e.g. London, Paris, Rome): is there a trend that only a few airports are served by alliance airports? If yes, then how does the correlation from the previous point change if we substract \"the big city non-alliance airports\", to get a better insight of the geographic expansion (vs. airport expansion) of the alliance network (maybe sth. to consider on the previous question as well)."
   ]
  },
  {
   "cell_type": "code",
   "execution_count": 73,
   "metadata": {},
   "outputs": [],
   "source": [
    "# create an airport vector with the number of alliances serving it\n",
    "airport_num_all = airport_world + airport_sky + airport_star"
   ]
  },
  {
   "cell_type": "code",
   "execution_count": 69,
   "metadata": {},
   "outputs": [
    {
     "data": {
      "text/plain": [
       "(432, 513, 852)"
      ]
     },
     "execution_count": 69,
     "metadata": {},
     "output_type": "execute_result"
    }
   ],
   "source": [
    "np.sum(airport_num_all == 2), np.sum(airport_num_all == 3), np.sum(airport_num_all == 1)"
   ]
  },
  {
   "cell_type": "code",
   "execution_count": 78,
   "metadata": {},
   "outputs": [],
   "source": [
    "# degree distribution\n",
    "\n",
    "### of the whole network\n",
    "# create the unweighted adjacency matrix \n",
    "A_nonw = np.copy(adjacency_normal)\n",
    "A_nonw[A_nonw!=0]=1 \n",
    "degree_all = np.sum(A_nonw, axis=0) \n",
    "### of the alliance's network\n",
    "A_nonw = np.copy(np.sum(adjacency[:,:,2:], axis = 2))\n",
    "A_nonw[A_nonw!=0]=1 \n",
    "degree_alce = np.sum(A_nonw, axis=0) "
   ]
  },
  {
   "cell_type": "code",
   "execution_count": 79,
   "metadata": {
    "scrolled": true
   },
   "outputs": [
    {
     "data": {
      "text/plain": [
       "<matplotlib.collections.PathCollection at 0x116786320>"
      ]
     },
     "execution_count": 79,
     "metadata": {},
     "output_type": "execute_result"
    },
    {
     "data": {
      "image/png": "[encoded data removed]",
      "text/plain": [
       "<matplotlib.figure.Figure at 0x1177c2940>"
      ]
     },
     "metadata": {},
     "output_type": "display_data"
    }
   ],
   "source": [
    "plt.scatter(airport_num_all, degree_all)"
   ]
  },
  {
   "cell_type": "code",
   "execution_count": 80,
   "metadata": {},
   "outputs": [],
   "source": [
    "# To do: boxplots and statistical difference between them: but yes: big hubs = all three alliances"
   ]
  },
  {
   "cell_type": "code",
   "execution_count": 81,
   "metadata": {},
   "outputs": [
    {
     "data": {
      "text/plain": [
       "<matplotlib.collections.PathCollection at 0x116a05048>"
      ]
     },
     "execution_count": 81,
     "metadata": {},
     "output_type": "execute_result"
    },
    {
     "data": {
      "image/png": "[encoded data removed]",
      "text/plain": [
       "<matplotlib.figure.Figure at 0x1169812b0>"
      ]
     },
     "metadata": {},
     "output_type": "display_data"
    }
   ],
   "source": [
    "plt.scatter(airport_num_all, degree_alce)"
   ]
  },
  {
   "cell_type": "code",
   "execution_count": null,
   "metadata": {},
   "outputs": [],
   "source": [
    "# Now the behaviour is very pronounced!!! "
   ]
  },
  {
   "cell_type": "code",
   "execution_count": null,
   "metadata": {},
   "outputs": [],
   "source": []
  },
  {
   "cell_type": "code",
   "execution_count": 25,
   "metadata": {},
   "outputs": [],
   "source": [
    "# We may want to flatten this array. We can associate each travel (source, destination) with the \n",
    "# alliance that have the most flight on it\n",
    "#MaXdjacency = np.argmax(adjacency[:,:, 2:], axis=2)\n",
    "MaXdjacency = np.argmax(adjacency, axis=2)"
   ]
  },
  {
   "cell_type": "code",
   "execution_count": 26,
   "metadata": {},
   "outputs": [],
   "source": [
    "airport_tag = np.zeros(airportsID.size, dtype = int)\n",
    "for name,airport in airportsID.iterrows():\n",
    "    counts = np.bincount(MaXdjacency[airport.airportsID, :])[1:]\n",
    "    values = np.unique(MaXdjacency[airport.airportsID, :])\n",
    "    values = list(range(values.min(), values.max()+1))[1:]\n",
    "    maxi = np.argmax(counts)\n",
    "    airport_tag[airport.airportsID] = values[maxi]"
   ]
  },
  {
   "cell_type": "code",
   "execution_count": null,
   "metadata": {},
   "outputs": [],
   "source": []
  }
 ],
 "metadata": {
  "kernelspec": {
   "display_name": "Python 3",
   "language": "python",
   "name": "python3"
  },
  "language_info": {
   "codemirror_mode": {
    "name": "ipython",
    "version": 3
   },
   "file_extension": ".py",
   "mimetype": "text/x-python",
   "name": "python",
   "nbconvert_exporter": "python",
   "pygments_lexer": "ipython3",
   "version": "3.6.7"
  }
 },
 "nbformat": 4,
 "nbformat_minor": 2
}
