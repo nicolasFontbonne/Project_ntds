{
 "cells": [
  {
   "cell_type": "code",
   "execution_count": 2,
   "metadata": {},
   "outputs": [],
   "source": [
    "%matplotlib inline\n",
    "import numpy as np\n",
    "import pandas as pd\n",
    "from scipy import sparse\n",
    "from scipy import linalg\n",
    "import scipy.sparse.linalg\n",
    "from sklearn.cluster import KMeans"
   ]
  },
  {
   "cell_type": "code",
   "execution_count": 3,
   "metadata": {},
   "outputs": [
    {
     "name": "stdout",
     "output_type": "stream",
     "text": [
      "  Airline SourceAirport DestinationAirport\n",
      "0      2B           AER                KZN\n",
      "1      2B           ASF                KZN\n",
      "2      2B           ASF                MRV\n",
      "3      2B           CEK                KZN\n",
      "4      2B           CEK                OVB\n",
      "False\n"
     ]
    }
   ],
   "source": [
    "routes = pd.read_csv('data/routes.dat', sep=',', header = None, encoding='utf-8')\n",
    "routes.columns = ['Airline','AirlineID','SourceAirport','SourceAirportID','DestinationAirport','DestinationAirportID','Codeshare','Stops','Equipment']\n",
    "routes = routes.drop(columns=['AirlineID','SourceAirportID','DestinationAirportID','Stops','Equipment','Codeshare'])\n",
    "print(routes.head())\n",
    "print(routes.duplicated().any())"
   ]
  },
  {
   "cell_type": "code",
   "execution_count": 4,
   "metadata": {},
   "outputs": [
    {
     "name": "stdout",
     "output_type": "stream",
     "text": [
      "        Alliance IATA        Region\n",
      "0  Star Alliance   JP        Europe\n",
      "1  Star Alliance   A3        Europe\n",
      "2  Star Alliance   AC  NorthAmerica\n",
      "3  Star Alliance   CA          Asia\n",
      "4  Star Alliance   NZ          Asia\n",
      "False\n"
     ]
    }
   ],
   "source": [
    "alliances = pd.read_csv('data/alliances.dat', sep=',', header = None, encoding='utf-8')\n",
    "alliances.columns = ['Alliance','IATA','Region']\n",
    "print(alliances.head())\n",
    "print(alliances.duplicated().any())"
   ]
  },
  {
   "cell_type": "code",
   "execution_count": 5,
   "metadata": {},
   "outputs": [
    {
     "name": "stdout",
     "output_type": "stream",
     "text": [
      "                    Name IATA\n",
      "3          1Time Airline   1T\n",
      "10           40-Mile Air   Q5\n",
      "13      Ansett Australia   AN\n",
      "14  Abacus International   1B\n",
      "15       Abelag Aviation   W9\n",
      "False\n",
      "  IATA\n",
      "0   2B\n",
      "1   2G\n",
      "2   2I\n",
      "3   2J\n",
      "4   2K\n",
      "False\n",
      "   airlineID IATA       Alliance        Region               Name\n",
      "0          0   A3  Star Alliance        Europe    Aegean Airlines\n",
      "1          1   AA      One World  NorthAmerica  American Airlines\n",
      "2          2   AB      One World        Europe         Air Berlin\n",
      "3          3   AC  Star Alliance  NorthAmerica         Air Canada\n",
      "4          4   AF        SkyTeam        Europe         Air France\n",
      "False\n"
     ]
    }
   ],
   "source": [
    "airlines = pd.read_csv('data/airlines.dat', sep=',', header = None, encoding='utf-8')\n",
    "airlines.columns = ['Airline ID', 'Name', 'Alias',  'IATA', 'ICAO','Callsign','Country','Active']\n",
    "airlines = airlines.drop(columns=['Airline ID','Alias','ICAO','Callsign','Active','Country'])\n",
    "airlines = airlines[~airlines.IATA.isnull()]\n",
    "airlines = airlines[airlines.IATA != '-']\n",
    "airlines = airlines[~airlines.Name.isnull()]\n",
    "airlines = airlines.drop_duplicates()\n",
    "airlines = airlines.drop_duplicates('IATA')\n",
    "print(airlines.head())\n",
    "print(airlines.duplicated(['IATA']).any())\n",
    "\n",
    "airlineID = routes[['Airline']].rename(columns={'Airline':'IATA'})\n",
    "airlineID = airlineID.drop_duplicates().reset_index().drop(columns=['index'])\n",
    "print(airlineID.head())\n",
    "print(airlineID.duplicated().any())\n",
    "\n",
    "airlineID = pd.merge(airlineID,alliances,left_on='IATA',right_on='IATA',how='right')\n",
    "airlineID = pd.merge(airlineID,airlines,left_on='IATA',right_on='IATA',how='left')\n",
    "airlineID = airlineID.reset_index().rename(columns={'index':'airlineID'})\n",
    "print(airlineID.head())\n",
    "print(airlineID.duplicated().any())"
   ]
  },
  {
   "cell_type": "code",
   "execution_count": 6,
   "metadata": {},
   "outputs": [],
   "source": [
    "routesID = pd.merge(routes,airlineID,left_on='Airline',right_on='IATA',how='right')"
   ]
  },
  {
   "cell_type": "code",
   "execution_count": 7,
   "metadata": {},
   "outputs": [
    {
     "name": "stdout",
     "output_type": "stream",
     "text": [
      "         airportsID\n",
      "Airport            \n",
      "AOK               0\n",
      "ARN               1\n",
      "ATH               2\n",
      "AUH               3\n",
      "AXD               4\n",
      "False\n"
     ]
    }
   ],
   "source": [
    "source_airports = routesID[['SourceAirport']]\n",
    "source_airports = source_airports.rename(columns={'SourceAirport':'Airport'})\n",
    "\n",
    "dest_airports = routesID[['DestinationAirport']]\n",
    "dest_airports = dest_airports.rename(columns={'DestinationAirport':'Airport'})\n",
    "\n",
    "airports = pd.concat([source_airports,dest_airports]).drop_duplicates().reset_index().drop(columns=['index']).reset_index()\n",
    "airports = airports.set_index('Airport').rename(columns={'index':'airportsID'})\n",
    "print(airports.head())\n",
    "print(airports.duplicated().any())"
   ]
  },
  {
   "cell_type": "code",
   "execution_count": 8,
   "metadata": {},
   "outputs": [
    {
     "name": "stdout",
     "output_type": "stream",
     "text": [
      "  Airline SourceAirport DestinationAirport  airlineID IATA       Alliance  \\\n",
      "0      A3           AOK                ATH          0   A3  Star Alliance   \n",
      "1      A3           AOK                KSJ          0   A3  Star Alliance   \n",
      "2      A3           AOK                RHO          0   A3  Star Alliance   \n",
      "3      A3           ARN                KLX          0   A3  Star Alliance   \n",
      "4      A3           ARN                SKG          0   A3  Star Alliance   \n",
      "\n",
      "   Region             Name  SourceAirportID  DestinationAirportID  \n",
      "0  Europe  Aegean Airlines                0                     2  \n",
      "1  Europe  Aegean Airlines                0                    40  \n",
      "2  Europe  Aegean Airlines                0                    63  \n",
      "3  Europe  Aegean Airlines                1                    39  \n",
      "4  Europe  Aegean Airlines                1                    64  \n"
     ]
    }
   ],
   "source": [
    "routesID = pd.merge(routesID,airports,left_on='SourceAirport',right_on='Airport',how='left')\n",
    "routesID = routesID.rename(columns={'airportsID':'SourceAirportID'})\n",
    "routesID = pd.merge(routesID,airports,left_on='DestinationAirport',right_on='Airport',how='left')\n",
    "routesID = routesID.rename(columns={'airportsID':'DestinationAirportID'})\n",
    "print(routesID.head())"
   ]
  },
  {
   "cell_type": "code",
   "execution_count": 10,
   "metadata": {},
   "outputs": [
    {
     "name": "stdout",
     "output_type": "stream",
     "text": [
      "    airlineID_x IATA_x     Alliance_x Region_x           Name_x  \\\n",
      "65            0     A3  Star Alliance   Europe  Aegean Airlines   \n",
      "66            0     A3  Star Alliance   Europe  Aegean Airlines   \n",
      "67            0     A3  Star Alliance   Europe  Aegean Airlines   \n",
      "68            0     A3  Star Alliance   Europe  Aegean Airlines   \n",
      "69            0     A3  Star Alliance   Europe  Aegean Airlines   \n",
      "\n",
      "    SourceAirportID_x  DestinationAirportID_x  airlineID_y IATA_y Alliance_y  \\\n",
      "65                  0                       2            1     AA  One World   \n",
      "66                  0                       2            1     AA  One World   \n",
      "67                  0                       2            4     AF    SkyTeam   \n",
      "68                  0                       2            4     AF    SkyTeam   \n",
      "69                  0                       2            4     AF    SkyTeam   \n",
      "\n",
      "        Region_y             Name_y  SourceAirportID_y  DestinationAirportID_y  \n",
      "65  NorthAmerica  American Airlines                  2                      45  \n",
      "66  NorthAmerica  American Airlines                  2                      61  \n",
      "67        Europe         Air France                  2                      11  \n",
      "68        Europe         Air France                  2                      53  \n",
      "69        Europe         Air France                  2                     439  \n"
     ]
    }
   ],
   "source": [
    "connections = routesID\n",
    "connections = connections.drop(columns=['Airline','SourceAirport','DestinationAirport'])\n",
    "connections = pd.merge(connections,connections,left_on='DestinationAirportID',right_on='SourceAirportID',how='inner')\n",
    "connections = connections[connections.airlineID_x != connections.airlineID_y]\n",
    "print(connections.head())"
   ]
  },
  {
   "cell_type": "code",
   "execution_count": 11,
   "metadata": {},
   "outputs": [],
   "source": [
    "grouped = connections[['airlineID_x','airlineID_y']].groupby(['airlineID_x','airlineID_y'])\n",
    "group_sizes = grouped.size()\n",
    "n_airlines = len(airlineID)\n",
    "adjacency_airlines = np.zeros((n_airlines,n_airlines))\n",
    "for name,group in grouped:\n",
    "    adjacency_airlines[name[0],name[1]] += group_sizes.loc[name[0],name[1]]\n",
    "    adjacency_airlines[name[1],name[0]] += group_sizes.loc[name[0],name[1]]\n",
    "\n",
    "for i in range(n_airlines):\n",
    "    for j in range(n_airlines):\n",
    "        if airlineID.loc[i].Region == airlineID.loc[j].Region:\n",
    "            adjacency_airlines[i,j] = 0"
   ]
  },
  {
   "cell_type": "code",
   "execution_count": 13,
   "metadata": {},
   "outputs": [],
   "source": [
    "adjacency = np.copy(adjacency_airlines)\n",
    "for i in range(n_airlines):\n",
    "    adjacency[i] = adjacency[i]/np.sum(adjacency[i])\n",
    "for i in range(n_airlines):\n",
    "    for j in range(n_airlines):\n",
    "        adjacency[i,j] = max(adjacency[i,j],adjacency[j,i])\n",
    "        adjacency[j,i] = adjacency[i,j]"
   ]
  },
  {
   "cell_type": "code",
   "execution_count": 14,
   "metadata": {},
   "outputs": [],
   "source": [
    "degrees = np.sum(adjacency, axis = 0)\n",
    "degree_matrix = np.diag(degrees)\n",
    "laplacian_combinatorial =  degree_matrix - adjacency;\n",
    "sqrt_inv_degree_matrix = np.diag(np.sqrt(1/degrees))\n",
    "laplacian_normalized = np.dot(np.dot(sqrt_inv_degree_matrix,laplacian_combinatorial),sqrt_inv_degree_matrix)"
   ]
  },
  {
   "cell_type": "code",
   "execution_count": 15,
   "metadata": {},
   "outputs": [
    {
     "name": "stdout",
     "output_type": "stream",
     "text": [
      "[0.         0.6270841  0.70021003 0.73832356 0.76480485 0.81365115\n",
      " 0.84317644 0.86224283 0.87383038 0.88286791 0.90362832 0.91246711\n",
      " 0.91860535 0.92866357 0.9343869  0.94483274 0.94741903 0.95529884\n",
      " 0.96186223 0.96820074 0.97023991 0.97502156 0.97980128 0.98744529\n",
      " 0.98788189 0.99478748 0.99594489 0.99647469 0.99801135 1.00022948\n",
      " 1.00536154 1.0068493  1.00801192 1.01138557 1.01386637 1.0205817\n",
      " 1.02694718 1.03132827 1.03457913 1.03571588 1.04231021 1.04781818\n",
      " 1.05381389 1.05980289 1.06473927 1.07671963 1.08398522 1.09210787\n",
      " 1.09860066 1.11197817 1.12945366 1.13896309 1.15439311 1.17363824\n",
      " 1.19445463 1.20579017 1.23735574 1.31425576 1.5204135  1.63738537]\n"
     ]
    }
   ],
   "source": [
    "[eigenvalues, eigenvectors] = np.linalg.eig(laplacian_normalized)\n",
    "sortID = np.argsort(eigenvalues)\n",
    "eigenvalues = eigenvalues[sortID]\n",
    "\n",
    "eigenvectors = eigenvectors[:,sortID]\n",
    "print(eigenvalues)"
   ]
  },
  {
   "cell_type": "code",
   "execution_count": 21,
   "metadata": {},
   "outputs": [
    {
     "name": "stdout",
     "output_type": "stream",
     "text": [
      "----- For k= 3  and d= 3  -----\n",
      "Number of elements in clusters :\n",
      "Cluster  1 : 24\n",
      "Cluster  2 : 24\n",
      "Cluster  3 : 12\n"
     ]
    }
   ],
   "source": [
    "k = 3; d = 3\n",
    "H = eigenvectors[:,:d]; \n",
    "clusters3 = KMeans(n_clusters=k, random_state=0).fit_predict(H)\n",
    "\n",
    "print(\"----- For k=\",k,\" and d=\",d,\" -----\")\n",
    "print(\"Number of elements in clusters :\")\n",
    "for i in range(k):\n",
    "    cnt = 0\n",
    "    for j in clusters3:\n",
    "        if j == i:\n",
    "            cnt +=1\n",
    "    print(\"Cluster \",i+1,\":\",cnt)"
   ]
  },
  {
   "cell_type": "code",
   "execution_count": 22,
   "metadata": {},
   "outputs": [
    {
     "name": "stdout",
     "output_type": "stream",
     "text": [
      "   IATA       Alliance                          Name\n",
      "0    A3  Star Alliance               Aegean Airlines\n",
      "2    AB      One World                    Air Berlin\n",
      "3    AC  Star Alliance                    Air Canada\n",
      "12   CA  Star Alliance                     Air China\n",
      "18   ET  Star Alliance            Ethiopian Airlines\n",
      "22   JP  Star Alliance                 Adria Airways\n",
      "23   KE        SkyTeam                    Korean Air\n",
      "27   LH  Star Alliance                     Lufthansa\n",
      "28   LO  Star Alliance           LOT Polish Airlines\n",
      "30   ME        SkyTeam          Middle East Airlines\n",
      "33   MS  Star Alliance                      Egyptair\n",
      "37   OK        SkyTeam                Czech Airlines\n",
      "38   OS  Star Alliance             Austrian Airlines\n",
      "40   OZ  Star Alliance               Asiana Airlines\n",
      "43   RJ      One World               Royal Jordanian\n",
      "44   RO        SkyTeam                         Tarom\n",
      "45   S7      One World                   S7 Airlines\n",
      "47   SK  Star Alliance  Scandinavian Airlines System\n",
      "49   SQ  Star Alliance            Singapore Airlines\n",
      "50   SU        SkyTeam     Aeroflot Russian Airlines\n",
      "51   SV        SkyTeam        Saudi Arabian Airlines\n",
      "52   TG  Star Alliance    Thai Airways International\n",
      "53   TK  Star Alliance              Turkish Airlines\n",
      "58   VN        SkyTeam              Vietnam Airlines\n",
      "   IATA       Alliance                                       Name\n",
      "1    AA      One World                          American Airlines\n",
      "6    AR        SkyTeam                      Aerolineas Argentinas\n",
      "7    AV  Star Alliance  Avianca - Aerovias Nacionales de Colombia\n",
      "8    AY      One World                                    Finnair\n",
      "10   BA      One World                            British Airways\n",
      "11   BR  Star Alliance                                    EVA Air\n",
      "14   CM  Star Alliance                              Copa Airlines\n",
      "15   CX      One World                             Cathay Pacific\n",
      "20   IB      One World                            Iberia Airlines\n",
      "21   JL      One World                             Japan Airlines\n",
      "26   LA      One World                               LAN Airlines\n",
      "29   LX  Star Alliance              Swiss International Air Lines\n",
      "32   MH      One World                          Malaysia Airlines\n",
      "35   NH  Star Alliance                         All Nippon Airways\n",
      "36   NZ  Star Alliance                            Air New Zealand\n",
      "39   OU  Star Alliance                           Croatia Airlines\n",
      "41   QF      One World                                     Qantas\n",
      "42   QR      One World                              Qatar Airways\n",
      "46   SA  Star Alliance                      South African Airways\n",
      "48   SN  Star Alliance                          Brussels Airlines\n",
      "54   TP  Star Alliance                               TAP Portugal\n",
      "55   UA  Star Alliance                            United Airlines\n",
      "56   UL      One World                         SriLankan Airlines\n",
      "57   UX        SkyTeam                                 Air Europa\n",
      "   IATA       Alliance                      Name\n",
      "4    AF        SkyTeam                Air France\n",
      "5    AM        SkyTeam                AeroMéxico\n",
      "9    AZ        SkyTeam                  Alitalia\n",
      "13   CI        SkyTeam            China Airlines\n",
      "16   CZ        SkyTeam   China Southern Airlines\n",
      "17   DL        SkyTeam           Delta Air Lines\n",
      "19   GA        SkyTeam          Garuda Indonesia\n",
      "24   KL        SkyTeam  KLM Royal Dutch Airlines\n",
      "25   KQ        SkyTeam             Kenya Airways\n",
      "31   MF        SkyTeam           Xiamen Airlines\n",
      "34   MU        SkyTeam    China Eastern Airlines\n",
      "59   ZH  Star Alliance         Shenzhen Airlines\n"
     ]
    }
   ],
   "source": [
    "print(airlineID[clusters3 == 0][['IATA','Alliance','Name']])\n",
    "print(airlineID[clusters3 == 1][['IATA','Alliance','Name']])\n",
    "print(airlineID[clusters3 == 2][['IATA','Alliance','Name']])"
   ]
  },
  {
   "cell_type": "code",
   "execution_count": null,
   "metadata": {},
   "outputs": [],
   "source": []
  }
 ],
 "metadata": {
  "kernelspec": {
   "display_name": "Python 3",
   "language": "python",
   "name": "python3"
  },
  "language_info": {
   "codemirror_mode": {
    "name": "ipython",
    "version": 3
   },
   "file_extension": ".py",
   "mimetype": "text/x-python",
   "name": "python",
   "nbconvert_exporter": "python",
   "pygments_lexer": "ipython3",
   "version": "3.7.0"
  }
 },
 "nbformat": 4,
 "nbformat_minor": 2
}
