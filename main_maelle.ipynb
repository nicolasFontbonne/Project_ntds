{
 "cells": [
  {
   "cell_type": "markdown",
   "metadata": {},
   "source": [
    "# A LITTLLE TRY TO PLOT GRAPH ON MAP"
   ]
  },
  {
   "cell_type": "code",
   "execution_count": 29,
   "metadata": {},
   "outputs": [],
   "source": [
    "import networkx as nx\n",
    "import numpy as np\n",
    "import pandas as pd\n",
    "import matplotlib.pyplot as plt\n",
    "from tqdm import tqdm\n",
    "import random"
   ]
  },
  {
   "cell_type": "markdown",
   "metadata": {},
   "source": [
    "# Create visualisation where each airport is on the world map"
   ]
  },
  {
   "cell_type": "markdown",
   "metadata": {},
   "source": [
    "https://towardsdatascience.com/catching-that-flight-visualizing-social-network-with-networkx-and-basemap-ce4a0d2eaea6"
   ]
  },
  {
   "cell_type": "markdown",
   "metadata": {},
   "source": [
    "***\n",
    "# Which part of the world is dominated by who, and what is a likely expansion?\n",
    "***"
   ]
  },
  {
   "cell_type": "markdown",
   "metadata": {},
   "source": [
    "## 1rst Part\n",
    "Each airline has a country of origin, and we can also associate each airport to a country. We then start the analysis by identifying the major alliance for each airport (for each airport count the number of edges for each alliance and attribute the airport to the alliance with the maximum count). We then have a graph with 3 labels, and nodes with an unknown label, if not served by an alliance company. A validation step of this approach is then to see whether the country of the airport is the same as the country of one of the airlines inside the alliance (some countries have airlines belonging to different alliances, but that should not matter). When plotting the result on the worldmap, we might see geographic differences between the alliances."
   ]
  },
  {
   "cell_type": "markdown",
   "metadata": {},
   "source": [
    "### Loading data (from Nicolas Notebook)"
   ]
  },
  {
   "cell_type": "code",
   "execution_count": 2,
   "metadata": {},
   "outputs": [],
   "source": [
    "# routes\n",
    "routes = pd.read_csv('data/routes.dat', sep=',', encoding='utf-8')\n",
    "routes.columns = ['Airline','AirlineID','SourceAirport','SourceAirportID','DestinationAirport','DestinationAirportID','Codeshare','Stops','Equipment']\n",
    "\n",
    "# airlines\n",
    "airlines = pd.read_csv('data/airlines.dat', sep=',', encoding='utf-8')\n",
    "airlines.columns = ['AirlineID', 'Name', 'Alias',  'IATA', 'ICAO','Callsign','Country','Active']\n",
    "\n",
    "# airports\n",
    "airports = pd.read_csv('data/airports.dat', sep=',', encoding='utf-8')\n",
    "airports.columns = ['AirportID', 'Name', 'City', 'Country', 'IATA', 'ICAO','Latitude','Longitude','Altitude', 'Timezone','DST', 'TzdatabaseTimeZone', 'Type', 'Source']\n",
    "\n",
    "# alliances\n",
    "alliances = pd.read_csv('data/alliances.dat', sep=',', encoding='utf-8')"
   ]
  },
  {
   "cell_type": "markdown",
   "metadata": {},
   "source": [
    "### Creating the DataFrames corresponding to the work expected"
   ]
  },
  {
   "cell_type": "code",
   "execution_count": 3,
   "metadata": {
    "scrolled": true
   },
   "outputs": [
    {
     "data": {
      "text/html": [
       "<div>\n",
       "<style scoped>\n",
       "    .dataframe tbody tr th:only-of-type {\n",
       "        vertical-align: middle;\n",
       "    }\n",
       "\n",
       "    .dataframe tbody tr th {\n",
       "        vertical-align: top;\n",
       "    }\n",
       "\n",
       "    .dataframe thead th {\n",
       "        text-align: right;\n",
       "    }\n",
       "</style>\n",
       "<table border=\"1\" class=\"dataframe\">\n",
       "  <thead>\n",
       "    <tr style=\"text-align: right;\">\n",
       "      <th></th>\n",
       "      <th>Alliance</th>\n",
       "      <th>Name</th>\n",
       "      <th>IATA</th>\n",
       "      <th>Country</th>\n",
       "    </tr>\n",
       "  </thead>\n",
       "  <tbody>\n",
       "    <tr>\n",
       "      <th>0</th>\n",
       "      <td>Star Alliance</td>\n",
       "      <td>Adria Airways</td>\n",
       "      <td>JP</td>\n",
       "      <td>Slovenia</td>\n",
       "    </tr>\n",
       "    <tr>\n",
       "      <th>1</th>\n",
       "      <td>Star Alliance</td>\n",
       "      <td>Aegean Airlines</td>\n",
       "      <td>A3</td>\n",
       "      <td>Greece</td>\n",
       "    </tr>\n",
       "    <tr>\n",
       "      <th>2</th>\n",
       "      <td>Star Alliance</td>\n",
       "      <td>Air Canada</td>\n",
       "      <td>AC</td>\n",
       "      <td>Canada</td>\n",
       "    </tr>\n",
       "    <tr>\n",
       "      <th>3</th>\n",
       "      <td>Star Alliance</td>\n",
       "      <td>Air China</td>\n",
       "      <td>CA</td>\n",
       "      <td>China</td>\n",
       "    </tr>\n",
       "    <tr>\n",
       "      <th>4</th>\n",
       "      <td>Star Alliance</td>\n",
       "      <td>Air New Zealand</td>\n",
       "      <td>NZ</td>\n",
       "      <td>New Zealand</td>\n",
       "    </tr>\n",
       "  </tbody>\n",
       "</table>\n",
       "</div>"
      ],
      "text/plain": [
       "        Alliance             Name IATA      Country\n",
       "0  Star Alliance    Adria Airways   JP     Slovenia\n",
       "1  Star Alliance  Aegean Airlines   A3       Greece\n",
       "2  Star Alliance       Air Canada   AC       Canada\n",
       "3  Star Alliance        Air China   CA        China\n",
       "4  Star Alliance  Air New Zealand   NZ  New Zealand"
      ]
     },
     "execution_count": 3,
     "metadata": {},
     "output_type": "execute_result"
    }
   ],
   "source": [
    "# Airlines country DataFrame\n",
    "airl_alliances  = pd.merge(alliances, airlines, left_on='Airline', right_on='Name', how = 'left')[['Alliance', 'Name', 'IATA', 'Country']]\n",
    "# correct error of dataset\n",
    "airl_alliances.loc[8].Country= 'Colombia'\n",
    "airl_alliances.head()"
   ]
  },
  {
   "cell_type": "code",
   "execution_count": 4,
   "metadata": {
    "scrolled": false
   },
   "outputs": [
    {
     "data": {
      "text/html": [
       "<div>\n",
       "<style scoped>\n",
       "    .dataframe tbody tr th:only-of-type {\n",
       "        vertical-align: middle;\n",
       "    }\n",
       "\n",
       "    .dataframe tbody tr th {\n",
       "        vertical-align: top;\n",
       "    }\n",
       "\n",
       "    .dataframe thead th {\n",
       "        text-align: right;\n",
       "    }\n",
       "</style>\n",
       "<table border=\"1\" class=\"dataframe\">\n",
       "  <thead>\n",
       "    <tr style=\"text-align: right;\">\n",
       "      <th></th>\n",
       "      <th>Airline</th>\n",
       "      <th>AirlineID</th>\n",
       "      <th>SourceAirport</th>\n",
       "      <th>SourceAirportID</th>\n",
       "      <th>DestinationAirport</th>\n",
       "      <th>DestinationAirportID</th>\n",
       "      <th>Codeshare</th>\n",
       "      <th>Stops</th>\n",
       "      <th>Equipment</th>\n",
       "      <th>Alliance</th>\n",
       "      <th>Name</th>\n",
       "      <th>IATA</th>\n",
       "      <th>Country</th>\n",
       "    </tr>\n",
       "  </thead>\n",
       "  <tbody>\n",
       "    <tr>\n",
       "      <th>4237</th>\n",
       "      <td>A3</td>\n",
       "      <td>96</td>\n",
       "      <td>AOK</td>\n",
       "      <td>1459</td>\n",
       "      <td>ATH</td>\n",
       "      <td>3941</td>\n",
       "      <td>NaN</td>\n",
       "      <td>0</td>\n",
       "      <td>DH4</td>\n",
       "      <td>Star Alliance</td>\n",
       "      <td>Aegean Airlines</td>\n",
       "      <td>A3</td>\n",
       "      <td>Greece</td>\n",
       "    </tr>\n",
       "    <tr>\n",
       "      <th>4238</th>\n",
       "      <td>A3</td>\n",
       "      <td>96</td>\n",
       "      <td>AOK</td>\n",
       "      <td>1459</td>\n",
       "      <td>KSJ</td>\n",
       "      <td>1461</td>\n",
       "      <td>NaN</td>\n",
       "      <td>0</td>\n",
       "      <td>DH8</td>\n",
       "      <td>Star Alliance</td>\n",
       "      <td>Aegean Airlines</td>\n",
       "      <td>A3</td>\n",
       "      <td>Greece</td>\n",
       "    </tr>\n",
       "  </tbody>\n",
       "</table>\n",
       "</div>"
      ],
      "text/plain": [
       "     Airline AirlineID SourceAirport SourceAirportID DestinationAirport  \\\n",
       "4237      A3        96           AOK            1459                ATH   \n",
       "4238      A3        96           AOK            1459                KSJ   \n",
       "\n",
       "     DestinationAirportID Codeshare  Stops Equipment       Alliance  \\\n",
       "4237                 3941       NaN      0       DH4  Star Alliance   \n",
       "4238                 1461       NaN      0       DH8  Star Alliance   \n",
       "\n",
       "                 Name IATA Country  \n",
       "4237  Aegean Airlines   A3  Greece  \n",
       "4238  Aegean Airlines   A3  Greece  "
      ]
     },
     "execution_count": 4,
     "metadata": {},
     "output_type": "execute_result"
    }
   ],
   "source": [
    "routes_alce = pd.merge(routes, airl_alliances, left_on = 'Airline', right_on = 'IATA', how = 'left')\n",
    "routes_alce_only = routes_alce[~routes_alce.IATA.isnull()]\n",
    "routes_alce_only.head(2)"
   ]
  },
  {
   "cell_type": "markdown",
   "metadata": {},
   "source": [
    "### Plot world map with color according to airline country base"
   ]
  },
  {
   "cell_type": "markdown",
   "metadata": {},
   "source": [
    "ColorCode :\n",
    "- 1 if Star Alliance only\n",
    "- 2 if One World only\n",
    "- 3 if SkyTeam only\n",
    "- 4 if Star Alliance and One World\n",
    "- 5 if One World and SkyTeam\n",
    "- 6 if SkyTeam and Star Alliance\n",
    "- 7 if all"
   ]
  },
  {
   "cell_type": "code",
   "execution_count": 5,
   "metadata": {
    "scrolled": true
   },
   "outputs": [],
   "source": [
    "# For countries of airlines of alliances\n",
    "country_attribution = pd.DataFrame(data={'Country': [], 'ColorCode': []});\n",
    "for country in airl_alliances.Country.unique():\n",
    "    alliances = airl_alliances[airl_alliances.Country==country].Alliance.unique()\n",
    "    if 'Star Alliance' in alliances:\n",
    "        if 'One World' in alliances:\n",
    "            if 'SkyTeam' in alliances :\n",
    "                colorCode = 7\n",
    "            else :\n",
    "                colorCode = 4\n",
    "        elif 'SkyTeam' in alliances :\n",
    "            coloCode = 6\n",
    "        else :\n",
    "            colorCode = 1\n",
    "    elif 'One World' in alliances :\n",
    "        if 'SkyTeam' in alliances :\n",
    "            colorCode = 5\n",
    "        else :\n",
    "            colorCode = 2\n",
    "    elif 'SkyTeam' in alliances :\n",
    "        colorCode = 3\n",
    "    country_attribution = country_attribution.append({'Country':country, 'ColorCode':colorCode},ignore_index=True)\n",
    "\n",
    "country_attribution = country_attribution.set_index('Country')\n",
    "\n",
    "#some change to fit the country names of world map\n",
    "country_attribution.rename(index={'China':\"People's Republic of China\",\n",
    "                                  'Republic of Korea': 'South Korea',\n",
    "                                  #'Singapore':,\n",
    "                                  'United States':'United States of America'},\n",
    "                                  #'Hong Kong SAR of China':}, \n",
    "                                   inplace=True)\n",
    "\n",
    "\n"
   ]
  },
  {
   "cell_type": "code",
   "execution_count": 6,
   "metadata": {},
   "outputs": [
    {
     "data": {
      "image/png": "[encoded data removed]",
      "text/plain": [
       "<Figure size 1440x1080 with 1 Axes>"
      ]
     },
     "metadata": {},
     "output_type": "display_data"
    }
   ],
   "source": [
    "# plot world map\n",
    "import cartopy\n",
    "import cartopy.io.shapereader as shpreader\n",
    "import cartopy.crs as ccrs\n",
    "\n",
    "plt.figure(figsize = (20,15))\n",
    "ax = plt.axes(projection=ccrs.PlateCarree())\n",
    "#ax.add_feature(cartopy.feature.LAND)\n",
    "ax.add_feature(cartopy.feature.OCEAN)\n",
    "#ax.add_feature(cartopy.feature.COASTLINE)\n",
    "#ax.add_feature(cartopy.feature.BORDERS, linestyle='-', alpha=.5)\n",
    "#ax.add_feature(cartopy.feature.LAKES, alpha=0.95)\n",
    "#ax.add_feature(cartopy.feature.RIVERS)\n",
    "ax.set_extent([-150, 60, -25, 60])\n",
    "\n",
    "shpfilename = shpreader.natural_earth(resolution='110m',\n",
    "                                      category='cultural',\n",
    "                                      name='admin_0_countries')\n",
    "reader = shpreader.Reader(shpfilename)\n",
    "countries = reader.records()\n",
    "\n",
    "\n",
    "# 1 if Star Alliance only -> red\n",
    "# 2 if One World only -> blue\n",
    "# 3 if SkyTeam only -> green\n",
    "# 4 if Star Alliance and One World\n",
    "# 5 if One World and SkyTeam\n",
    "# 6 if SkyTeam and Star Alliance\n",
    "# 7 if all -> \n",
    "color_list=[(1,0,0),(0,0,1),(0,1,0),(1,1,0),(0,0.5,0.5),(0,0.5,0),(1,0,1)]\n",
    "\n",
    "for country in countries:\n",
    "\n",
    "    if country.attributes['NAME_EN'] in country_attribution.index :\n",
    "        #print(country.attributes['NAME_EN'])\n",
    "        num=country_attribution.loc[country.attributes['NAME_EN']].ColorCode-1\n",
    "        ax.add_geometries(country.geometry, ccrs.PlateCarree(),\n",
    "                          facecolor=color_list[int(num)],\n",
    "                          label=country.attributes['NAME_EN'])\n",
    "    else :\n",
    "        ax.add_geometries(country.geometry, ccrs.PlateCarree(),\n",
    "                          facecolor=(1,1,1),\n",
    "                          label=country.attributes['NAME_EN'])\n",
    "    \n",
    "#plt.legend(color, [\"SA\", \"OW\", \"ST\", \"SA+OW\", \"OW+ST\", \"ST+SA\", \"SA+OW+ST\"])\n",
    "\n",
    "#LEGEND\n",
    "from matplotlib.patches import Patch\n",
    "from matplotlib.lines import Line2D\n",
    "\n",
    "SA='Star Alliance'\n",
    "OW='One World'\n",
    "ST='Sky Team'\n",
    "name_list=[SA, OW, ST, SA+' and '+OW, OW+' and '+ST, ST+\" and \"+SA, SA+', '+OW+' and '+ST]\n",
    "\n",
    "legend_elements=[]\n",
    "for i in range (0,7):\n",
    "    legend_elements.append(Line2D([0], [0], color=color_list[i], lw=4, label=name_list[i]))\n",
    "plt.legend(handles=legend_elements, loc='lower left')\n",
    "plt.show()\n"
   ]
  },
  {
   "cell_type": "markdown",
   "metadata": {},
   "source": [
    "Conclusion :  \n",
    "- Each alliance is quite spread over the world : logical because they want to provide the best experience to their client (= they can go almost anywhere they want with this alliance)\n",
    "- USA is an uncontournable country for alliance : it is a big country with a lot of client and it is not possible for any alliance to pass without it\n",
    "- We can notice that several countries are \"shared\" between alliances -> what can we conclude on that ?"
   ]
  },
  {
   "cell_type": "markdown",
   "metadata": {},
   "source": [
    "### Create airport \"attribution\""
   ]
  },
  {
   "cell_type": "code",
   "execution_count": 7,
   "metadata": {},
   "outputs": [
    {
     "data": {
      "text/html": [
       "<div>\n",
       "<style scoped>\n",
       "    .dataframe tbody tr th:only-of-type {\n",
       "        vertical-align: middle;\n",
       "    }\n",
       "\n",
       "    .dataframe tbody tr th {\n",
       "        vertical-align: top;\n",
       "    }\n",
       "\n",
       "    .dataframe thead th {\n",
       "        text-align: right;\n",
       "    }\n",
       "</style>\n",
       "<table border=\"1\" class=\"dataframe\">\n",
       "  <thead>\n",
       "    <tr style=\"text-align: right;\">\n",
       "      <th></th>\n",
       "      <th>airportsID</th>\n",
       "    </tr>\n",
       "    <tr>\n",
       "      <th>Airport</th>\n",
       "      <th></th>\n",
       "    </tr>\n",
       "  </thead>\n",
       "  <tbody>\n",
       "    <tr>\n",
       "      <th>ASF</th>\n",
       "      <td>0</td>\n",
       "    </tr>\n",
       "    <tr>\n",
       "      <th>CEK</th>\n",
       "      <td>1</td>\n",
       "    </tr>\n",
       "  </tbody>\n",
       "</table>\n",
       "</div>"
      ],
      "text/plain": [
       "         airportsID\n",
       "Airport            \n",
       "ASF               0\n",
       "CEK               1"
      ]
     },
     "execution_count": 7,
     "metadata": {},
     "output_type": "execute_result"
    }
   ],
   "source": [
    "# import of source and destination airport\n",
    "source_airports = routes[['SourceAirport']]\n",
    "source_airports = source_airports.rename(columns={'SourceAirport':'Airport'})\n",
    "\n",
    "dest_airports = routes[['DestinationAirport']]\n",
    "dest_airports = dest_airports.rename(columns={'DestinationAirport':'Airport'})\n",
    "\n",
    "# creation of a dataframe with all airport and airport_idx \n",
    "# (we use airport_idx insteed of airportID because some airports have no airportID)\n",
    "airportsID = pd.concat([source_airports,dest_airports]).drop_duplicates().reset_index().drop(columns=['index']).reset_index()\n",
    "airportsID = airportsID.set_index('Airport').rename(columns={'index':'airportsID'})\n",
    "airportsID.head(2)"
   ]
  },
  {
   "cell_type": "markdown",
   "metadata": {},
   "source": [
    "Creation of the weighted adjacency matrix. We first create a 3D tensor with dimensions {source, destination, alliance}. That way we can keep the weight intact for each flight.\n",
    "\n",
    "No edges = 0  \n",
    "No alliances = 1  \n",
    "Star Alliance = 2  \n",
    "One World = 3  \n",
    "SkyTeam = 4  "
   ]
  },
  {
   "cell_type": "code",
   "execution_count": 8,
   "metadata": {},
   "outputs": [],
   "source": [
    "# Create adjacency\n",
    "routes_alce = routes_alce.fillna(\"None\")\n",
    "alliances_idx = {\"None\":1, \"Star Alliance\":2, \"One World\":3, \"SkyTeam\":4}\n",
    "n_nodes = len(airportsID)\n",
    "adjacency = np.zeros((n_nodes, n_nodes, 5), dtype=int)\n",
    "for idx,row in routes_alce.iterrows():\n",
    "    \n",
    "    idx_source = airportsID.loc[row.SourceAirport, \"airportsID\"]\n",
    "    idx_dest = airportsID.loc[row.DestinationAirport, \"airportsID\"]\n",
    "    category = alliances_idx[row.Alliance]\n",
    "    \n",
    "    adjacency[idx_source, idx_dest, category] += 1\n",
    "    adjacency[idx_dest, idx_source, category] += 1"
   ]
  },
  {
   "cell_type": "code",
   "execution_count": 9,
   "metadata": {},
   "outputs": [],
   "source": [
    "# Go back to a DataFrame where each airport is attributed to an alliance\n",
    "airport_attribution = airportsID.copy()\n",
    "airport_attribution['Alliance'] = np.nan\n",
    "\n",
    "for airport in airport_attribution.index :\n",
    "    idx = int(airport_attribution.loc[airport].airportsID)\n",
    "    SA = np.sum(adjacency[idx, :, 2]) + np.sum(adjacency[:, idx, 2])\n",
    "    OW = np.sum(adjacency[idx, :, 3]) + np.sum(adjacency[:, idx, 3])\n",
    "    ST = np.sum(adjacency[idx, :, 4]) + np.sum(adjacency[:, idx, 4])\n",
    "    if SA==max(SA,OW,ST) :\n",
    "        airport_attribution.loc[airport,'Alliance']=\"Star Alliance\"\n",
    "    elif OW==max(SA,OW,ST) :\n",
    "        airport_attribution.loc[airport,'Alliance']=\"One World\"\n",
    "    elif ST==max(SA,OW,ST) :\n",
    "        airport_attribution.loc[airport,'Alliance']=\"SkyTeam\""
   ]
  },
  {
   "cell_type": "code",
   "execution_count": 10,
   "metadata": {},
   "outputs": [
    {
     "name": "stderr",
     "output_type": "stream",
     "text": [
      "C:\\Users\\maell\\Anaconda3\\lib\\site-packages\\pandas\\core\\frame.py:3778: SettingWithCopyWarning: \n",
      "A value is trying to be set on a copy of a slice from a DataFrame\n",
      "\n",
      "See the caveats in the documentation: http://pandas.pydata.org/pandas-docs/stable/indexing.html#indexing-view-versus-copy\n",
      "  return super(DataFrame, self).rename(**kwargs)\n"
     ]
    }
   ],
   "source": [
    "country_ref=airports[['Country','IATA']]\n",
    "country_ref.rename(columns={\"IATA\": \"Airport\"},inplace=True)\n",
    "country_ref.set_index('Airport', inplace=True)\n",
    "\n",
    "airport_attribution = pd.merge(airport_attribution, country_ref,  on='Airport')\n",
    "airport_attribution.drop(columns=['airportsID'], inplace=True)"
   ]
  },
  {
   "cell_type": "code",
   "execution_count": 11,
   "metadata": {},
   "outputs": [
    {
     "data": {
      "text/html": [
       "<div>\n",
       "<style scoped>\n",
       "    .dataframe tbody tr th:only-of-type {\n",
       "        vertical-align: middle;\n",
       "    }\n",
       "\n",
       "    .dataframe tbody tr th {\n",
       "        vertical-align: top;\n",
       "    }\n",
       "\n",
       "    .dataframe thead th {\n",
       "        text-align: right;\n",
       "    }\n",
       "</style>\n",
       "<table border=\"1\" class=\"dataframe\">\n",
       "  <thead>\n",
       "    <tr style=\"text-align: right;\">\n",
       "      <th></th>\n",
       "      <th>Alliance</th>\n",
       "      <th>Country</th>\n",
       "    </tr>\n",
       "    <tr>\n",
       "      <th>Airport</th>\n",
       "      <th></th>\n",
       "      <th></th>\n",
       "    </tr>\n",
       "  </thead>\n",
       "  <tbody>\n",
       "    <tr>\n",
       "      <th>ASF</th>\n",
       "      <td>Star Alliance</td>\n",
       "      <td>Russia</td>\n",
       "    </tr>\n",
       "    <tr>\n",
       "      <th>CEK</th>\n",
       "      <td>One World</td>\n",
       "      <td>Russia</td>\n",
       "    </tr>\n",
       "    <tr>\n",
       "      <th>DME</th>\n",
       "      <td>One World</td>\n",
       "      <td>Russia</td>\n",
       "    </tr>\n",
       "    <tr>\n",
       "      <th>EGO</th>\n",
       "      <td>Star Alliance</td>\n",
       "      <td>Russia</td>\n",
       "    </tr>\n",
       "    <tr>\n",
       "      <th>GYD</th>\n",
       "      <td>SkyTeam</td>\n",
       "      <td>Azerbaijan</td>\n",
       "    </tr>\n",
       "  </tbody>\n",
       "</table>\n",
       "</div>"
      ],
      "text/plain": [
       "              Alliance     Country\n",
       "Airport                           \n",
       "ASF      Star Alliance      Russia\n",
       "CEK          One World      Russia\n",
       "DME          One World      Russia\n",
       "EGO      Star Alliance      Russia\n",
       "GYD            SkyTeam  Azerbaijan"
      ]
     },
     "execution_count": 11,
     "metadata": {},
     "output_type": "execute_result"
    }
   ],
   "source": [
    "airport_attribution.head()"
   ]
  },
  {
   "cell_type": "markdown",
   "metadata": {},
   "source": [
    "# COMPARAISON BETWEEN THE TWO DISTRIBUTION"
   ]
  },
  {
   "cell_type": "code",
   "execution_count": 12,
   "metadata": {},
   "outputs": [],
   "source": [
    "def compare(alliance, airport_attribution, country_attribution) :\n",
    "    if alliance=='Star Alliance' :\n",
    "        val=[1,4,6,7]\n",
    "    elif alliance=='One World' :\n",
    "        val=[2,4,5,7]\n",
    "    elif alliance=='SkyTeam' :\n",
    "        val=[3,5,6,7]\n",
    "    else :\n",
    "        print('The alliance parameter is not correct.')\n",
    "        return\n",
    "    \n",
    "    print('Comparison between country and airport attribution for '+alliance)\n",
    "    print()\n",
    "    \n",
    "    list1 = list(country_attribution[country_attribution['ColorCode'].isin(val)].index)\n",
    "    print('Countries where the companies of the alliance have their basis :',len(list1))\n",
    "    print(list1)\n",
    "    print()\n",
    "    \n",
    "    list2 = list(airport_attribution[airport_attribution['Alliance']=='One World'].Country.unique())\n",
    "    print('Countries where the alliance dominates airports :',len(list2))\n",
    "    print(list2)\n",
    "    print()\n",
    "    \n",
    "    inBoth=set(list1) & set(list2)\n",
    "    print('Countries that are in both lists :',len(inBoth))\n",
    "    print(inBoth)"
   ]
  },
  {
   "cell_type": "markdown",
   "metadata": {},
   "source": [
    "### For Star Alliance"
   ]
  },
  {
   "cell_type": "code",
   "execution_count": 13,
   "metadata": {},
   "outputs": [
    {
     "name": "stdout",
     "output_type": "stream",
     "text": [
      "Comparison between country and airport attribution for Star Alliance\n",
      "\n",
      "Countries where the companies of the alliance have their basis : 25\n",
      "['Slovenia', 'Greece', 'Canada', \"People's Republic of China\", 'New Zealand', 'Japan', 'South Korea', 'Austria', 'Colombia', 'Belgium', 'Panama', 'Croatia', 'Egypt', 'Ethiopia', 'Taiwan', 'Poland', 'Germany', 'Sweden', 'Singapore', 'South Africa', 'Switzerland', 'Portugal', 'Thailand', 'Turkey', 'United States of America']\n",
      "\n",
      "Countries where the alliance dominates airports : 81\n",
      "['Russia', 'Peru', 'Ecuador', 'Italy', 'Spain', 'Finland', 'United Arab Emirates', 'Philippines', 'United States', 'United Kingdom', 'Australia', 'Hong Kong', 'Thailand', 'Malaysia', 'Germany', 'Austria', 'Bahamas', 'Morocco', 'Netherlands Antilles', 'Uzbekistan', 'Montenegro', 'Antigua and Barbuda', 'Dominica', 'Bangladesh', 'Oman', 'Mexico', 'Turkey', 'Greece', 'Brunei', 'Chile', 'India', 'Burma', 'Jamaica', 'Dominican Republic', 'Tajikistan', 'Argentina', 'Jordan', 'British Virgin Islands', 'Puerto Rico', 'Virgin Islands', 'Turks and Caicos Islands', 'Colombia', 'Bahrain', 'Sri Lanka', 'Bolivia', 'France', 'Bermuda', 'Barbados', 'Gibraltar', 'Grenada', 'Japan', 'Fiji', 'French Polynesia', 'Netherlands', 'Saint Kitts and Nevis', 'Saint Lucia', 'Canada', 'Tunisia', 'Guernsey', 'Jersey', 'Brazil', 'Algeria', 'Maldives', 'Indonesia', 'Sweden', 'Estonia', 'Denmark', 'Isle of Man', 'Cyprus', 'Trinidad and Tobago', 'Papua New Guinea', 'Kyrgyzstan', 'Kazakhstan', 'Bulgaria', 'Iraq', 'Pakistan', 'Kiribati', 'Vanuatu', 'Falkland Islands', 'East Timor', 'New Caledonia']\n",
      "\n",
      "Countries that are in both lists : 9\n",
      "{'Greece', 'Turkey', 'Colombia', 'Thailand', 'Japan', 'Austria', 'Canada', 'Germany', 'Sweden'}\n"
     ]
    }
   ],
   "source": [
    "compare('Star Alliance',airport_attribution,country_attribution)"
   ]
  },
  {
   "cell_type": "markdown",
   "metadata": {},
   "source": [
    "### For One World"
   ]
  },
  {
   "cell_type": "code",
   "execution_count": 14,
   "metadata": {},
   "outputs": [
    {
     "name": "stdout",
     "output_type": "stream",
     "text": [
      "Comparison between country and airport attribution for One World\n",
      "\n",
      "Countries where the companies of the alliance have their basis : 15\n",
      "['Japan', 'South Korea', 'Germany', 'United States of America', 'Russia', 'Spain', 'United Kingdom', 'Hong Kong SAR of China', 'Finland', 'Chile', 'Malaysia', 'Australia', 'Qatar', 'Jordan', 'Sri Lanka']\n",
      "\n",
      "Countries where the alliance dominates airports : 81\n",
      "['Russia', 'Peru', 'Ecuador', 'Italy', 'Spain', 'Finland', 'United Arab Emirates', 'Philippines', 'United States', 'United Kingdom', 'Australia', 'Hong Kong', 'Thailand', 'Malaysia', 'Germany', 'Austria', 'Bahamas', 'Morocco', 'Netherlands Antilles', 'Uzbekistan', 'Montenegro', 'Antigua and Barbuda', 'Dominica', 'Bangladesh', 'Oman', 'Mexico', 'Turkey', 'Greece', 'Brunei', 'Chile', 'India', 'Burma', 'Jamaica', 'Dominican Republic', 'Tajikistan', 'Argentina', 'Jordan', 'British Virgin Islands', 'Puerto Rico', 'Virgin Islands', 'Turks and Caicos Islands', 'Colombia', 'Bahrain', 'Sri Lanka', 'Bolivia', 'France', 'Bermuda', 'Barbados', 'Gibraltar', 'Grenada', 'Japan', 'Fiji', 'French Polynesia', 'Netherlands', 'Saint Kitts and Nevis', 'Saint Lucia', 'Canada', 'Tunisia', 'Guernsey', 'Jersey', 'Brazil', 'Algeria', 'Maldives', 'Indonesia', 'Sweden', 'Estonia', 'Denmark', 'Isle of Man', 'Cyprus', 'Trinidad and Tobago', 'Papua New Guinea', 'Kyrgyzstan', 'Kazakhstan', 'Bulgaria', 'Iraq', 'Pakistan', 'Kiribati', 'Vanuatu', 'Falkland Islands', 'East Timor', 'New Caledonia']\n",
      "\n",
      "Countries that are in both lists : 11\n",
      "{'Malaysia', 'Sri Lanka', 'Russia', 'United Kingdom', 'Japan', 'Finland', 'Jordan', 'Chile', 'Spain', 'Germany', 'Australia'}\n"
     ]
    }
   ],
   "source": [
    "compare('One World',airport_attribution,country_attribution)"
   ]
  },
  {
   "cell_type": "markdown",
   "metadata": {},
   "source": [
    "### For SkyTeam"
   ]
  },
  {
   "cell_type": "code",
   "execution_count": 15,
   "metadata": {},
   "outputs": [
    {
     "name": "stdout",
     "output_type": "stream",
     "text": [
      "Comparison between country and airport attribution for SkyTeam\n",
      "\n",
      "Countries where the companies of the alliance have their basis : 15\n",
      "['United States of America', 'Russia', 'Argentina', 'Mexico', 'Spain', 'France', 'Italy', 'Czech Republic', 'Indonesia', 'Kenya', 'Netherlands', 'Lebanon', 'Saudi Arabia', 'Romania', 'Vietnam']\n",
      "\n",
      "Countries where the alliance dominates airports : 81\n",
      "['Russia', 'Peru', 'Ecuador', 'Italy', 'Spain', 'Finland', 'United Arab Emirates', 'Philippines', 'United States', 'United Kingdom', 'Australia', 'Hong Kong', 'Thailand', 'Malaysia', 'Germany', 'Austria', 'Bahamas', 'Morocco', 'Netherlands Antilles', 'Uzbekistan', 'Montenegro', 'Antigua and Barbuda', 'Dominica', 'Bangladesh', 'Oman', 'Mexico', 'Turkey', 'Greece', 'Brunei', 'Chile', 'India', 'Burma', 'Jamaica', 'Dominican Republic', 'Tajikistan', 'Argentina', 'Jordan', 'British Virgin Islands', 'Puerto Rico', 'Virgin Islands', 'Turks and Caicos Islands', 'Colombia', 'Bahrain', 'Sri Lanka', 'Bolivia', 'France', 'Bermuda', 'Barbados', 'Gibraltar', 'Grenada', 'Japan', 'Fiji', 'French Polynesia', 'Netherlands', 'Saint Kitts and Nevis', 'Saint Lucia', 'Canada', 'Tunisia', 'Guernsey', 'Jersey', 'Brazil', 'Algeria', 'Maldives', 'Indonesia', 'Sweden', 'Estonia', 'Denmark', 'Isle of Man', 'Cyprus', 'Trinidad and Tobago', 'Papua New Guinea', 'Kyrgyzstan', 'Kazakhstan', 'Bulgaria', 'Iraq', 'Pakistan', 'Kiribati', 'Vanuatu', 'Falkland Islands', 'East Timor', 'New Caledonia']\n",
      "\n",
      "Countries that are in both lists : 8\n",
      "{'Mexico', 'Indonesia', 'Netherlands', 'Italy', 'Argentina', 'Spain', 'France', 'Russia'}\n"
     ]
    }
   ],
   "source": [
    "compare('SkyTeam',airport_attribution,country_attribution)"
   ]
  },
  {
   "cell_type": "markdown",
   "metadata": {},
   "source": [
    "## Conclusion\n",
    "\n",
    "On one hand, we see that the countries where the alliances' airlines have their basis have a high probability to be on the countries where the alliance dominates some airports. It seems logical, because if an airline have it basis on a country, it will probably be a leader for the flights on this country, so the alliances dominates airports.  \n",
    "On the over hand the countries where the alliance dominates some airport have a very high probability not to be a country where one of the airlines have it basis : it seems logicals because to expend the alliance and offer the best service to clients, it needs to 'controle' airports of countries that are not only basis of their companies."
   ]
  },
  {
   "cell_type": "markdown",
   "metadata": {},
   "source": [
    "## 2nd Part\n",
    "We can study the expansion through transductive learning. In a first step we can unlabel some airports for which we know the major alliance serving it, and then through transductive learning, give labels to them and check the error. This can give an insight whether the current alliance status has an underlying network property. In a second step, through transductive learning, we can give labels to airports not served by an alliance airline. We could validate this step by checking airlines with country seat in the unlabelled airport countries (if there are any?) and see if between 2014 and now there were actual fusions or negotiations going on between these potential airlines and the alliances."
   ]
  },
  {
   "cell_type": "code",
   "execution_count": 19,
   "metadata": {},
   "outputs": [
    {
     "name": "stdout",
     "output_type": "stream",
     "text": [
      "There is 3185 airports where we know the major alliance\n",
      "So we can unlabeled 1/3 of those airports, that is corresponding to 1061.6666666666667 airports\n"
     ]
    }
   ],
   "source": [
    "print('There is',len(airport_attribution),'airports where we know the major alliance')\n",
    "print('So we can unlabeled 1/3 of those airports, that is corresponding to', len(airport_attribution)/3, 'airports')"
   ]
  },
  {
   "cell_type": "code",
   "execution_count": 74,
   "metadata": {},
   "outputs": [
    {
     "name": "stderr",
     "output_type": "stream",
     "text": [
      "C:\\Users\\maell\\Anaconda3\\lib\\site-packages\\ipykernel_launcher.py:7: SettingWithCopyWarning: \n",
      "A value is trying to be set on a copy of a slice from a DataFrame.\n",
      "Try using .loc[row_indexer,col_indexer] = value instead\n",
      "\n",
      "See the caveats in the documentation: http://pandas.pydata.org/pandas-docs/stable/indexing.html#indexing-view-versus-copy\n",
      "  import sys\n"
     ]
    }
   ],
   "source": [
    "# select the airports to unlabel\n",
    "list_airport = list(airport_attribution.index)\n",
    "list_unknown_airport = random.sample(list_airport,1061)\n",
    "\n",
    "# unlabel those airports\n",
    "airport_to_label = airport_attribution[airport_attribution.index.isin(list_unknown_airport)]\n",
    "airport_to_label['Alliance'] = 'None'\n",
    "\n",
    "# create the reference for label propagation\n",
    "airport_labeled = airport_attribution[~airport_attribution.index.isin(list_unknown_airport)]"
   ]
  },
  {
   "cell_type": "code",
   "execution_count": 170,
   "metadata": {},
   "outputs": [],
   "source": [
    "# propagate the labels, based on adjacency\n",
    "def propagate_labels (airport_to_label, airport_labeled, adjacency, airportsID) :\n",
    "    c=0;\n",
    "    results = airport_to_label.copy()\n",
    "    list_airport_to_label = list(airport_to_label.index)\n",
    "    while list_airport_to_label != [] :\n",
    "        # we randomly chose a point\n",
    "        number_airport=len(list_airport_to_label)\n",
    "        if number_airport>1:\n",
    "            airport= list_airport_to_label[random.randint(0,number_airport-1)]\n",
    "        else:\n",
    "            airport= list_airport_to_label[0]\n",
    "            \n",
    "        # we count for all it neighbors\n",
    "        idx = int(airportsID.loc[airport].airportsID)\n",
    "        SA = np.sum(adjacency[idx, :, 2]) + np.sum(adjacency[:, idx, 2])\n",
    "        OW = np.sum(adjacency[idx, :, 3]) + np.sum(adjacency[:, idx, 3])\n",
    "        ST = np.sum(adjacency[idx, :, 4]) + np.sum(adjacency[:, idx, 4])\n",
    "        \n",
    "        # we attribute the label\n",
    "        if SA==OW and OW==ST :\n",
    "            results.loc[airport,'Alliance']=\"No Majority\"\n",
    "            c=c+1\n",
    "#             if c>1000 : #stop algo\n",
    "#                 return results\n",
    "        elif SA==max(SA,OW,ST) :\n",
    "            c=0\n",
    "            results.loc[airport,'Alliance']=\"Star Alliance\"\n",
    "            list_airport_to_label.remove(airport)\n",
    "        elif OW==max(SA,OW,ST) :\n",
    "            c=0\n",
    "            results.loc[airport,'Alliance']=\"One World\"\n",
    "            list_airport_to_label.remove(airport)\n",
    "        elif ST==max(SA,OW,ST) :\n",
    "            c=0\n",
    "            results.loc[airport,'Alliance']=\"SkyTeam\"\n",
    "            list_airport_to_label.remove(airport)\n",
    "            \n",
    "    #return results\n",
    "    return results"
   ]
  },
  {
   "cell_type": "code",
   "execution_count": 171,
   "metadata": {},
   "outputs": [
    {
     "ename": "KeyboardInterrupt",
     "evalue": "",
     "output_type": "error",
     "traceback": [
      "\u001b[1;31m---------------------------------------------------------------------------\u001b[0m",
      "\u001b[1;31mKeyboardInterrupt\u001b[0m                         Traceback (most recent call last)",
      "\u001b[1;32m<ipython-input-171-80b70469021f>\u001b[0m in \u001b[0;36m<module>\u001b[1;34m()\u001b[0m\n\u001b[1;32m----> 1\u001b[1;33m \u001b[0mres\u001b[0m \u001b[1;33m=\u001b[0m \u001b[0mpropagate_labels\u001b[0m\u001b[1;33m(\u001b[0m\u001b[0mairport_to_label\u001b[0m\u001b[1;33m,\u001b[0m \u001b[0mairport_labeled\u001b[0m\u001b[1;33m,\u001b[0m \u001b[0madjacency\u001b[0m\u001b[1;33m,\u001b[0m \u001b[0mairportsID\u001b[0m\u001b[1;33m)\u001b[0m\u001b[1;33m\u001b[0m\u001b[0m\n\u001b[0m",
      "\u001b[1;32m<ipython-input-170-0d60246a78de>\u001b[0m in \u001b[0;36mpropagate_labels\u001b[1;34m(airport_to_label, airport_labeled, adjacency, airportsID)\u001b[0m\n\u001b[0;32m     14\u001b[0m         \u001b[1;31m# we count for all it neighbors\u001b[0m\u001b[1;33m\u001b[0m\u001b[1;33m\u001b[0m\u001b[0m\n\u001b[0;32m     15\u001b[0m         \u001b[0midx\u001b[0m \u001b[1;33m=\u001b[0m \u001b[0mint\u001b[0m\u001b[1;33m(\u001b[0m\u001b[0mairportsID\u001b[0m\u001b[1;33m.\u001b[0m\u001b[0mloc\u001b[0m\u001b[1;33m[\u001b[0m\u001b[0mairport\u001b[0m\u001b[1;33m]\u001b[0m\u001b[1;33m.\u001b[0m\u001b[0mairportsID\u001b[0m\u001b[1;33m)\u001b[0m\u001b[1;33m\u001b[0m\u001b[0m\n\u001b[1;32m---> 16\u001b[1;33m         \u001b[0mSA\u001b[0m \u001b[1;33m=\u001b[0m \u001b[0mnp\u001b[0m\u001b[1;33m.\u001b[0m\u001b[0msum\u001b[0m\u001b[1;33m(\u001b[0m\u001b[0madjacency\u001b[0m\u001b[1;33m[\u001b[0m\u001b[0midx\u001b[0m\u001b[1;33m,\u001b[0m \u001b[1;33m:\u001b[0m\u001b[1;33m,\u001b[0m \u001b[1;36m2\u001b[0m\u001b[1;33m]\u001b[0m\u001b[1;33m)\u001b[0m \u001b[1;33m+\u001b[0m \u001b[0mnp\u001b[0m\u001b[1;33m.\u001b[0m\u001b[0msum\u001b[0m\u001b[1;33m(\u001b[0m\u001b[0madjacency\u001b[0m\u001b[1;33m[\u001b[0m\u001b[1;33m:\u001b[0m\u001b[1;33m,\u001b[0m \u001b[0midx\u001b[0m\u001b[1;33m,\u001b[0m \u001b[1;36m2\u001b[0m\u001b[1;33m]\u001b[0m\u001b[1;33m)\u001b[0m\u001b[1;33m\u001b[0m\u001b[0m\n\u001b[0m\u001b[0;32m     17\u001b[0m         \u001b[0mOW\u001b[0m \u001b[1;33m=\u001b[0m \u001b[0mnp\u001b[0m\u001b[1;33m.\u001b[0m\u001b[0msum\u001b[0m\u001b[1;33m(\u001b[0m\u001b[0madjacency\u001b[0m\u001b[1;33m[\u001b[0m\u001b[0midx\u001b[0m\u001b[1;33m,\u001b[0m \u001b[1;33m:\u001b[0m\u001b[1;33m,\u001b[0m \u001b[1;36m3\u001b[0m\u001b[1;33m]\u001b[0m\u001b[1;33m)\u001b[0m \u001b[1;33m+\u001b[0m \u001b[0mnp\u001b[0m\u001b[1;33m.\u001b[0m\u001b[0msum\u001b[0m\u001b[1;33m(\u001b[0m\u001b[0madjacency\u001b[0m\u001b[1;33m[\u001b[0m\u001b[1;33m:\u001b[0m\u001b[1;33m,\u001b[0m \u001b[0midx\u001b[0m\u001b[1;33m,\u001b[0m \u001b[1;36m3\u001b[0m\u001b[1;33m]\u001b[0m\u001b[1;33m)\u001b[0m\u001b[1;33m\u001b[0m\u001b[0m\n\u001b[0;32m     18\u001b[0m         \u001b[0mST\u001b[0m \u001b[1;33m=\u001b[0m \u001b[0mnp\u001b[0m\u001b[1;33m.\u001b[0m\u001b[0msum\u001b[0m\u001b[1;33m(\u001b[0m\u001b[0madjacency\u001b[0m\u001b[1;33m[\u001b[0m\u001b[0midx\u001b[0m\u001b[1;33m,\u001b[0m \u001b[1;33m:\u001b[0m\u001b[1;33m,\u001b[0m \u001b[1;36m4\u001b[0m\u001b[1;33m]\u001b[0m\u001b[1;33m)\u001b[0m \u001b[1;33m+\u001b[0m \u001b[0mnp\u001b[0m\u001b[1;33m.\u001b[0m\u001b[0msum\u001b[0m\u001b[1;33m(\u001b[0m\u001b[0madjacency\u001b[0m\u001b[1;33m[\u001b[0m\u001b[1;33m:\u001b[0m\u001b[1;33m,\u001b[0m \u001b[0midx\u001b[0m\u001b[1;33m,\u001b[0m \u001b[1;36m4\u001b[0m\u001b[1;33m]\u001b[0m\u001b[1;33m)\u001b[0m\u001b[1;33m\u001b[0m\u001b[0m\n",
      "\u001b[1;32m~\\Anaconda3\\lib\\site-packages\\numpy\\core\\fromnumeric.py\u001b[0m in \u001b[0;36msum\u001b[1;34m(a, axis, dtype, out, keepdims)\u001b[0m\n\u001b[0;32m   1880\u001b[0m             \u001b[1;32mreturn\u001b[0m \u001b[0msum\u001b[0m\u001b[1;33m(\u001b[0m\u001b[0maxis\u001b[0m\u001b[1;33m=\u001b[0m\u001b[0maxis\u001b[0m\u001b[1;33m,\u001b[0m \u001b[0mdtype\u001b[0m\u001b[1;33m=\u001b[0m\u001b[0mdtype\u001b[0m\u001b[1;33m,\u001b[0m \u001b[0mout\u001b[0m\u001b[1;33m=\u001b[0m\u001b[0mout\u001b[0m\u001b[1;33m,\u001b[0m \u001b[1;33m**\u001b[0m\u001b[0mkwargs\u001b[0m\u001b[1;33m)\u001b[0m\u001b[1;33m\u001b[0m\u001b[0m\n\u001b[0;32m   1881\u001b[0m     return _methods._sum(a, axis=axis, dtype=dtype,\n\u001b[1;32m-> 1882\u001b[1;33m                          out=out, **kwargs)\n\u001b[0m\u001b[0;32m   1883\u001b[0m \u001b[1;33m\u001b[0m\u001b[0m\n\u001b[0;32m   1884\u001b[0m \u001b[1;33m\u001b[0m\u001b[0m\n",
      "\u001b[1;32m~\\Anaconda3\\lib\\site-packages\\numpy\\core\\_methods.py\u001b[0m in \u001b[0;36m_sum\u001b[1;34m(a, axis, dtype, out, keepdims)\u001b[0m\n\u001b[0;32m     30\u001b[0m \u001b[1;33m\u001b[0m\u001b[0m\n\u001b[0;32m     31\u001b[0m \u001b[1;32mdef\u001b[0m \u001b[0m_sum\u001b[0m\u001b[1;33m(\u001b[0m\u001b[0ma\u001b[0m\u001b[1;33m,\u001b[0m \u001b[0maxis\u001b[0m\u001b[1;33m=\u001b[0m\u001b[1;32mNone\u001b[0m\u001b[1;33m,\u001b[0m \u001b[0mdtype\u001b[0m\u001b[1;33m=\u001b[0m\u001b[1;32mNone\u001b[0m\u001b[1;33m,\u001b[0m \u001b[0mout\u001b[0m\u001b[1;33m=\u001b[0m\u001b[1;32mNone\u001b[0m\u001b[1;33m,\u001b[0m \u001b[0mkeepdims\u001b[0m\u001b[1;33m=\u001b[0m\u001b[1;32mFalse\u001b[0m\u001b[1;33m)\u001b[0m\u001b[1;33m:\u001b[0m\u001b[1;33m\u001b[0m\u001b[0m\n\u001b[1;32m---> 32\u001b[1;33m     \u001b[1;32mreturn\u001b[0m \u001b[0mumr_sum\u001b[0m\u001b[1;33m(\u001b[0m\u001b[0ma\u001b[0m\u001b[1;33m,\u001b[0m \u001b[0maxis\u001b[0m\u001b[1;33m,\u001b[0m \u001b[0mdtype\u001b[0m\u001b[1;33m,\u001b[0m \u001b[0mout\u001b[0m\u001b[1;33m,\u001b[0m \u001b[0mkeepdims\u001b[0m\u001b[1;33m)\u001b[0m\u001b[1;33m\u001b[0m\u001b[0m\n\u001b[0m\u001b[0;32m     33\u001b[0m \u001b[1;33m\u001b[0m\u001b[0m\n\u001b[0;32m     34\u001b[0m \u001b[1;32mdef\u001b[0m \u001b[0m_prod\u001b[0m\u001b[1;33m(\u001b[0m\u001b[0ma\u001b[0m\u001b[1;33m,\u001b[0m \u001b[0maxis\u001b[0m\u001b[1;33m=\u001b[0m\u001b[1;32mNone\u001b[0m\u001b[1;33m,\u001b[0m \u001b[0mdtype\u001b[0m\u001b[1;33m=\u001b[0m\u001b[1;32mNone\u001b[0m\u001b[1;33m,\u001b[0m \u001b[0mout\u001b[0m\u001b[1;33m=\u001b[0m\u001b[1;32mNone\u001b[0m\u001b[1;33m,\u001b[0m \u001b[0mkeepdims\u001b[0m\u001b[1;33m=\u001b[0m\u001b[1;32mFalse\u001b[0m\u001b[1;33m)\u001b[0m\u001b[1;33m:\u001b[0m\u001b[1;33m\u001b[0m\u001b[0m\n",
      "\u001b[1;31mKeyboardInterrupt\u001b[0m: "
     ]
    }
   ],
   "source": [
    "res = propagate_labels(airport_to_label, airport_labeled, adjacency, airportsID) "
   ]
  },
  {
   "cell_type": "code",
   "execution_count": 172,
   "metadata": {},
   "outputs": [
    {
     "data": {
      "text/html": [
       "<div>\n",
       "<style scoped>\n",
       "    .dataframe tbody tr th:only-of-type {\n",
       "        vertical-align: middle;\n",
       "    }\n",
       "\n",
       "    .dataframe tbody tr th {\n",
       "        vertical-align: top;\n",
       "    }\n",
       "\n",
       "    .dataframe thead th {\n",
       "        text-align: right;\n",
       "    }\n",
       "</style>\n",
       "<table border=\"1\" class=\"dataframe\">\n",
       "  <thead>\n",
       "    <tr style=\"text-align: right;\">\n",
       "      <th></th>\n",
       "      <th>Alliance</th>\n",
       "      <th>Country</th>\n",
       "    </tr>\n",
       "    <tr>\n",
       "      <th>Airport</th>\n",
       "      <th></th>\n",
       "      <th></th>\n",
       "    </tr>\n",
       "  </thead>\n",
       "  <tbody>\n",
       "    <tr>\n",
       "      <th>DME</th>\n",
       "      <td>One World</td>\n",
       "      <td>Russia</td>\n",
       "    </tr>\n",
       "    <tr>\n",
       "      <th>EGO</th>\n",
       "      <td>None</td>\n",
       "      <td>Russia</td>\n",
       "    </tr>\n",
       "    <tr>\n",
       "      <th>LED</th>\n",
       "      <td>SkyTeam</td>\n",
       "      <td>Russia</td>\n",
       "    </tr>\n",
       "    <tr>\n",
       "      <th>NBC</th>\n",
       "      <td>SkyTeam</td>\n",
       "      <td>Russia</td>\n",
       "    </tr>\n",
       "    <tr>\n",
       "      <th>UUA</th>\n",
       "      <td>None</td>\n",
       "      <td>Russia</td>\n",
       "    </tr>\n",
       "  </tbody>\n",
       "</table>\n",
       "</div>"
      ],
      "text/plain": [
       "          Alliance Country\n",
       "Airport                   \n",
       "DME      One World  Russia\n",
       "EGO           None  Russia\n",
       "LED        SkyTeam  Russia\n",
       "NBC        SkyTeam  Russia\n",
       "UUA           None  Russia"
      ]
     },
     "execution_count": 172,
     "metadata": {},
     "output_type": "execute_result"
    }
   ],
   "source": [
    "res.head()"
   ]
  },
  {
   "cell_type": "code",
   "execution_count": 176,
   "metadata": {},
   "outputs": [
    {
     "data": {
      "text/plain": [
       "Alliance    Star Alliance\n",
       "Country            Russia\n",
       "Name: UUA, dtype: object"
      ]
     },
     "execution_count": 176,
     "metadata": {},
     "output_type": "execute_result"
    }
   ],
   "source": [
    "airport_attribution.loc['UUA']"
   ]
  }
 ],
 "metadata": {
  "kernelspec": {
   "display_name": "Python 3",
   "language": "python",
   "name": "python3"
  },
  "language_info": {
   "codemirror_mode": {
    "name": "ipython",
    "version": 3
   },
   "file_extension": ".py",
   "mimetype": "text/x-python",
   "name": "python",
   "nbconvert_exporter": "python",
   "pygments_lexer": "ipython3",
   "version": "3.6.5"
  }
 },
 "nbformat": 4,
 "nbformat_minor": 2
}
